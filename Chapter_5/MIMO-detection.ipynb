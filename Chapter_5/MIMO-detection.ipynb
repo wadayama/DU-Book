{
 "cells": [
  {
   "cell_type": "markdown",
   "id": "6efaac1f-6691-42e6-86e6-f005a5bdeb34",
   "metadata": {},
   "source": [
    "# ニューラルネットーワークに基づく(実数)MIMO検出\n",
    "\n",
    "Copyright (c) 2022 Tadashi Wadayama  \n",
    "Released under the MIT license  \n",
    "https://opensource.org/licenses/mit-license.php"
   ]
  },
  {
   "cell_type": "code",
   "execution_count": 1,
   "id": "bd7dcec3-1add-49f9-b090-8eddea834977",
   "metadata": {},
   "outputs": [],
   "source": [
    "using LinearAlgebra\n",
    "using Plots\n",
    "gr()\n",
    "using Random\n",
    "Random.seed!(1)\n",
    "using Flux"
   ]
  },
  {
   "cell_type": "markdown",
   "id": "a98dc6db-c796-4628-abff-43acd7d4c53d",
   "metadata": {},
   "source": [
    "### グローバル変数の設定"
   ]
  },
  {
   "cell_type": "code",
   "execution_count": 2,
   "id": "a9474368-8bcf-4268-9771-27a9492928cb",
   "metadata": {},
   "outputs": [
    {
     "data": {
      "text/plain": [
       "0.01"
      ]
     },
     "execution_count": 2,
     "metadata": {},
     "output_type": "execute_result"
    }
   ],
   "source": [
    "K = 50 \n",
    "noise_std = 0.75\n",
    "n = 4\n",
    "h = 50\n",
    "H = randn(n,n)\n",
    "adam_lr = 0.01"
   ]
  },
  {
   "cell_type": "code",
   "execution_count": 3,
   "id": "8193b35f-39a5-49bb-b789-fa6e4129c0dd",
   "metadata": {},
   "outputs": [
    {
     "name": "stdout",
     "output_type": "stream",
     "text": [
      "[-1.1886800049871964 0.4041521072069755 -0.6774167737228607 -0.4069644601387791; 0.7878269862203976 -0.10357598296850325 -0.13561837074286126 -0.06886416086215355; 1.1780259137155593 0.5953191566843961 -0.10787034449583965 0.6400915308449808; 0.3855116016279269 0.45547048325456163 0.7183315170355797 -0.10213552217354001]\n"
     ]
    }
   ],
   "source": [
    "println(H)"
   ]
  },
  {
   "cell_type": "markdown",
   "id": "656ed6f6-d03f-4477-bd9b-d151afd23567",
   "metadata": {},
   "source": [
    "### ミニバッチ生成関数"
   ]
  },
  {
   "cell_type": "code",
   "execution_count": 4,
   "id": "22a7d994-010d-4c83-8064-15fcb1fca1e0",
   "metadata": {},
   "outputs": [
    {
     "data": {
      "text/plain": [
       "mini_batch (generic function with 1 method)"
      ]
     },
     "execution_count": 4,
     "metadata": {},
     "output_type": "execute_result"
    }
   ],
   "source": [
    "function mini_batch(K)\n",
    "    x = 1.0 .- 2.0*rand(0:1, n, K)\n",
    "    y = H*x + noise_std*randn(n, K)\n",
    "    return x,y\n",
    "end"
   ]
  },
  {
   "cell_type": "markdown",
   "id": "2b8cafb8-5cbb-453c-a1fa-7d036021968d",
   "metadata": {},
   "source": [
    "### ネットワーク構造の定義"
   ]
  },
  {
   "cell_type": "code",
   "execution_count": 5,
   "id": "0f6fc909-001c-4ae5-b432-d4ccb67dc2c7",
   "metadata": {},
   "outputs": [
    {
     "data": {
      "text/plain": [
       "detector (generic function with 1 method)"
      ]
     },
     "execution_count": 5,
     "metadata": {},
     "output_type": "execute_result"
    }
   ],
   "source": [
    "layer1 = Dense(n, h) \n",
    "layer2 = Dense(h, h) \n",
    "layer3 = Dense(h, n) \n",
    "function detector(x)\n",
    "    x = relu.(layer1(x))\n",
    "    x = relu.(layer2(x))\n",
    "    x = tanh.(layer3(x))\n",
    "    return x\n",
    "end"
   ]
  },
  {
   "cell_type": "markdown",
   "id": "80128f40-b148-4dae-a52e-14510611f96f",
   "metadata": {},
   "source": [
    "### 学習プロセス"
   ]
  },
  {
   "cell_type": "code",
   "execution_count": 6,
   "id": "eb73b0b9-703b-4c70-b50e-de69a9bc5d78",
   "metadata": {},
   "outputs": [
    {
     "name": "stdout",
     "output_type": "stream",
     "text": [
      "62.14068795016006\n",
      "60.018315089408155\n",
      "89.26857220126797\n",
      "65.1438902637938\n",
      "75.32398886423107\n"
     ]
    }
   ],
   "source": [
    "opt = Flux.ADAM(adam_lr) \n",
    "train_itr = 500\n",
    "loss(x,y) = norm(x-y)^2\n",
    "\n",
    "ps = Flux.params(layer1, layer2, layer3)\n",
    "for i in 1:train_itr\n",
    "    x,y = mini_batch(K)\n",
    "    gs = Flux.gradient(ps) do\n",
    "        x̂ = detector(y)\n",
    "        loss(x, x̂)\n",
    "    end\n",
    "    Flux.Optimise.update!(opt, ps, gs)\n",
    "    if i % 100 == 0\n",
    "        x,y = mini_batch(K)\n",
    "        x̂ = detector(y)\n",
    "        println(loss(x, x̂))\n",
    "    end\n",
    "end"
   ]
  },
  {
   "cell_type": "markdown",
   "id": "03f631b1-bd97-4bf1-b345-f01b4f6c6a33",
   "metadata": {},
   "source": [
    "### シンボル誤り率を測定する (ニューラル推定器)"
   ]
  },
  {
   "cell_type": "code",
   "execution_count": 7,
   "id": "f5853a42-df94-46bc-9d46-be4eea72e615",
   "metadata": {},
   "outputs": [
    {
     "name": "stdout",
     "output_type": "stream",
     "text": [
      "total_syms = 200000\n",
      "error_syms = 22899\n",
      "symbols error rate = 0.114495\n"
     ]
    }
   ],
   "source": [
    "total_syms = 0\n",
    "error_syms = 0\n",
    "num_loops = 1000\n",
    "\n",
    "for i in 1:num_loops\n",
    "    x, y = mini_batch(K)\n",
    "    x̂ = detector(y)\n",
    "    total_syms += n*K\n",
    "    error_syms += sum(sign.(x̂) .!= x)\n",
    "end\n",
    "println(\"total_syms = \", total_syms)\n",
    "println(\"error_syms = \", error_syms)\n",
    "println(\"symbols error rate = \", error_syms/total_syms)"
   ]
  },
  {
   "cell_type": "markdown",
   "id": "f25bd212-25b9-4b2c-be61-3b576a295d09",
   "metadata": {},
   "source": [
    "### シンボル誤り率を測定する (ZF推定器)"
   ]
  },
  {
   "cell_type": "code",
   "execution_count": 8,
   "id": "56e95965-295c-47aa-b10d-a3cada28ea92",
   "metadata": {},
   "outputs": [
    {
     "name": "stdout",
     "output_type": "stream",
     "text": [
      "total_syms = 200000\n",
      "error_syms = 31193\n",
      "symbols error rate = 0.155965\n"
     ]
    }
   ],
   "source": [
    "total_syms = 0\n",
    "error_syms = 0\n",
    "num_loops = 1000\n",
    "Hinv = inv(H)\n",
    "for i in 1:num_loops\n",
    "    x, y = mini_batch(K)\n",
    "    x̂ = Hinv*y\n",
    "    total_syms += n*K\n",
    "    error_syms += sum(sign.(x̂) .!= x)\n",
    "end\n",
    "println(\"total_syms = \", total_syms)\n",
    "println(\"error_syms = \", error_syms)\n",
    "println(\"symbols error rate = \", error_syms/total_syms)"
   ]
  },
  {
   "cell_type": "code",
   "execution_count": null,
   "id": "08274bb1-e4fe-4eb4-bb05-c70ec70f7d31",
   "metadata": {},
   "outputs": [],
   "source": []
  }
 ],
 "metadata": {
  "kernelspec": {
   "display_name": "Julia 1.8.2",
   "language": "julia",
   "name": "julia-1.8"
  },
  "language_info": {
   "file_extension": ".jl",
   "mimetype": "application/julia",
   "name": "julia",
   "version": "1.8.2"
  }
 },
 "nbformat": 4,
 "nbformat_minor": 5
}
