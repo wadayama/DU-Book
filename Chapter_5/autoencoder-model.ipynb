{
 "cells": [
  {
   "cell_type": "markdown",
   "id": "2b6c942e-c9ee-42bc-950b-7a4c716cbff3",
   "metadata": {},
   "source": [
    "# 自己符号化器で通信システム(AWGN通信路)をモデリングする\n",
    "\n",
    "Copyright (c) 2022 Tadashi Wadayama  \n",
    "Released under the MIT license  \n",
    "https://opensource.org/licenses/mit-license.php"
   ]
  },
  {
   "cell_type": "code",
   "execution_count": 1,
   "id": "ca0f403e-9549-46c4-a478-ee3e96326b41",
   "metadata": {},
   "outputs": [],
   "source": [
    "using LinearAlgebra\n",
    "using Plots\n",
    "gr()\n",
    "using Random\n",
    "Random.seed!(1)\n",
    "using Flux"
   ]
  },
  {
   "cell_type": "markdown",
   "id": "e116429a-df31-412d-a3ee-6eb735fdcfc2",
   "metadata": {},
   "source": [
    "### グローバル変数の設定"
   ]
  },
  {
   "cell_type": "code",
   "execution_count": 2,
   "id": "38201226-bcf3-4c53-be6b-de932567da85",
   "metadata": {},
   "outputs": [
    {
     "data": {
      "text/plain": [
       "0.1"
      ]
     },
     "execution_count": 2,
     "metadata": {},
     "output_type": "execute_result"
    }
   ],
   "source": [
    "M = 32\n",
    "K = 100\n",
    "num_hidden_units = 10 \n",
    "sigma = 0.1"
   ]
  },
  {
   "cell_type": "markdown",
   "id": "92271295-ef57-47c8-ae23-9bea30d43147",
   "metadata": {},
   "source": [
    "### ミニバッチ生成関数"
   ]
  },
  {
   "cell_type": "code",
   "execution_count": 3,
   "id": "58ab5a6b-f332-4c21-b467-dd0e0d99054d",
   "metadata": {},
   "outputs": [
    {
     "data": {
      "text/plain": [
       "mini_batch (generic function with 1 method)"
      ]
     },
     "execution_count": 3,
     "metadata": {},
     "output_type": "execute_result"
    }
   ],
   "source": [
    "function mini_batch(K)\n",
    "    r = zeros(M, K)\n",
    "    for j in 1:K\n",
    "        r[rand(1:M),j] = 1\n",
    "    end\n",
    "    return r\n",
    "end"
   ]
  },
  {
   "cell_type": "markdown",
   "id": "5cc8922c-0708-4215-84b2-0f0a5986eab5",
   "metadata": {},
   "source": [
    "### 全結合層の定義"
   ]
  },
  {
   "cell_type": "code",
   "execution_count": 4,
   "id": "90af95f5-0bd2-45ff-91ca-fc373dc3ee40",
   "metadata": {},
   "outputs": [
    {
     "data": {
      "text/plain": [
       "Dense(10 => 32)     \u001b[90m# 352 parameters\u001b[39m"
      ]
     },
     "execution_count": 4,
     "metadata": {},
     "output_type": "execute_result"
    }
   ],
   "source": [
    "enc1 = Dense(M, num_hidden_units) \n",
    "enc2 = Dense(num_hidden_units, 2) \n",
    "dec2 = Dense(2, num_hidden_units) \n",
    "dec1 = Dense(num_hidden_units, M) "
   ]
  },
  {
   "cell_type": "markdown",
   "id": "4c31ec34-bb0b-4359-8634-01a322579181",
   "metadata": {},
   "source": [
    "### 自己符号化器に基づく通信路モデル"
   ]
  },
  {
   "cell_type": "code",
   "execution_count": 5,
   "id": "d0c8d2c6-a0de-443d-bb72-79d50f513d48",
   "metadata": {},
   "outputs": [
    {
     "data": {
      "text/plain": [
       "channel_model (generic function with 1 method)"
      ]
     },
     "execution_count": 5,
     "metadata": {},
     "output_type": "execute_result"
    }
   ],
   "source": [
    "function encoder(x, normalizer)\n",
    "    x = relu.(enc1(x))\n",
    "    x = enc2(x)\n",
    "    x = normalizer(x)\n",
    "    return x\n",
    "end\n",
    "function channel_model(x, normalizer)\n",
    "    x = encoder(x, normalizer)\n",
    "    y = x + sigma*randn(2, K)\n",
    "    z = relu.(dec2(y))\n",
    "    z = softmax(dec1(z))\n",
    "    return z\n",
    "end"
   ]
  },
  {
   "cell_type": "markdown",
   "id": "906b887b-3269-4414-bcbf-0ad1d7b49129",
   "metadata": {},
   "source": [
    "### 学習プロセス (ピーク電力制約)"
   ]
  },
  {
   "cell_type": "code",
   "execution_count": 6,
   "id": "bb0dd564-a63c-4278-839b-7cd866ad836c",
   "metadata": {},
   "outputs": [
    {
     "name": "stdout",
     "output_type": "stream",
     "text": [
      "71.03284346917788\n",
      "50.96091523643422\n",
      "46.08712286133011\n",
      "36.807068147777095\n",
      "29.797275942877327\n",
      "31.577055520687356\n",
      "25.958810889168728\n",
      "26.023080598048267\n",
      "23.457512201670582\n",
      "29.151956422380714\n",
      "13.663317848306628\n",
      "18.651306395314478\n",
      "25.45185583014956\n",
      "21.07113623123997\n",
      "20.20877341482326\n",
      "23.83864693656339\n",
      "19.209363511622172\n",
      "22.87665140629527\n",
      "20.51624039029669\n",
      "25.106149812934795\n",
      "20.665838201321357\n",
      "22.053667043679916\n",
      "19.890692876194983\n",
      "25.01435000916712\n",
      "14.800485215364093\n",
      "20.70740735081152\n",
      "15.935581697008155\n",
      "27.03673414369254\n",
      "19.33055903490132\n",
      "17.53843253595421\n",
      "28.260921551878997\n",
      "15.758063638543534\n",
      "22.67367948651518\n",
      "19.29902112417985\n",
      "17.895020970122776\n",
      "28.121821577653513\n",
      "20.02147559512132\n",
      "17.420691087318428\n",
      "20.597792673083948\n",
      "19.627607480309937\n",
      "15.287891983482279\n",
      "21.38327549231044\n",
      "20.45877477983275\n",
      "16.37239912471882\n",
      "12.343886505372499\n",
      "26.009074287542912\n",
      "17.89610020121826\n",
      "22.689122543404263\n",
      "24.499041974672966\n",
      "18.860041805705443\n"
     ]
    }
   ],
   "source": [
    "opt = Flux.ADAM(1e-2) \n",
    "train_itr = 5000\n",
    "loss(x,y) = norm(x-y)^2\n",
    "peak_const(x) = x/sqrt(maximum(sum(x.^2,dims=1)))\n",
    "ps = Flux.params(enc1,enc2,dec1,dec2)\n",
    "for i in 1:train_itr\n",
    "    x = mini_batch(K)\n",
    "    gs = Flux.gradient(ps) do\n",
    "        x̂ = channel_model(x, peak_const)\n",
    "        loss(x, x̂)\n",
    "    end\n",
    "    Flux.Optimise.update!(opt, ps, gs)\n",
    "    if i % 100 == 0\n",
    "        x = mini_batch(K)\n",
    "        x̂ = channel_model(x, peak_const)\n",
    "        println(loss(x, x̂))\n",
    "    end\n",
    "end"
   ]
  },
  {
   "cell_type": "markdown",
   "id": "a5f7f75c-4bc4-40db-aa8d-cc6f1c528ea2",
   "metadata": {},
   "source": [
    "### 学習された信号点配置の表示"
   ]
  },
  {
   "cell_type": "code",
   "execution_count": 7,
   "id": "7936335c-8613-4b59-958e-8bb6d9884a12",
   "metadata": {},
   "outputs": [
    {
     "data": {
      "image/svg+xml": [
       "<?xml version=\"1.0\" encoding=\"utf-8\"?>\n",
       "<svg xmlns=\"http://www.w3.org/2000/svg\" xmlns:xlink=\"http://www.w3.org/1999/xlink\" width=\"600\" height=\"400\" viewBox=\"0 0 2400 1600\">\n",
       "<defs>\n",
       "  <clipPath id=\"clip820\">\n",
       "    <rect x=\"0\" y=\"0\" width=\"2400\" height=\"1600\"/>\n",
       "  </clipPath>\n",
       "</defs>\n",
       "<path clip-path=\"url(#clip820)\" d=\"\n",
       "M0 1600 L2400 1600 L2400 0 L0 0  Z\n",
       "  \" fill=\"#ffffff\" fill-rule=\"evenodd\" fill-opacity=\"1\"/>\n",
       "<defs>\n",
       "  <clipPath id=\"clip821\">\n",
       "    <rect x=\"480\" y=\"0\" width=\"1681\" height=\"1600\"/>\n",
       "  </clipPath>\n",
       "</defs>\n",
       "<path clip-path=\"url(#clip820)\" d=\"\n",
       "M553.744 1486.45 L1992.95 1486.45 L1992.95 47.2441 L553.744 47.2441  Z\n",
       "  \" fill=\"#ffffff\" fill-rule=\"evenodd\" fill-opacity=\"1\"/>\n",
       "<defs>\n",
       "  <clipPath id=\"clip822\">\n",
       "    <rect x=\"553\" y=\"47\" width=\"1440\" height=\"1440\"/>\n",
       "  </clipPath>\n",
       "</defs>\n",
       "<polyline clip-path=\"url(#clip822)\" style=\"stroke:#000000; stroke-linecap:round; stroke-linejoin:round; stroke-width:2; stroke-opacity:0.1; fill:none\" points=\"\n",
       "  553.744,1486.45 553.744,47.2441 \n",
       "  \"/>\n",
       "<polyline clip-path=\"url(#clip822)\" style=\"stroke:#000000; stroke-linecap:round; stroke-linejoin:round; stroke-width:2; stroke-opacity:0.1; fill:none\" points=\"\n",
       "  793.611,1486.45 793.611,47.2441 \n",
       "  \"/>\n",
       "<polyline clip-path=\"url(#clip822)\" style=\"stroke:#000000; stroke-linecap:round; stroke-linejoin:round; stroke-width:2; stroke-opacity:0.1; fill:none\" points=\"\n",
       "  1033.48,1486.45 1033.48,47.2441 \n",
       "  \"/>\n",
       "<polyline clip-path=\"url(#clip822)\" style=\"stroke:#000000; stroke-linecap:round; stroke-linejoin:round; stroke-width:2; stroke-opacity:0.1; fill:none\" points=\"\n",
       "  1273.35,1486.45 1273.35,47.2441 \n",
       "  \"/>\n",
       "<polyline clip-path=\"url(#clip822)\" style=\"stroke:#000000; stroke-linecap:round; stroke-linejoin:round; stroke-width:2; stroke-opacity:0.1; fill:none\" points=\"\n",
       "  1513.21,1486.45 1513.21,47.2441 \n",
       "  \"/>\n",
       "<polyline clip-path=\"url(#clip822)\" style=\"stroke:#000000; stroke-linecap:round; stroke-linejoin:round; stroke-width:2; stroke-opacity:0.1; fill:none\" points=\"\n",
       "  1753.08,1486.45 1753.08,47.2441 \n",
       "  \"/>\n",
       "<polyline clip-path=\"url(#clip822)\" style=\"stroke:#000000; stroke-linecap:round; stroke-linejoin:round; stroke-width:2; stroke-opacity:0.1; fill:none\" points=\"\n",
       "  1992.95,1486.45 1992.95,47.2441 \n",
       "  \"/>\n",
       "<polyline clip-path=\"url(#clip820)\" style=\"stroke:#000000; stroke-linecap:round; stroke-linejoin:round; stroke-width:4; stroke-opacity:1; fill:none\" points=\"\n",
       "  553.744,1486.45 1992.95,1486.45 \n",
       "  \"/>\n",
       "<polyline clip-path=\"url(#clip820)\" style=\"stroke:#000000; stroke-linecap:round; stroke-linejoin:round; stroke-width:4; stroke-opacity:1; fill:none\" points=\"\n",
       "  553.744,1486.45 553.744,1467.55 \n",
       "  \"/>\n",
       "<polyline clip-path=\"url(#clip820)\" style=\"stroke:#000000; stroke-linecap:round; stroke-linejoin:round; stroke-width:4; stroke-opacity:1; fill:none\" points=\"\n",
       "  793.611,1486.45 793.611,1467.55 \n",
       "  \"/>\n",
       "<polyline clip-path=\"url(#clip820)\" style=\"stroke:#000000; stroke-linecap:round; stroke-linejoin:round; stroke-width:4; stroke-opacity:1; fill:none\" points=\"\n",
       "  1033.48,1486.45 1033.48,1467.55 \n",
       "  \"/>\n",
       "<polyline clip-path=\"url(#clip820)\" style=\"stroke:#000000; stroke-linecap:round; stroke-linejoin:round; stroke-width:4; stroke-opacity:1; fill:none\" points=\"\n",
       "  1273.35,1486.45 1273.35,1467.55 \n",
       "  \"/>\n",
       "<polyline clip-path=\"url(#clip820)\" style=\"stroke:#000000; stroke-linecap:round; stroke-linejoin:round; stroke-width:4; stroke-opacity:1; fill:none\" points=\"\n",
       "  1513.21,1486.45 1513.21,1467.55 \n",
       "  \"/>\n",
       "<polyline clip-path=\"url(#clip820)\" style=\"stroke:#000000; stroke-linecap:round; stroke-linejoin:round; stroke-width:4; stroke-opacity:1; fill:none\" points=\"\n",
       "  1753.08,1486.45 1753.08,1467.55 \n",
       "  \"/>\n",
       "<polyline clip-path=\"url(#clip820)\" style=\"stroke:#000000; stroke-linecap:round; stroke-linejoin:round; stroke-width:4; stroke-opacity:1; fill:none\" points=\"\n",
       "  1992.95,1486.45 1992.95,1467.55 \n",
       "  \"/>\n",
       "<path clip-path=\"url(#clip820)\" d=\"M500.77 1532.02 L530.446 1532.02 L530.446 1535.95 L500.77 1535.95 L500.77 1532.02 Z\" fill=\"#000000\" fill-rule=\"evenodd\" fill-opacity=\"1\" /><path clip-path=\"url(#clip820)\" d=\"M541.348 1544.91 L548.987 1544.91 L548.987 1518.55 L540.677 1520.21 L540.677 1515.95 L548.941 1514.29 L553.617 1514.29 L553.617 1544.91 L561.256 1544.91 L561.256 1548.85 L541.348 1548.85 L541.348 1544.91 Z\" fill=\"#000000\" fill-rule=\"evenodd\" fill-opacity=\"1\" /><path clip-path=\"url(#clip820)\" d=\"M570.7 1542.97 L575.584 1542.97 L575.584 1548.85 L570.7 1548.85 L570.7 1542.97 Z\" fill=\"#000000\" fill-rule=\"evenodd\" fill-opacity=\"1\" /><path clip-path=\"url(#clip820)\" d=\"M585.816 1514.29 L604.172 1514.29 L604.172 1518.22 L590.098 1518.22 L590.098 1526.7 Q591.117 1526.35 592.135 1526.19 Q593.154 1526 594.172 1526 Q599.959 1526 603.339 1529.17 Q606.718 1532.34 606.718 1537.76 Q606.718 1543.34 603.246 1546.44 Q599.774 1549.52 593.454 1549.52 Q591.279 1549.52 589.01 1549.15 Q586.765 1548.78 584.357 1548.04 L584.357 1543.34 Q586.441 1544.47 588.663 1545.03 Q590.885 1545.58 593.362 1545.58 Q597.367 1545.58 599.704 1543.48 Q602.042 1541.37 602.042 1537.76 Q602.042 1534.15 599.704 1532.04 Q597.367 1529.94 593.362 1529.94 Q591.487 1529.94 589.612 1530.35 Q587.76 1530.77 585.816 1531.65 L585.816 1514.29 Z\" fill=\"#000000\" fill-rule=\"evenodd\" fill-opacity=\"1\" /><path clip-path=\"url(#clip820)\" d=\"M740.139 1532.02 L769.815 1532.02 L769.815 1535.95 L740.139 1535.95 L740.139 1532.02 Z\" fill=\"#000000\" fill-rule=\"evenodd\" fill-opacity=\"1\" /><path clip-path=\"url(#clip820)\" d=\"M780.718 1544.91 L788.357 1544.91 L788.357 1518.55 L780.047 1520.21 L780.047 1515.95 L788.31 1514.29 L792.986 1514.29 L792.986 1544.91 L800.625 1544.91 L800.625 1548.85 L780.718 1548.85 L780.718 1544.91 Z\" fill=\"#000000\" fill-rule=\"evenodd\" fill-opacity=\"1\" /><path clip-path=\"url(#clip820)\" d=\"M810.07 1542.97 L814.954 1542.97 L814.954 1548.85 L810.07 1548.85 L810.07 1542.97 Z\" fill=\"#000000\" fill-rule=\"evenodd\" fill-opacity=\"1\" /><path clip-path=\"url(#clip820)\" d=\"M835.139 1517.37 Q831.528 1517.37 829.699 1520.93 Q827.894 1524.47 827.894 1531.6 Q827.894 1538.71 829.699 1542.27 Q831.528 1545.82 835.139 1545.82 Q838.773 1545.82 840.579 1542.27 Q842.407 1538.71 842.407 1531.6 Q842.407 1524.47 840.579 1520.93 Q838.773 1517.37 835.139 1517.37 M835.139 1513.66 Q840.949 1513.66 844.005 1518.27 Q847.083 1522.85 847.083 1531.6 Q847.083 1540.33 844.005 1544.94 Q840.949 1549.52 835.139 1549.52 Q829.329 1549.52 826.25 1544.94 Q823.195 1540.33 823.195 1531.6 Q823.195 1522.85 826.25 1518.27 Q829.329 1513.66 835.139 1513.66 Z\" fill=\"#000000\" fill-rule=\"evenodd\" fill-opacity=\"1\" /><path clip-path=\"url(#clip820)\" d=\"M980.504 1532.02 L1010.18 1532.02 L1010.18 1535.95 L980.504 1535.95 L980.504 1532.02 Z\" fill=\"#000000\" fill-rule=\"evenodd\" fill-opacity=\"1\" /><path clip-path=\"url(#clip820)\" d=\"M1030.27 1517.37 Q1026.66 1517.37 1024.83 1520.93 Q1023.03 1524.47 1023.03 1531.6 Q1023.03 1538.71 1024.83 1542.27 Q1026.66 1545.82 1030.27 1545.82 Q1033.91 1545.82 1035.71 1542.27 Q1037.54 1538.71 1037.54 1531.6 Q1037.54 1524.47 1035.71 1520.93 Q1033.91 1517.37 1030.27 1517.37 M1030.27 1513.66 Q1036.08 1513.66 1039.14 1518.27 Q1042.22 1522.85 1042.22 1531.6 Q1042.22 1540.33 1039.14 1544.94 Q1036.08 1549.52 1030.27 1549.52 Q1024.46 1549.52 1021.38 1544.94 Q1018.33 1540.33 1018.33 1531.6 Q1018.33 1522.85 1021.38 1518.27 Q1024.46 1513.66 1030.27 1513.66 Z\" fill=\"#000000\" fill-rule=\"evenodd\" fill-opacity=\"1\" /><path clip-path=\"url(#clip820)\" d=\"M1050.43 1542.97 L1055.32 1542.97 L1055.32 1548.85 L1050.43 1548.85 L1050.43 1542.97 Z\" fill=\"#000000\" fill-rule=\"evenodd\" fill-opacity=\"1\" /><path clip-path=\"url(#clip820)\" d=\"M1065.55 1514.29 L1083.91 1514.29 L1083.91 1518.22 L1069.83 1518.22 L1069.83 1526.7 Q1070.85 1526.35 1071.87 1526.19 Q1072.89 1526 1073.91 1526 Q1079.69 1526 1083.07 1529.17 Q1086.45 1532.34 1086.45 1537.76 Q1086.45 1543.34 1082.98 1546.44 Q1079.51 1549.52 1073.19 1549.52 Q1071.01 1549.52 1068.74 1549.15 Q1066.5 1548.78 1064.09 1548.04 L1064.09 1543.34 Q1066.18 1544.47 1068.4 1545.03 Q1070.62 1545.58 1073.1 1545.58 Q1077.1 1545.58 1079.44 1543.48 Q1081.78 1541.37 1081.78 1537.76 Q1081.78 1534.15 1079.44 1532.04 Q1077.1 1529.94 1073.1 1529.94 Q1071.22 1529.94 1069.35 1530.35 Q1067.49 1530.77 1065.55 1531.65 L1065.55 1514.29 Z\" fill=\"#000000\" fill-rule=\"evenodd\" fill-opacity=\"1\" /><path clip-path=\"url(#clip820)\" d=\"M1250.73 1517.37 Q1247.12 1517.37 1245.29 1520.93 Q1243.49 1524.47 1243.49 1531.6 Q1243.49 1538.71 1245.29 1542.27 Q1247.12 1545.82 1250.73 1545.82 Q1254.36 1545.82 1256.17 1542.27 Q1258 1538.71 1258 1531.6 Q1258 1524.47 1256.17 1520.93 Q1254.36 1517.37 1250.73 1517.37 M1250.73 1513.66 Q1256.54 1513.66 1259.6 1518.27 Q1262.67 1522.85 1262.67 1531.6 Q1262.67 1540.33 1259.6 1544.94 Q1256.54 1549.52 1250.73 1549.52 Q1244.92 1549.52 1241.84 1544.94 Q1238.79 1540.33 1238.79 1531.6 Q1238.79 1522.85 1241.84 1518.27 Q1244.92 1513.66 1250.73 1513.66 Z\" fill=\"#000000\" fill-rule=\"evenodd\" fill-opacity=\"1\" /><path clip-path=\"url(#clip820)\" d=\"M1270.89 1542.97 L1275.78 1542.97 L1275.78 1548.85 L1270.89 1548.85 L1270.89 1542.97 Z\" fill=\"#000000\" fill-rule=\"evenodd\" fill-opacity=\"1\" /><path clip-path=\"url(#clip820)\" d=\"M1295.96 1517.37 Q1292.35 1517.37 1290.52 1520.93 Q1288.72 1524.47 1288.72 1531.6 Q1288.72 1538.71 1290.52 1542.27 Q1292.35 1545.82 1295.96 1545.82 Q1299.6 1545.82 1301.4 1542.27 Q1303.23 1538.71 1303.23 1531.6 Q1303.23 1524.47 1301.4 1520.93 Q1299.6 1517.37 1295.96 1517.37 M1295.96 1513.66 Q1301.77 1513.66 1304.83 1518.27 Q1307.91 1522.85 1307.91 1531.6 Q1307.91 1540.33 1304.83 1544.94 Q1301.77 1549.52 1295.96 1549.52 Q1290.15 1549.52 1287.07 1544.94 Q1284.02 1540.33 1284.02 1531.6 Q1284.02 1522.85 1287.07 1518.27 Q1290.15 1513.66 1295.96 1513.66 Z\" fill=\"#000000\" fill-rule=\"evenodd\" fill-opacity=\"1\" /><path clip-path=\"url(#clip820)\" d=\"M1491.1 1517.37 Q1487.48 1517.37 1485.66 1520.93 Q1483.85 1524.47 1483.85 1531.6 Q1483.85 1538.71 1485.66 1542.27 Q1487.48 1545.82 1491.1 1545.82 Q1494.73 1545.82 1496.54 1542.27 Q1498.36 1538.71 1498.36 1531.6 Q1498.36 1524.47 1496.54 1520.93 Q1494.73 1517.37 1491.1 1517.37 M1491.1 1513.66 Q1496.91 1513.66 1499.96 1518.27 Q1503.04 1522.85 1503.04 1531.6 Q1503.04 1540.33 1499.96 1544.94 Q1496.91 1549.52 1491.1 1549.52 Q1485.29 1549.52 1482.21 1544.94 Q1479.15 1540.33 1479.15 1531.6 Q1479.15 1522.85 1482.21 1518.27 Q1485.29 1513.66 1491.1 1513.66 Z\" fill=\"#000000\" fill-rule=\"evenodd\" fill-opacity=\"1\" /><path clip-path=\"url(#clip820)\" d=\"M1511.26 1542.97 L1516.14 1542.97 L1516.14 1548.85 L1511.26 1548.85 L1511.26 1542.97 Z\" fill=\"#000000\" fill-rule=\"evenodd\" fill-opacity=\"1\" /><path clip-path=\"url(#clip820)\" d=\"M1526.37 1514.29 L1544.73 1514.29 L1544.73 1518.22 L1530.66 1518.22 L1530.66 1526.7 Q1531.67 1526.35 1532.69 1526.19 Q1533.71 1526 1534.73 1526 Q1540.52 1526 1543.9 1529.17 Q1547.28 1532.34 1547.28 1537.76 Q1547.28 1543.34 1543.8 1546.44 Q1540.33 1549.52 1534.01 1549.52 Q1531.84 1549.52 1529.57 1549.15 Q1527.32 1548.78 1524.91 1548.04 L1524.91 1543.34 Q1527 1544.47 1529.22 1545.03 Q1531.44 1545.58 1533.92 1545.58 Q1537.92 1545.58 1540.26 1543.48 Q1542.6 1541.37 1542.6 1537.76 Q1542.6 1534.15 1540.26 1532.04 Q1537.92 1529.94 1533.92 1529.94 Q1532.04 1529.94 1530.17 1530.35 Q1528.32 1530.77 1526.37 1531.65 L1526.37 1514.29 Z\" fill=\"#000000\" fill-rule=\"evenodd\" fill-opacity=\"1\" /><path clip-path=\"url(#clip820)\" d=\"M1720.23 1544.91 L1727.87 1544.91 L1727.87 1518.55 L1719.56 1520.21 L1719.56 1515.95 L1727.83 1514.29 L1732.5 1514.29 L1732.5 1544.91 L1740.14 1544.91 L1740.14 1548.85 L1720.23 1548.85 L1720.23 1544.91 Z\" fill=\"#000000\" fill-rule=\"evenodd\" fill-opacity=\"1\" /><path clip-path=\"url(#clip820)\" d=\"M1749.59 1542.97 L1754.47 1542.97 L1754.47 1548.85 L1749.59 1548.85 L1749.59 1542.97 Z\" fill=\"#000000\" fill-rule=\"evenodd\" fill-opacity=\"1\" /><path clip-path=\"url(#clip820)\" d=\"M1774.65 1517.37 Q1771.04 1517.37 1769.21 1520.93 Q1767.41 1524.47 1767.41 1531.6 Q1767.41 1538.71 1769.21 1542.27 Q1771.04 1545.82 1774.65 1545.82 Q1778.29 1545.82 1780.09 1542.27 Q1781.92 1538.71 1781.92 1531.6 Q1781.92 1524.47 1780.09 1520.93 Q1778.29 1517.37 1774.65 1517.37 M1774.65 1513.66 Q1780.46 1513.66 1783.52 1518.27 Q1786.6 1522.85 1786.6 1531.6 Q1786.6 1540.33 1783.52 1544.94 Q1780.46 1549.52 1774.65 1549.52 Q1768.84 1549.52 1765.77 1544.94 Q1762.71 1540.33 1762.71 1531.6 Q1762.71 1522.85 1765.77 1518.27 Q1768.84 1513.66 1774.65 1513.66 Z\" fill=\"#000000\" fill-rule=\"evenodd\" fill-opacity=\"1\" /><path clip-path=\"url(#clip820)\" d=\"M1960.6 1544.91 L1968.24 1544.91 L1968.24 1518.55 L1959.93 1520.21 L1959.93 1515.95 L1968.19 1514.29 L1972.87 1514.29 L1972.87 1544.91 L1980.51 1544.91 L1980.51 1548.85 L1960.6 1548.85 L1960.6 1544.91 Z\" fill=\"#000000\" fill-rule=\"evenodd\" fill-opacity=\"1\" /><path clip-path=\"url(#clip820)\" d=\"M1989.95 1542.97 L1994.83 1542.97 L1994.83 1548.85 L1989.95 1548.85 L1989.95 1542.97 Z\" fill=\"#000000\" fill-rule=\"evenodd\" fill-opacity=\"1\" /><path clip-path=\"url(#clip820)\" d=\"M2005.07 1514.29 L2023.42 1514.29 L2023.42 1518.22 L2009.35 1518.22 L2009.35 1526.7 Q2010.37 1526.35 2011.39 1526.19 Q2012.4 1526 2013.42 1526 Q2019.21 1526 2022.59 1529.17 Q2025.97 1532.34 2025.97 1537.76 Q2025.97 1543.34 2022.5 1546.44 Q2019.02 1549.52 2012.7 1549.52 Q2010.53 1549.52 2008.26 1549.15 Q2006.01 1548.78 2003.61 1548.04 L2003.61 1543.34 Q2005.69 1544.47 2007.91 1545.03 Q2010.14 1545.58 2012.61 1545.58 Q2016.62 1545.58 2018.95 1543.48 Q2021.29 1541.37 2021.29 1537.76 Q2021.29 1534.15 2018.95 1532.04 Q2016.62 1529.94 2012.61 1529.94 Q2010.74 1529.94 2008.86 1530.35 Q2007.01 1530.77 2005.07 1531.65 L2005.07 1514.29 Z\" fill=\"#000000\" fill-rule=\"evenodd\" fill-opacity=\"1\" /><polyline clip-path=\"url(#clip822)\" style=\"stroke:#000000; stroke-linecap:round; stroke-linejoin:round; stroke-width:2; stroke-opacity:0.1; fill:none\" points=\"\n",
       "  553.744,1486.45 1992.95,1486.45 \n",
       "  \"/>\n",
       "<polyline clip-path=\"url(#clip822)\" style=\"stroke:#000000; stroke-linecap:round; stroke-linejoin:round; stroke-width:2; stroke-opacity:0.1; fill:none\" points=\"\n",
       "  553.744,1246.58 1992.95,1246.58 \n",
       "  \"/>\n",
       "<polyline clip-path=\"url(#clip822)\" style=\"stroke:#000000; stroke-linecap:round; stroke-linejoin:round; stroke-width:2; stroke-opacity:0.1; fill:none\" points=\"\n",
       "  553.744,1006.71 1992.95,1006.71 \n",
       "  \"/>\n",
       "<polyline clip-path=\"url(#clip822)\" style=\"stroke:#000000; stroke-linecap:round; stroke-linejoin:round; stroke-width:2; stroke-opacity:0.1; fill:none\" points=\"\n",
       "  553.744,766.846 1992.95,766.846 \n",
       "  \"/>\n",
       "<polyline clip-path=\"url(#clip822)\" style=\"stroke:#000000; stroke-linecap:round; stroke-linejoin:round; stroke-width:2; stroke-opacity:0.1; fill:none\" points=\"\n",
       "  553.744,526.979 1992.95,526.979 \n",
       "  \"/>\n",
       "<polyline clip-path=\"url(#clip822)\" style=\"stroke:#000000; stroke-linecap:round; stroke-linejoin:round; stroke-width:2; stroke-opacity:0.1; fill:none\" points=\"\n",
       "  553.744,287.111 1992.95,287.111 \n",
       "  \"/>\n",
       "<polyline clip-path=\"url(#clip822)\" style=\"stroke:#000000; stroke-linecap:round; stroke-linejoin:round; stroke-width:2; stroke-opacity:0.1; fill:none\" points=\"\n",
       "  553.744,47.2441 1992.95,47.2441 \n",
       "  \"/>\n",
       "<polyline clip-path=\"url(#clip820)\" style=\"stroke:#000000; stroke-linecap:round; stroke-linejoin:round; stroke-width:4; stroke-opacity:1; fill:none\" points=\"\n",
       "  553.744,1486.45 553.744,47.2441 \n",
       "  \"/>\n",
       "<polyline clip-path=\"url(#clip820)\" style=\"stroke:#000000; stroke-linecap:round; stroke-linejoin:round; stroke-width:4; stroke-opacity:1; fill:none\" points=\"\n",
       "  553.744,1486.45 566.342,1486.45 \n",
       "  \"/>\n",
       "<polyline clip-path=\"url(#clip820)\" style=\"stroke:#000000; stroke-linecap:round; stroke-linejoin:round; stroke-width:4; stroke-opacity:1; fill:none\" points=\"\n",
       "  553.744,1246.58 566.342,1246.58 \n",
       "  \"/>\n",
       "<polyline clip-path=\"url(#clip820)\" style=\"stroke:#000000; stroke-linecap:round; stroke-linejoin:round; stroke-width:4; stroke-opacity:1; fill:none\" points=\"\n",
       "  553.744,1006.71 566.342,1006.71 \n",
       "  \"/>\n",
       "<polyline clip-path=\"url(#clip820)\" style=\"stroke:#000000; stroke-linecap:round; stroke-linejoin:round; stroke-width:4; stroke-opacity:1; fill:none\" points=\"\n",
       "  553.744,766.846 566.342,766.846 \n",
       "  \"/>\n",
       "<polyline clip-path=\"url(#clip820)\" style=\"stroke:#000000; stroke-linecap:round; stroke-linejoin:round; stroke-width:4; stroke-opacity:1; fill:none\" points=\"\n",
       "  553.744,526.979 566.342,526.979 \n",
       "  \"/>\n",
       "<polyline clip-path=\"url(#clip820)\" style=\"stroke:#000000; stroke-linecap:round; stroke-linejoin:round; stroke-width:4; stroke-opacity:1; fill:none\" points=\"\n",
       "  553.744,287.111 566.342,287.111 \n",
       "  \"/>\n",
       "<polyline clip-path=\"url(#clip820)\" style=\"stroke:#000000; stroke-linecap:round; stroke-linejoin:round; stroke-width:4; stroke-opacity:1; fill:none\" points=\"\n",
       "  553.744,47.2441 566.342,47.2441 \n",
       "  \"/>\n",
       "<path clip-path=\"url(#clip820)\" d=\"M411.796 1486.9 L441.471 1486.9 L441.471 1490.83 L411.796 1490.83 L411.796 1486.9 Z\" fill=\"#000000\" fill-rule=\"evenodd\" fill-opacity=\"1\" /><path clip-path=\"url(#clip820)\" d=\"M452.374 1499.79 L460.013 1499.79 L460.013 1473.43 L451.703 1475.09 L451.703 1470.83 L459.967 1469.17 L464.642 1469.17 L464.642 1499.79 L472.281 1499.79 L472.281 1503.73 L452.374 1503.73 L452.374 1499.79 Z\" fill=\"#000000\" fill-rule=\"evenodd\" fill-opacity=\"1\" /><path clip-path=\"url(#clip820)\" d=\"M481.726 1497.85 L486.61 1497.85 L486.61 1503.73 L481.726 1503.73 L481.726 1497.85 Z\" fill=\"#000000\" fill-rule=\"evenodd\" fill-opacity=\"1\" /><path clip-path=\"url(#clip820)\" d=\"M496.841 1469.17 L515.198 1469.17 L515.198 1473.1 L501.124 1473.1 L501.124 1481.58 Q502.142 1481.23 503.161 1481.07 Q504.179 1480.88 505.198 1480.88 Q510.985 1480.88 514.364 1484.05 Q517.744 1487.22 517.744 1492.64 Q517.744 1498.22 514.272 1501.32 Q510.8 1504.4 504.48 1504.4 Q502.304 1504.4 500.036 1504.03 Q497.79 1503.66 495.383 1502.92 L495.383 1498.22 Q497.466 1499.35 499.689 1499.91 Q501.911 1500.46 504.388 1500.46 Q508.392 1500.46 510.73 1498.36 Q513.068 1496.25 513.068 1492.64 Q513.068 1489.03 510.73 1486.92 Q508.392 1484.82 504.388 1484.82 Q502.513 1484.82 500.638 1485.23 Q498.786 1485.65 496.841 1486.53 L496.841 1469.17 Z\" fill=\"#000000\" fill-rule=\"evenodd\" fill-opacity=\"1\" /><path clip-path=\"url(#clip820)\" d=\"M410.8 1247.03 L440.476 1247.03 L440.476 1250.97 L410.8 1250.97 L410.8 1247.03 Z\" fill=\"#000000\" fill-rule=\"evenodd\" fill-opacity=\"1\" /><path clip-path=\"url(#clip820)\" d=\"M451.379 1259.93 L459.018 1259.93 L459.018 1233.56 L450.707 1235.23 L450.707 1230.97 L458.971 1229.3 L463.647 1229.3 L463.647 1259.93 L471.286 1259.93 L471.286 1263.86 L451.379 1263.86 L451.379 1259.93 Z\" fill=\"#000000\" fill-rule=\"evenodd\" fill-opacity=\"1\" /><path clip-path=\"url(#clip820)\" d=\"M480.73 1257.98 L485.615 1257.98 L485.615 1263.86 L480.73 1263.86 L480.73 1257.98 Z\" fill=\"#000000\" fill-rule=\"evenodd\" fill-opacity=\"1\" /><path clip-path=\"url(#clip820)\" d=\"M505.8 1232.38 Q502.189 1232.38 500.36 1235.94 Q498.554 1239.49 498.554 1246.62 Q498.554 1253.72 500.36 1257.29 Q502.189 1260.83 505.8 1260.83 Q509.434 1260.83 511.239 1257.29 Q513.068 1253.72 513.068 1246.62 Q513.068 1239.49 511.239 1235.94 Q509.434 1232.38 505.8 1232.38 M505.8 1228.68 Q511.61 1228.68 514.665 1233.28 Q517.744 1237.87 517.744 1246.62 Q517.744 1255.34 514.665 1259.95 Q511.61 1264.53 505.8 1264.53 Q499.99 1264.53 496.911 1259.95 Q493.855 1255.34 493.855 1246.62 Q493.855 1237.87 496.911 1233.28 Q499.99 1228.68 505.8 1228.68 Z\" fill=\"#000000\" fill-rule=\"evenodd\" fill-opacity=\"1\" /><path clip-path=\"url(#clip820)\" d=\"M411.796 1007.16 L441.471 1007.16 L441.471 1011.1 L411.796 1011.1 L411.796 1007.16 Z\" fill=\"#000000\" fill-rule=\"evenodd\" fill-opacity=\"1\" /><path clip-path=\"url(#clip820)\" d=\"M461.564 992.512 Q457.953 992.512 456.124 996.077 Q454.318 999.618 454.318 1006.75 Q454.318 1013.85 456.124 1017.42 Q457.953 1020.96 461.564 1020.96 Q465.198 1020.96 467.004 1017.42 Q468.832 1013.85 468.832 1006.75 Q468.832 999.618 467.004 996.077 Q465.198 992.512 461.564 992.512 M461.564 988.808 Q467.374 988.808 470.43 993.415 Q473.508 997.998 473.508 1006.75 Q473.508 1015.47 470.43 1020.08 Q467.374 1024.66 461.564 1024.66 Q455.754 1024.66 452.675 1020.08 Q449.619 1015.47 449.619 1006.75 Q449.619 997.998 452.675 993.415 Q455.754 988.808 461.564 988.808 Z\" fill=\"#000000\" fill-rule=\"evenodd\" fill-opacity=\"1\" /><path clip-path=\"url(#clip820)\" d=\"M481.726 1018.11 L486.61 1018.11 L486.61 1023.99 L481.726 1023.99 L481.726 1018.11 Z\" fill=\"#000000\" fill-rule=\"evenodd\" fill-opacity=\"1\" /><path clip-path=\"url(#clip820)\" d=\"M496.841 989.433 L515.198 989.433 L515.198 993.368 L501.124 993.368 L501.124 1001.84 Q502.142 1001.49 503.161 1001.33 Q504.179 1001.15 505.198 1001.15 Q510.985 1001.15 514.364 1004.32 Q517.744 1007.49 517.744 1012.91 Q517.744 1018.48 514.272 1021.59 Q510.8 1024.66 504.48 1024.66 Q502.304 1024.66 500.036 1024.29 Q497.79 1023.92 495.383 1023.18 L495.383 1018.48 Q497.466 1019.62 499.689 1020.17 Q501.911 1020.73 504.388 1020.73 Q508.392 1020.73 510.73 1018.62 Q513.068 1016.52 513.068 1012.91 Q513.068 1009.29 510.73 1007.19 Q508.392 1005.08 504.388 1005.08 Q502.513 1005.08 500.638 1005.5 Q498.786 1005.91 496.841 1006.79 L496.841 989.433 Z\" fill=\"#000000\" fill-rule=\"evenodd\" fill-opacity=\"1\" /><path clip-path=\"url(#clip820)\" d=\"M460.568 752.645 Q456.957 752.645 455.129 756.209 Q453.323 759.751 453.323 766.881 Q453.323 773.987 455.129 777.552 Q456.957 781.094 460.568 781.094 Q464.203 781.094 466.008 777.552 Q467.837 773.987 467.837 766.881 Q467.837 759.751 466.008 756.209 Q464.203 752.645 460.568 752.645 M460.568 748.941 Q466.379 748.941 469.434 753.547 Q472.513 758.131 472.513 766.881 Q472.513 775.608 469.434 780.214 Q466.379 784.797 460.568 784.797 Q454.758 784.797 451.68 780.214 Q448.624 775.608 448.624 766.881 Q448.624 758.131 451.68 753.547 Q454.758 748.941 460.568 748.941 Z\" fill=\"#000000\" fill-rule=\"evenodd\" fill-opacity=\"1\" /><path clip-path=\"url(#clip820)\" d=\"M480.73 778.246 L485.615 778.246 L485.615 784.126 L480.73 784.126 L480.73 778.246 Z\" fill=\"#000000\" fill-rule=\"evenodd\" fill-opacity=\"1\" /><path clip-path=\"url(#clip820)\" d=\"M505.8 752.645 Q502.189 752.645 500.36 756.209 Q498.554 759.751 498.554 766.881 Q498.554 773.987 500.36 777.552 Q502.189 781.094 505.8 781.094 Q509.434 781.094 511.239 777.552 Q513.068 773.987 513.068 766.881 Q513.068 759.751 511.239 756.209 Q509.434 752.645 505.8 752.645 M505.8 748.941 Q511.61 748.941 514.665 753.547 Q517.744 758.131 517.744 766.881 Q517.744 775.608 514.665 780.214 Q511.61 784.797 505.8 784.797 Q499.99 784.797 496.911 780.214 Q493.855 775.608 493.855 766.881 Q493.855 758.131 496.911 753.547 Q499.99 748.941 505.8 748.941 Z\" fill=\"#000000\" fill-rule=\"evenodd\" fill-opacity=\"1\" /><path clip-path=\"url(#clip820)\" d=\"M461.564 512.777 Q457.953 512.777 456.124 516.342 Q454.318 519.884 454.318 527.013 Q454.318 534.12 456.124 537.685 Q457.953 541.226 461.564 541.226 Q465.198 541.226 467.004 537.685 Q468.832 534.12 468.832 527.013 Q468.832 519.884 467.004 516.342 Q465.198 512.777 461.564 512.777 M461.564 509.074 Q467.374 509.074 470.43 513.68 Q473.508 518.263 473.508 527.013 Q473.508 535.74 470.43 540.347 Q467.374 544.93 461.564 544.93 Q455.754 544.93 452.675 540.347 Q449.619 535.74 449.619 527.013 Q449.619 518.263 452.675 513.68 Q455.754 509.074 461.564 509.074 Z\" fill=\"#000000\" fill-rule=\"evenodd\" fill-opacity=\"1\" /><path clip-path=\"url(#clip820)\" d=\"M481.726 538.379 L486.61 538.379 L486.61 544.259 L481.726 544.259 L481.726 538.379 Z\" fill=\"#000000\" fill-rule=\"evenodd\" fill-opacity=\"1\" /><path clip-path=\"url(#clip820)\" d=\"M496.841 509.699 L515.198 509.699 L515.198 513.634 L501.124 513.634 L501.124 522.106 Q502.142 521.759 503.161 521.597 Q504.179 521.412 505.198 521.412 Q510.985 521.412 514.364 524.583 Q517.744 527.754 517.744 533.171 Q517.744 538.749 514.272 541.851 Q510.8 544.93 504.48 544.93 Q502.304 544.93 500.036 544.56 Q497.79 544.189 495.383 543.449 L495.383 538.749 Q497.466 539.884 499.689 540.439 Q501.911 540.995 504.388 540.995 Q508.392 540.995 510.73 538.888 Q513.068 536.782 513.068 533.171 Q513.068 529.56 510.73 527.453 Q508.392 525.347 504.388 525.347 Q502.513 525.347 500.638 525.763 Q498.786 526.18 496.841 527.06 L496.841 509.699 Z\" fill=\"#000000\" fill-rule=\"evenodd\" fill-opacity=\"1\" /><path clip-path=\"url(#clip820)\" d=\"M451.379 300.456 L459.018 300.456 L459.018 274.091 L450.707 275.757 L450.707 271.498 L458.971 269.831 L463.647 269.831 L463.647 300.456 L471.286 300.456 L471.286 304.391 L451.379 304.391 L451.379 300.456 Z\" fill=\"#000000\" fill-rule=\"evenodd\" fill-opacity=\"1\" /><path clip-path=\"url(#clip820)\" d=\"M480.73 298.512 L485.615 298.512 L485.615 304.391 L480.73 304.391 L480.73 298.512 Z\" fill=\"#000000\" fill-rule=\"evenodd\" fill-opacity=\"1\" /><path clip-path=\"url(#clip820)\" d=\"M505.8 272.91 Q502.189 272.91 500.36 276.475 Q498.554 280.017 498.554 287.146 Q498.554 294.253 500.36 297.817 Q502.189 301.359 505.8 301.359 Q509.434 301.359 511.239 297.817 Q513.068 294.253 513.068 287.146 Q513.068 280.017 511.239 276.475 Q509.434 272.91 505.8 272.91 M505.8 269.206 Q511.61 269.206 514.665 273.813 Q517.744 278.396 517.744 287.146 Q517.744 295.873 514.665 300.479 Q511.61 305.063 505.8 305.063 Q499.99 305.063 496.911 300.479 Q493.855 295.873 493.855 287.146 Q493.855 278.396 496.911 273.813 Q499.99 269.206 505.8 269.206 Z\" fill=\"#000000\" fill-rule=\"evenodd\" fill-opacity=\"1\" /><path clip-path=\"url(#clip820)\" d=\"M452.374 60.5889 L460.013 60.5889 L460.013 34.2233 L451.703 35.89 L451.703 31.6308 L459.967 29.9641 L464.642 29.9641 L464.642 60.5889 L472.281 60.5889 L472.281 64.5241 L452.374 64.5241 L452.374 60.5889 Z\" fill=\"#000000\" fill-rule=\"evenodd\" fill-opacity=\"1\" /><path clip-path=\"url(#clip820)\" d=\"M481.726 58.6445 L486.61 58.6445 L486.61 64.5241 L481.726 64.5241 L481.726 58.6445 Z\" fill=\"#000000\" fill-rule=\"evenodd\" fill-opacity=\"1\" /><path clip-path=\"url(#clip820)\" d=\"M496.841 29.9641 L515.198 29.9641 L515.198 33.8993 L501.124 33.8993 L501.124 42.3714 Q502.142 42.0242 503.161 41.8622 Q504.179 41.677 505.198 41.677 Q510.985 41.677 514.364 44.8483 Q517.744 48.0196 517.744 53.4362 Q517.744 59.0149 514.272 62.1167 Q510.8 65.1954 504.48 65.1954 Q502.304 65.1954 500.036 64.825 Q497.79 64.4547 495.383 63.7139 L495.383 59.0149 Q497.466 60.1491 499.689 60.7047 Q501.911 61.2602 504.388 61.2602 Q508.392 61.2602 510.73 59.1538 Q513.068 57.0473 513.068 53.4362 Q513.068 49.8251 510.73 47.7186 Q508.392 45.6122 504.388 45.6122 Q502.513 45.6122 500.638 46.0288 Q498.786 46.4455 496.841 47.3251 L496.841 29.9641 Z\" fill=\"#000000\" fill-rule=\"evenodd\" fill-opacity=\"1\" /><circle clip-path=\"url(#clip822)\" cx=\"1208.62\" cy=\"475.63\" r=\"14.4\" fill=\"#009af9\" fill-rule=\"evenodd\" fill-opacity=\"1\" stroke=\"#000000\" stroke-opacity=\"1\" stroke-width=\"3.2\"/>\n",
       "<circle clip-path=\"url(#clip822)\" cx=\"1187.33\" cy=\"1231.6\" r=\"14.4\" fill=\"#009af9\" fill-rule=\"evenodd\" fill-opacity=\"1\" stroke=\"#000000\" stroke-opacity=\"1\" stroke-width=\"3.2\"/>\n",
       "<circle clip-path=\"url(#clip822)\" cx=\"1269.06\" cy=\"888.158\" r=\"14.4\" fill=\"#009af9\" fill-rule=\"evenodd\" fill-opacity=\"1\" stroke=\"#000000\" stroke-opacity=\"1\" stroke-width=\"3.2\"/>\n",
       "<circle clip-path=\"url(#clip822)\" cx=\"1176.51\" cy=\"1047.37\" r=\"14.4\" fill=\"#009af9\" fill-rule=\"evenodd\" fill-opacity=\"1\" stroke=\"#000000\" stroke-opacity=\"1\" stroke-width=\"3.2\"/>\n",
       "<circle clip-path=\"url(#clip822)\" cx=\"1284.27\" cy=\"618.362\" r=\"14.4\" fill=\"#009af9\" fill-rule=\"evenodd\" fill-opacity=\"1\" stroke=\"#000000\" stroke-opacity=\"1\" stroke-width=\"3.2\"/>\n",
       "<circle clip-path=\"url(#clip822)\" cx=\"1237.7\" cy=\"320.437\" r=\"14.4\" fill=\"#009af9\" fill-rule=\"evenodd\" fill-opacity=\"1\" stroke=\"#000000\" stroke-opacity=\"1\" stroke-width=\"3.2\"/>\n",
       "<circle clip-path=\"url(#clip822)\" cx=\"836.062\" cy=\"920.67\" r=\"14.4\" fill=\"#009af9\" fill-rule=\"evenodd\" fill-opacity=\"1\" stroke=\"#000000\" stroke-opacity=\"1\" stroke-width=\"3.2\"/>\n",
       "<circle clip-path=\"url(#clip822)\" cx=\"1346.67\" cy=\"1226.64\" r=\"14.4\" fill=\"#009af9\" fill-rule=\"evenodd\" fill-opacity=\"1\" stroke=\"#000000\" stroke-opacity=\"1\" stroke-width=\"3.2\"/>\n",
       "<circle clip-path=\"url(#clip822)\" cx=\"1346.67\" cy=\"1226.64\" r=\"14.4\" fill=\"#009af9\" fill-rule=\"evenodd\" fill-opacity=\"1\" stroke=\"#000000\" stroke-opacity=\"1\" stroke-width=\"3.2\"/>\n",
       "<circle clip-path=\"url(#clip822)\" cx=\"1386.64\" cy=\"749.866\" r=\"14.4\" fill=\"#009af9\" fill-rule=\"evenodd\" fill-opacity=\"1\" stroke=\"#000000\" stroke-opacity=\"1\" stroke-width=\"3.2\"/>\n",
       "<circle clip-path=\"url(#clip822)\" cx=\"1026.59\" cy=\"898.414\" r=\"14.4\" fill=\"#009af9\" fill-rule=\"evenodd\" fill-opacity=\"1\" stroke=\"#000000\" stroke-opacity=\"1\" stroke-width=\"3.2\"/>\n",
       "<circle clip-path=\"url(#clip822)\" cx=\"1584.2\" cy=\"778.407\" r=\"14.4\" fill=\"#009af9\" fill-rule=\"evenodd\" fill-opacity=\"1\" stroke=\"#000000\" stroke-opacity=\"1\" stroke-width=\"3.2\"/>\n",
       "<circle clip-path=\"url(#clip822)\" cx=\"1269.06\" cy=\"888.158\" r=\"14.4\" fill=\"#009af9\" fill-rule=\"evenodd\" fill-opacity=\"1\" stroke=\"#000000\" stroke-opacity=\"1\" stroke-width=\"3.2\"/>\n",
       "<circle clip-path=\"url(#clip822)\" cx=\"1176.51\" cy=\"1047.37\" r=\"14.4\" fill=\"#009af9\" fill-rule=\"evenodd\" fill-opacity=\"1\" stroke=\"#000000\" stroke-opacity=\"1\" stroke-width=\"3.2\"/>\n",
       "<circle clip-path=\"url(#clip822)\" cx=\"1605.44\" cy=\"1086.11\" r=\"14.4\" fill=\"#009af9\" fill-rule=\"evenodd\" fill-opacity=\"1\" stroke=\"#000000\" stroke-opacity=\"1\" stroke-width=\"3.2\"/>\n",
       "<circle clip-path=\"url(#clip822)\" cx=\"1187.33\" cy=\"1231.6\" r=\"14.4\" fill=\"#009af9\" fill-rule=\"evenodd\" fill-opacity=\"1\" stroke=\"#000000\" stroke-opacity=\"1\" stroke-width=\"3.2\"/>\n",
       "<circle clip-path=\"url(#clip822)\" cx=\"1054.38\" cy=\"588.584\" r=\"14.4\" fill=\"#009af9\" fill-rule=\"evenodd\" fill-opacity=\"1\" stroke=\"#000000\" stroke-opacity=\"1\" stroke-width=\"3.2\"/>\n",
       "<circle clip-path=\"url(#clip822)\" cx=\"1237.7\" cy=\"320.437\" r=\"14.4\" fill=\"#009af9\" fill-rule=\"evenodd\" fill-opacity=\"1\" stroke=\"#000000\" stroke-opacity=\"1\" stroke-width=\"3.2\"/>\n",
       "<circle clip-path=\"url(#clip822)\" cx=\"1187.33\" cy=\"1231.6\" r=\"14.4\" fill=\"#009af9\" fill-rule=\"evenodd\" fill-opacity=\"1\" stroke=\"#000000\" stroke-opacity=\"1\" stroke-width=\"3.2\"/>\n",
       "<circle clip-path=\"url(#clip822)\" cx=\"920.266\" cy=\"446.066\" r=\"14.4\" fill=\"#009af9\" fill-rule=\"evenodd\" fill-opacity=\"1\" stroke=\"#000000\" stroke-opacity=\"1\" stroke-width=\"3.2\"/>\n",
       "<circle clip-path=\"url(#clip822)\" cx=\"1176.51\" cy=\"1047.37\" r=\"14.4\" fill=\"#009af9\" fill-rule=\"evenodd\" fill-opacity=\"1\" stroke=\"#000000\" stroke-opacity=\"1\" stroke-width=\"3.2\"/>\n",
       "<circle clip-path=\"url(#clip822)\" cx=\"1488.62\" cy=\"931.55\" r=\"14.4\" fill=\"#009af9\" fill-rule=\"evenodd\" fill-opacity=\"1\" stroke=\"#000000\" stroke-opacity=\"1\" stroke-width=\"3.2\"/>\n",
       "<circle clip-path=\"url(#clip822)\" cx=\"1703.15\" cy=\"972.112\" r=\"14.4\" fill=\"#009af9\" fill-rule=\"evenodd\" fill-opacity=\"1\" stroke=\"#000000\" stroke-opacity=\"1\" stroke-width=\"3.2\"/>\n",
       "<circle clip-path=\"url(#clip822)\" cx=\"1487.02\" cy=\"1183.01\" r=\"14.4\" fill=\"#009af9\" fill-rule=\"evenodd\" fill-opacity=\"1\" stroke=\"#000000\" stroke-opacity=\"1\" stroke-width=\"3.2\"/>\n",
       "<circle clip-path=\"url(#clip822)\" cx=\"1187.33\" cy=\"1231.6\" r=\"14.4\" fill=\"#009af9\" fill-rule=\"evenodd\" fill-opacity=\"1\" stroke=\"#000000\" stroke-opacity=\"1\" stroke-width=\"3.2\"/>\n",
       "<circle clip-path=\"url(#clip822)\" cx=\"1237.7\" cy=\"320.437\" r=\"14.4\" fill=\"#009af9\" fill-rule=\"evenodd\" fill-opacity=\"1\" stroke=\"#000000\" stroke-opacity=\"1\" stroke-width=\"3.2\"/>\n",
       "<circle clip-path=\"url(#clip822)\" cx=\"1605.44\" cy=\"1086.11\" r=\"14.4\" fill=\"#009af9\" fill-rule=\"evenodd\" fill-opacity=\"1\" stroke=\"#000000\" stroke-opacity=\"1\" stroke-width=\"3.2\"/>\n",
       "<circle clip-path=\"url(#clip822)\" cx=\"1158.86\" cy=\"756.007\" r=\"14.4\" fill=\"#009af9\" fill-rule=\"evenodd\" fill-opacity=\"1\" stroke=\"#000000\" stroke-opacity=\"1\" stroke-width=\"3.2\"/>\n",
       "<circle clip-path=\"url(#clip822)\" cx=\"1067.61\" cy=\"343.968\" r=\"14.4\" fill=\"#009af9\" fill-rule=\"evenodd\" fill-opacity=\"1\" stroke=\"#000000\" stroke-opacity=\"1\" stroke-width=\"3.2\"/>\n",
       "<circle clip-path=\"url(#clip822)\" cx=\"1584.2\" cy=\"778.407\" r=\"14.4\" fill=\"#009af9\" fill-rule=\"evenodd\" fill-opacity=\"1\" stroke=\"#000000\" stroke-opacity=\"1\" stroke-width=\"3.2\"/>\n",
       "<circle clip-path=\"url(#clip822)\" cx=\"1410.83\" cy=\"307.549\" r=\"14.4\" fill=\"#009af9\" fill-rule=\"evenodd\" fill-opacity=\"1\" stroke=\"#000000\" stroke-opacity=\"1\" stroke-width=\"3.2\"/>\n",
       "<circle clip-path=\"url(#clip822)\" cx=\"1742.7\" cy=\"816.633\" r=\"14.4\" fill=\"#009af9\" fill-rule=\"evenodd\" fill-opacity=\"1\" stroke=\"#000000\" stroke-opacity=\"1\" stroke-width=\"3.2\"/>\n",
       "<circle clip-path=\"url(#clip822)\" cx=\"1584.2\" cy=\"778.407\" r=\"14.4\" fill=\"#009af9\" fill-rule=\"evenodd\" fill-opacity=\"1\" stroke=\"#000000\" stroke-opacity=\"1\" stroke-width=\"3.2\"/>\n",
       "<circle clip-path=\"url(#clip822)\" cx=\"1026.59\" cy=\"898.414\" r=\"14.4\" fill=\"#009af9\" fill-rule=\"evenodd\" fill-opacity=\"1\" stroke=\"#000000\" stroke-opacity=\"1\" stroke-width=\"3.2\"/>\n",
       "<circle clip-path=\"url(#clip822)\" cx=\"1187.33\" cy=\"1231.6\" r=\"14.4\" fill=\"#009af9\" fill-rule=\"evenodd\" fill-opacity=\"1\" stroke=\"#000000\" stroke-opacity=\"1\" stroke-width=\"3.2\"/>\n",
       "<circle clip-path=\"url(#clip822)\" cx=\"1346.67\" cy=\"1226.64\" r=\"14.4\" fill=\"#009af9\" fill-rule=\"evenodd\" fill-opacity=\"1\" stroke=\"#000000\" stroke-opacity=\"1\" stroke-width=\"3.2\"/>\n",
       "<circle clip-path=\"url(#clip822)\" cx=\"1208.62\" cy=\"475.63\" r=\"14.4\" fill=\"#009af9\" fill-rule=\"evenodd\" fill-opacity=\"1\" stroke=\"#000000\" stroke-opacity=\"1\" stroke-width=\"3.2\"/>\n",
       "<circle clip-path=\"url(#clip822)\" cx=\"1666.44\" cy=\"512.088\" r=\"14.4\" fill=\"#009af9\" fill-rule=\"evenodd\" fill-opacity=\"1\" stroke=\"#000000\" stroke-opacity=\"1\" stroke-width=\"3.2\"/>\n",
       "<circle clip-path=\"url(#clip822)\" cx=\"1487.02\" cy=\"1183.01\" r=\"14.4\" fill=\"#009af9\" fill-rule=\"evenodd\" fill-opacity=\"1\" stroke=\"#000000\" stroke-opacity=\"1\" stroke-width=\"3.2\"/>\n",
       "<circle clip-path=\"url(#clip822)\" cx=\"1176.51\" cy=\"1047.37\" r=\"14.4\" fill=\"#009af9\" fill-rule=\"evenodd\" fill-opacity=\"1\" stroke=\"#000000\" stroke-opacity=\"1\" stroke-width=\"3.2\"/>\n",
       "<circle clip-path=\"url(#clip822)\" cx=\"1487.02\" cy=\"1183.01\" r=\"14.4\" fill=\"#009af9\" fill-rule=\"evenodd\" fill-opacity=\"1\" stroke=\"#000000\" stroke-opacity=\"1\" stroke-width=\"3.2\"/>\n",
       "<circle clip-path=\"url(#clip822)\" cx=\"1568.96\" cy=\"389.016\" r=\"14.4\" fill=\"#009af9\" fill-rule=\"evenodd\" fill-opacity=\"1\" stroke=\"#000000\" stroke-opacity=\"1\" stroke-width=\"3.2\"/>\n",
       "<circle clip-path=\"url(#clip822)\" cx=\"1605.44\" cy=\"1086.11\" r=\"14.4\" fill=\"#009af9\" fill-rule=\"evenodd\" fill-opacity=\"1\" stroke=\"#000000\" stroke-opacity=\"1\" stroke-width=\"3.2\"/>\n",
       "<circle clip-path=\"url(#clip822)\" cx=\"920.266\" cy=\"446.066\" r=\"14.4\" fill=\"#009af9\" fill-rule=\"evenodd\" fill-opacity=\"1\" stroke=\"#000000\" stroke-opacity=\"1\" stroke-width=\"3.2\"/>\n",
       "<circle clip-path=\"url(#clip822)\" cx=\"1370.83\" cy=\"484.627\" r=\"14.4\" fill=\"#009af9\" fill-rule=\"evenodd\" fill-opacity=\"1\" stroke=\"#000000\" stroke-opacity=\"1\" stroke-width=\"3.2\"/>\n",
       "<circle clip-path=\"url(#clip822)\" cx=\"1269.06\" cy=\"888.158\" r=\"14.4\" fill=\"#009af9\" fill-rule=\"evenodd\" fill-opacity=\"1\" stroke=\"#000000\" stroke-opacity=\"1\" stroke-width=\"3.2\"/>\n",
       "<circle clip-path=\"url(#clip822)\" cx=\"1584.2\" cy=\"778.407\" r=\"14.4\" fill=\"#009af9\" fill-rule=\"evenodd\" fill-opacity=\"1\" stroke=\"#000000\" stroke-opacity=\"1\" stroke-width=\"3.2\"/>\n",
       "<circle clip-path=\"url(#clip822)\" cx=\"1158.86\" cy=\"756.007\" r=\"14.4\" fill=\"#009af9\" fill-rule=\"evenodd\" fill-opacity=\"1\" stroke=\"#000000\" stroke-opacity=\"1\" stroke-width=\"3.2\"/>\n",
       "<circle clip-path=\"url(#clip822)\" cx=\"832.366\" cy=\"588.865\" r=\"14.4\" fill=\"#009af9\" fill-rule=\"evenodd\" fill-opacity=\"1\" stroke=\"#000000\" stroke-opacity=\"1\" stroke-width=\"3.2\"/>\n",
       "<circle clip-path=\"url(#clip822)\" cx=\"1410.83\" cy=\"307.549\" r=\"14.4\" fill=\"#009af9\" fill-rule=\"evenodd\" fill-opacity=\"1\" stroke=\"#000000\" stroke-opacity=\"1\" stroke-width=\"3.2\"/>\n",
       "<circle clip-path=\"url(#clip822)\" cx=\"1338.69\" cy=\"1051.4\" r=\"14.4\" fill=\"#009af9\" fill-rule=\"evenodd\" fill-opacity=\"1\" stroke=\"#000000\" stroke-opacity=\"1\" stroke-width=\"3.2\"/>\n",
       "<circle clip-path=\"url(#clip822)\" cx=\"1338.69\" cy=\"1051.4\" r=\"14.4\" fill=\"#009af9\" fill-rule=\"evenodd\" fill-opacity=\"1\" stroke=\"#000000\" stroke-opacity=\"1\" stroke-width=\"3.2\"/>\n",
       "<circle clip-path=\"url(#clip822)\" cx=\"1208.62\" cy=\"475.63\" r=\"14.4\" fill=\"#009af9\" fill-rule=\"evenodd\" fill-opacity=\"1\" stroke=\"#000000\" stroke-opacity=\"1\" stroke-width=\"3.2\"/>\n",
       "<circle clip-path=\"url(#clip822)\" cx=\"1488.62\" cy=\"931.55\" r=\"14.4\" fill=\"#009af9\" fill-rule=\"evenodd\" fill-opacity=\"1\" stroke=\"#000000\" stroke-opacity=\"1\" stroke-width=\"3.2\"/>\n",
       "<circle clip-path=\"url(#clip822)\" cx=\"832.366\" cy=\"588.865\" r=\"14.4\" fill=\"#009af9\" fill-rule=\"evenodd\" fill-opacity=\"1\" stroke=\"#000000\" stroke-opacity=\"1\" stroke-width=\"3.2\"/>\n",
       "<circle clip-path=\"url(#clip822)\" cx=\"1284.27\" cy=\"618.362\" r=\"14.4\" fill=\"#009af9\" fill-rule=\"evenodd\" fill-opacity=\"1\" stroke=\"#000000\" stroke-opacity=\"1\" stroke-width=\"3.2\"/>\n",
       "<circle clip-path=\"url(#clip822)\" cx=\"1488.62\" cy=\"931.55\" r=\"14.4\" fill=\"#009af9\" fill-rule=\"evenodd\" fill-opacity=\"1\" stroke=\"#000000\" stroke-opacity=\"1\" stroke-width=\"3.2\"/>\n",
       "<circle clip-path=\"url(#clip822)\" cx=\"1487.02\" cy=\"1183.01\" r=\"14.4\" fill=\"#009af9\" fill-rule=\"evenodd\" fill-opacity=\"1\" stroke=\"#000000\" stroke-opacity=\"1\" stroke-width=\"3.2\"/>\n",
       "<circle clip-path=\"url(#clip822)\" cx=\"1237.7\" cy=\"320.437\" r=\"14.4\" fill=\"#009af9\" fill-rule=\"evenodd\" fill-opacity=\"1\" stroke=\"#000000\" stroke-opacity=\"1\" stroke-width=\"3.2\"/>\n",
       "<circle clip-path=\"url(#clip822)\" cx=\"836.062\" cy=\"920.67\" r=\"14.4\" fill=\"#009af9\" fill-rule=\"evenodd\" fill-opacity=\"1\" stroke=\"#000000\" stroke-opacity=\"1\" stroke-width=\"3.2\"/>\n",
       "<circle clip-path=\"url(#clip822)\" cx=\"1237.7\" cy=\"320.437\" r=\"14.4\" fill=\"#009af9\" fill-rule=\"evenodd\" fill-opacity=\"1\" stroke=\"#000000\" stroke-opacity=\"1\" stroke-width=\"3.2\"/>\n",
       "<circle clip-path=\"url(#clip822)\" cx=\"832.366\" cy=\"588.865\" r=\"14.4\" fill=\"#009af9\" fill-rule=\"evenodd\" fill-opacity=\"1\" stroke=\"#000000\" stroke-opacity=\"1\" stroke-width=\"3.2\"/>\n",
       "<circle clip-path=\"url(#clip822)\" cx=\"1703.15\" cy=\"972.112\" r=\"14.4\" fill=\"#009af9\" fill-rule=\"evenodd\" fill-opacity=\"1\" stroke=\"#000000\" stroke-opacity=\"1\" stroke-width=\"3.2\"/>\n",
       "<circle clip-path=\"url(#clip822)\" cx=\"1738.73\" cy=\"654.829\" r=\"14.4\" fill=\"#009af9\" fill-rule=\"evenodd\" fill-opacity=\"1\" stroke=\"#000000\" stroke-opacity=\"1\" stroke-width=\"3.2\"/>\n",
       "<circle clip-path=\"url(#clip822)\" cx=\"1054.38\" cy=\"588.584\" r=\"14.4\" fill=\"#009af9\" fill-rule=\"evenodd\" fill-opacity=\"1\" stroke=\"#000000\" stroke-opacity=\"1\" stroke-width=\"3.2\"/>\n",
       "<circle clip-path=\"url(#clip822)\" cx=\"1568.96\" cy=\"389.016\" r=\"14.4\" fill=\"#009af9\" fill-rule=\"evenodd\" fill-opacity=\"1\" stroke=\"#000000\" stroke-opacity=\"1\" stroke-width=\"3.2\"/>\n",
       "<circle clip-path=\"url(#clip822)\" cx=\"1703.15\" cy=\"972.112\" r=\"14.4\" fill=\"#009af9\" fill-rule=\"evenodd\" fill-opacity=\"1\" stroke=\"#000000\" stroke-opacity=\"1\" stroke-width=\"3.2\"/>\n",
       "<circle clip-path=\"url(#clip822)\" cx=\"1237.7\" cy=\"320.437\" r=\"14.4\" fill=\"#009af9\" fill-rule=\"evenodd\" fill-opacity=\"1\" stroke=\"#000000\" stroke-opacity=\"1\" stroke-width=\"3.2\"/>\n",
       "<circle clip-path=\"url(#clip822)\" cx=\"1410.83\" cy=\"307.549\" r=\"14.4\" fill=\"#009af9\" fill-rule=\"evenodd\" fill-opacity=\"1\" stroke=\"#000000\" stroke-opacity=\"1\" stroke-width=\"3.2\"/>\n",
       "<circle clip-path=\"url(#clip822)\" cx=\"1237.7\" cy=\"320.437\" r=\"14.4\" fill=\"#009af9\" fill-rule=\"evenodd\" fill-opacity=\"1\" stroke=\"#000000\" stroke-opacity=\"1\" stroke-width=\"3.2\"/>\n",
       "<circle clip-path=\"url(#clip822)\" cx=\"836.062\" cy=\"920.67\" r=\"14.4\" fill=\"#009af9\" fill-rule=\"evenodd\" fill-opacity=\"1\" stroke=\"#000000\" stroke-opacity=\"1\" stroke-width=\"3.2\"/>\n",
       "<circle clip-path=\"url(#clip822)\" cx=\"1742.7\" cy=\"816.633\" r=\"14.4\" fill=\"#009af9\" fill-rule=\"evenodd\" fill-opacity=\"1\" stroke=\"#000000\" stroke-opacity=\"1\" stroke-width=\"3.2\"/>\n",
       "<circle clip-path=\"url(#clip822)\" cx=\"1067.61\" cy=\"343.968\" r=\"14.4\" fill=\"#009af9\" fill-rule=\"evenodd\" fill-opacity=\"1\" stroke=\"#000000\" stroke-opacity=\"1\" stroke-width=\"3.2\"/>\n",
       "<circle clip-path=\"url(#clip822)\" cx=\"1158.86\" cy=\"756.007\" r=\"14.4\" fill=\"#009af9\" fill-rule=\"evenodd\" fill-opacity=\"1\" stroke=\"#000000\" stroke-opacity=\"1\" stroke-width=\"3.2\"/>\n",
       "<circle clip-path=\"url(#clip822)\" cx=\"1512.07\" cy=\"594.901\" r=\"14.4\" fill=\"#009af9\" fill-rule=\"evenodd\" fill-opacity=\"1\" stroke=\"#000000\" stroke-opacity=\"1\" stroke-width=\"3.2\"/>\n",
       "<circle clip-path=\"url(#clip822)\" cx=\"1237.7\" cy=\"320.437\" r=\"14.4\" fill=\"#009af9\" fill-rule=\"evenodd\" fill-opacity=\"1\" stroke=\"#000000\" stroke-opacity=\"1\" stroke-width=\"3.2\"/>\n",
       "<circle clip-path=\"url(#clip822)\" cx=\"930.172\" cy=\"1057.38\" r=\"14.4\" fill=\"#009af9\" fill-rule=\"evenodd\" fill-opacity=\"1\" stroke=\"#000000\" stroke-opacity=\"1\" stroke-width=\"3.2\"/>\n",
       "<circle clip-path=\"url(#clip822)\" cx=\"1187.33\" cy=\"1231.6\" r=\"14.4\" fill=\"#009af9\" fill-rule=\"evenodd\" fill-opacity=\"1\" stroke=\"#000000\" stroke-opacity=\"1\" stroke-width=\"3.2\"/>\n",
       "<circle clip-path=\"url(#clip822)\" cx=\"1666.44\" cy=\"512.088\" r=\"14.4\" fill=\"#009af9\" fill-rule=\"evenodd\" fill-opacity=\"1\" stroke=\"#000000\" stroke-opacity=\"1\" stroke-width=\"3.2\"/>\n",
       "<circle clip-path=\"url(#clip822)\" cx=\"1568.96\" cy=\"389.016\" r=\"14.4\" fill=\"#009af9\" fill-rule=\"evenodd\" fill-opacity=\"1\" stroke=\"#000000\" stroke-opacity=\"1\" stroke-width=\"3.2\"/>\n",
       "<circle clip-path=\"url(#clip822)\" cx=\"1237.7\" cy=\"320.437\" r=\"14.4\" fill=\"#009af9\" fill-rule=\"evenodd\" fill-opacity=\"1\" stroke=\"#000000\" stroke-opacity=\"1\" stroke-width=\"3.2\"/>\n",
       "<circle clip-path=\"url(#clip822)\" cx=\"1158.86\" cy=\"756.007\" r=\"14.4\" fill=\"#009af9\" fill-rule=\"evenodd\" fill-opacity=\"1\" stroke=\"#000000\" stroke-opacity=\"1\" stroke-width=\"3.2\"/>\n",
       "<circle clip-path=\"url(#clip822)\" cx=\"1738.73\" cy=\"654.829\" r=\"14.4\" fill=\"#009af9\" fill-rule=\"evenodd\" fill-opacity=\"1\" stroke=\"#000000\" stroke-opacity=\"1\" stroke-width=\"3.2\"/>\n",
       "<circle clip-path=\"url(#clip822)\" cx=\"1237.7\" cy=\"320.437\" r=\"14.4\" fill=\"#009af9\" fill-rule=\"evenodd\" fill-opacity=\"1\" stroke=\"#000000\" stroke-opacity=\"1\" stroke-width=\"3.2\"/>\n",
       "<circle clip-path=\"url(#clip822)\" cx=\"832.366\" cy=\"588.865\" r=\"14.4\" fill=\"#009af9\" fill-rule=\"evenodd\" fill-opacity=\"1\" stroke=\"#000000\" stroke-opacity=\"1\" stroke-width=\"3.2\"/>\n",
       "<circle clip-path=\"url(#clip822)\" cx=\"1703.15\" cy=\"972.112\" r=\"14.4\" fill=\"#009af9\" fill-rule=\"evenodd\" fill-opacity=\"1\" stroke=\"#000000\" stroke-opacity=\"1\" stroke-width=\"3.2\"/>\n",
       "<circle clip-path=\"url(#clip822)\" cx=\"1738.73\" cy=\"654.829\" r=\"14.4\" fill=\"#009af9\" fill-rule=\"evenodd\" fill-opacity=\"1\" stroke=\"#000000\" stroke-opacity=\"1\" stroke-width=\"3.2\"/>\n",
       "<circle clip-path=\"url(#clip822)\" cx=\"930.172\" cy=\"1057.38\" r=\"14.4\" fill=\"#009af9\" fill-rule=\"evenodd\" fill-opacity=\"1\" stroke=\"#000000\" stroke-opacity=\"1\" stroke-width=\"3.2\"/>\n",
       "<circle clip-path=\"url(#clip822)\" cx=\"1512.07\" cy=\"594.901\" r=\"14.4\" fill=\"#009af9\" fill-rule=\"evenodd\" fill-opacity=\"1\" stroke=\"#000000\" stroke-opacity=\"1\" stroke-width=\"3.2\"/>\n",
       "<circle clip-path=\"url(#clip822)\" cx=\"1742.7\" cy=\"816.633\" r=\"14.4\" fill=\"#009af9\" fill-rule=\"evenodd\" fill-opacity=\"1\" stroke=\"#000000\" stroke-opacity=\"1\" stroke-width=\"3.2\"/>\n",
       "<circle clip-path=\"url(#clip822)\" cx=\"1026.59\" cy=\"898.414\" r=\"14.4\" fill=\"#009af9\" fill-rule=\"evenodd\" fill-opacity=\"1\" stroke=\"#000000\" stroke-opacity=\"1\" stroke-width=\"3.2\"/>\n",
       "<circle clip-path=\"url(#clip822)\" cx=\"1346.67\" cy=\"1226.64\" r=\"14.4\" fill=\"#009af9\" fill-rule=\"evenodd\" fill-opacity=\"1\" stroke=\"#000000\" stroke-opacity=\"1\" stroke-width=\"3.2\"/>\n",
       "<circle clip-path=\"url(#clip822)\" cx=\"1208.62\" cy=\"475.63\" r=\"14.4\" fill=\"#009af9\" fill-rule=\"evenodd\" fill-opacity=\"1\" stroke=\"#000000\" stroke-opacity=\"1\" stroke-width=\"3.2\"/>\n",
       "<circle clip-path=\"url(#clip822)\" cx=\"981.065\" cy=\"742.452\" r=\"14.4\" fill=\"#009af9\" fill-rule=\"evenodd\" fill-opacity=\"1\" stroke=\"#000000\" stroke-opacity=\"1\" stroke-width=\"3.2\"/>\n",
       "<circle clip-path=\"url(#clip822)\" cx=\"1410.83\" cy=\"307.549\" r=\"14.4\" fill=\"#009af9\" fill-rule=\"evenodd\" fill-opacity=\"1\" stroke=\"#000000\" stroke-opacity=\"1\" stroke-width=\"3.2\"/>\n",
       "<circle clip-path=\"url(#clip822)\" cx=\"1067.61\" cy=\"343.968\" r=\"14.4\" fill=\"#009af9\" fill-rule=\"evenodd\" fill-opacity=\"1\" stroke=\"#000000\" stroke-opacity=\"1\" stroke-width=\"3.2\"/>\n",
       "<circle clip-path=\"url(#clip822)\" cx=\"832.366\" cy=\"588.865\" r=\"14.4\" fill=\"#009af9\" fill-rule=\"evenodd\" fill-opacity=\"1\" stroke=\"#000000\" stroke-opacity=\"1\" stroke-width=\"3.2\"/>\n",
       "<circle clip-path=\"url(#clip822)\" cx=\"1026.59\" cy=\"898.414\" r=\"14.4\" fill=\"#009af9\" fill-rule=\"evenodd\" fill-opacity=\"1\" stroke=\"#000000\" stroke-opacity=\"1\" stroke-width=\"3.2\"/>\n",
       "<circle clip-path=\"url(#clip822)\" cx=\"1028.17\" cy=\"1174.32\" r=\"14.4\" fill=\"#009af9\" fill-rule=\"evenodd\" fill-opacity=\"1\" stroke=\"#000000\" stroke-opacity=\"1\" stroke-width=\"3.2\"/>\n",
       "<circle clip-path=\"url(#clip822)\" cx=\"1176.51\" cy=\"1047.37\" r=\"14.4\" fill=\"#009af9\" fill-rule=\"evenodd\" fill-opacity=\"1\" stroke=\"#000000\" stroke-opacity=\"1\" stroke-width=\"3.2\"/>\n",
       "</svg>\n"
      ]
     },
     "execution_count": 7,
     "metadata": {},
     "output_type": "execute_result"
    }
   ],
   "source": [
    "x = mini_batch(K)\n",
    "x = encoder(x, peak_const)\n",
    "p1 = Plots.scatter(x[1,:], x[2,:],legend=false, xlims=[-1.5,1.5], \n",
    "    ylims=[-1.5,1.5], aspect_ratio=1)"
   ]
  },
  {
   "cell_type": "code",
   "execution_count": 8,
   "id": "3a2c764e-ecd0-417f-b793-cdf4cd5ae073",
   "metadata": {},
   "outputs": [
    {
     "data": {
      "text/plain": [
       "\"/Users/wadayama/Dropbox/DU-Book_test/Chapter_5/autoencoder-model.pdf\""
      ]
     },
     "execution_count": 8,
     "metadata": {},
     "output_type": "execute_result"
    }
   ],
   "source": [
    "savefig(\"autoencoder-model.pdf\")"
   ]
  }
 ],
 "metadata": {
  "kernelspec": {
   "display_name": "Julia 1.8.2",
   "language": "julia",
   "name": "julia-1.8"
  },
  "language_info": {
   "file_extension": ".jl",
   "mimetype": "application/julia",
   "name": "julia",
   "version": "1.8.2"
  }
 },
 "nbformat": 4,
 "nbformat_minor": 5
}
