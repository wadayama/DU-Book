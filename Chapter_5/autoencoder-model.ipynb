{
 "cells": [
  {
   "cell_type": "markdown",
   "id": "2b6c942e-c9ee-42bc-950b-7a4c716cbff3",
   "metadata": {},
   "source": [
    "# 自己符号化器で通信システム(AWGN通信路)をモデリングする\n",
    "\n",
    "Copyright (c) 2022 Tadashi Wadayama  \n",
    "Released under the MIT license  \n",
    "https://opensource.org/licenses/mit-license.php"
   ]
  },
  {
   "cell_type": "code",
   "execution_count": 1,
   "id": "ca0f403e-9549-46c4-a478-ee3e96326b41",
   "metadata": {},
   "outputs": [],
   "source": [
    "using LinearAlgebra\n",
    "using Plots\n",
    "gr()\n",
    "using Random\n",
    "Random.seed!(1)\n",
    "using Flux"
   ]
  },
  {
   "cell_type": "markdown",
   "id": "e116429a-df31-412d-a3ee-6eb735fdcfc2",
   "metadata": {},
   "source": [
    "### グローバル変数の設定"
   ]
  },
  {
   "cell_type": "code",
   "execution_count": 2,
   "id": "38201226-bcf3-4c53-be6b-de932567da85",
   "metadata": {},
   "outputs": [
    {
     "data": {
      "text/plain": [
       "0.1"
      ]
     },
     "execution_count": 2,
     "metadata": {},
     "output_type": "execute_result"
    }
   ],
   "source": [
    "M = 32\n",
    "K = 100\n",
    "num_hidden_units = 10 \n",
    "sigma = 0.1"
   ]
  },
  {
   "cell_type": "markdown",
   "id": "92271295-ef57-47c8-ae23-9bea30d43147",
   "metadata": {},
   "source": [
    "### ミニバッチ生成関数"
   ]
  },
  {
   "cell_type": "code",
   "execution_count": 3,
   "id": "58ab5a6b-f332-4c21-b467-dd0e0d99054d",
   "metadata": {},
   "outputs": [
    {
     "data": {
      "text/plain": [
       "mini_batch (generic function with 1 method)"
      ]
     },
     "execution_count": 3,
     "metadata": {},
     "output_type": "execute_result"
    }
   ],
   "source": [
    "function mini_batch(K)\n",
    "    r = zeros(M, K)\n",
    "    for j in 1:K\n",
    "        r[rand(1:M),j] = 1\n",
    "    end\n",
    "    return r\n",
    "end"
   ]
  },
  {
   "cell_type": "markdown",
   "id": "5cc8922c-0708-4215-84b2-0f0a5986eab5",
   "metadata": {},
   "source": [
    "### 全結合層の定義"
   ]
  },
  {
   "cell_type": "code",
   "execution_count": 4,
   "id": "90af95f5-0bd2-45ff-91ca-fc373dc3ee40",
   "metadata": {},
   "outputs": [
    {
     "data": {
      "text/plain": [
       "Dense(10, 32)"
      ]
     },
     "execution_count": 4,
     "metadata": {},
     "output_type": "execute_result"
    }
   ],
   "source": [
    "enc1 = Dense(M, num_hidden_units) \n",
    "enc2 = Dense(num_hidden_units, 2) \n",
    "dec2 = Dense(2, num_hidden_units) \n",
    "dec1 = Dense(num_hidden_units, M) "
   ]
  },
  {
   "cell_type": "markdown",
   "id": "4c31ec34-bb0b-4359-8634-01a322579181",
   "metadata": {},
   "source": [
    "### 自己符号化器に基づく通信路モデル"
   ]
  },
  {
   "cell_type": "code",
   "execution_count": 5,
   "id": "d0c8d2c6-a0de-443d-bb72-79d50f513d48",
   "metadata": {},
   "outputs": [
    {
     "data": {
      "text/plain": [
       "channel_model (generic function with 1 method)"
      ]
     },
     "execution_count": 5,
     "metadata": {},
     "output_type": "execute_result"
    }
   ],
   "source": [
    "function encoder(x, normalizer)\n",
    "    x = relu.(enc1(x))\n",
    "    x = enc2(x)\n",
    "    x = normalizer(x)\n",
    "    return x\n",
    "end\n",
    "function channel_model(x, normalizer)\n",
    "    x = encoder(x, normalizer)\n",
    "    y = x + sigma*randn(2, K)\n",
    "    z = relu.(dec2(y))\n",
    "    z = softmax(dec1(z))\n",
    "    return z\n",
    "end"
   ]
  },
  {
   "cell_type": "markdown",
   "id": "906b887b-3269-4414-bcbf-0ad1d7b49129",
   "metadata": {},
   "source": [
    "### 学習プロセス (ピーク電力制約)"
   ]
  },
  {
   "cell_type": "code",
   "execution_count": 6,
   "id": "bb0dd564-a63c-4278-839b-7cd866ad836c",
   "metadata": {},
   "outputs": [
    {
     "name": "stdout",
     "output_type": "stream",
     "text": [
      "77.21728894268831\n",
      "56.11869022658642\n",
      "34.615917920899456\n",
      "29.325167219640996\n",
      "29.003619396853775\n",
      "24.98431015026817\n",
      "25.06810059375667\n",
      "19.328677180155477\n",
      "23.366635851429916\n",
      "21.399213693332072\n",
      "19.21380213325646\n",
      "25.645698804717032\n",
      "29.975224369471153\n",
      "22.491494408887682\n",
      "28.835876389180026\n",
      "24.216966643089613\n",
      "15.002678220187882\n",
      "24.441866156257117\n",
      "19.966489904877285\n",
      "21.51410342238177\n",
      "16.166043990651897\n",
      "13.434167922570712\n",
      "18.69044950743528\n",
      "16.725340514659408\n",
      "25.357650145902515\n",
      "19.0018893912449\n",
      "21.58532275481938\n",
      "16.43581206982952\n",
      "19.698686347311504\n",
      "16.633035026999192\n",
      "16.96316205156684\n",
      "27.666232617615595\n",
      "20.565857019381678\n",
      "15.914347626809894\n",
      "22.721747036704006\n",
      "17.06771100570563\n",
      "22.995947419533277\n",
      "16.43551196345261\n",
      "15.360748216346648\n",
      "17.70253143365273\n",
      "16.647757255810784\n",
      "16.182107981527896\n",
      "19.945886409932005\n",
      "22.88944295321676\n",
      "15.03364009413377\n",
      "16.638945849195135\n",
      "16.579726220617353\n",
      "22.573527049729055\n",
      "17.464467608323314\n",
      "12.872963730778325\n"
     ]
    }
   ],
   "source": [
    "opt = ADAM(1e-2) \n",
    "train_itr = 5000\n",
    "loss(x,y) = norm(x-y)^2\n",
    "peak_const(x) = x/sqrt(maximum(sum(x.^2,dims=1)))\n",
    "ps = Flux.params(enc1,enc2,dec1,dec2)\n",
    "for i in 1:train_itr\n",
    "    x = mini_batch(K)\n",
    "    gs = gradient(ps) do\n",
    "        x̂ = channel_model(x, peak_const)\n",
    "        loss(x, x̂)\n",
    "    end\n",
    "    Flux.Optimise.update!(opt, ps, gs)\n",
    "    if i % 100 == 0\n",
    "        x = mini_batch(K)\n",
    "        x̂ = channel_model(x, peak_const)\n",
    "        println(loss(x, x̂))\n",
    "    end\n",
    "end"
   ]
  },
  {
   "cell_type": "markdown",
   "id": "a5f7f75c-4bc4-40db-aa8d-cc6f1c528ea2",
   "metadata": {},
   "source": [
    "### 学習された信号点配置の表示"
   ]
  },
  {
   "cell_type": "code",
   "execution_count": 7,
   "id": "7936335c-8613-4b59-958e-8bb6d9884a12",
   "metadata": {},
   "outputs": [
    {
     "data": {
      "image/svg+xml": [
       "<?xml version=\"1.0\" encoding=\"utf-8\"?>\n",
       "<svg xmlns=\"http://www.w3.org/2000/svg\" xmlns:xlink=\"http://www.w3.org/1999/xlink\" width=\"600\" height=\"400\" viewBox=\"0 0 2400 1600\">\n",
       "<defs>\n",
       "  <clipPath id=\"clip810\">\n",
       "    <rect x=\"0\" y=\"0\" width=\"2400\" height=\"1600\"/>\n",
       "  </clipPath>\n",
       "</defs>\n",
       "<path clip-path=\"url(#clip810)\" d=\"\n",
       "M0 1600 L2400 1600 L2400 0 L0 0  Z\n",
       "  \" fill=\"#ffffff\" fill-rule=\"evenodd\" fill-opacity=\"1\"/>\n",
       "<defs>\n",
       "  <clipPath id=\"clip811\">\n",
       "    <rect x=\"480\" y=\"0\" width=\"1681\" height=\"1600\"/>\n",
       "  </clipPath>\n",
       "</defs>\n",
       "<path clip-path=\"url(#clip810)\" d=\"\n",
       "M546.603 1486.45 L1985.81 1486.45 L1985.81 47.2441 L546.603 47.2441  Z\n",
       "  \" fill=\"#ffffff\" fill-rule=\"evenodd\" fill-opacity=\"1\"/>\n",
       "<defs>\n",
       "  <clipPath id=\"clip812\">\n",
       "    <rect x=\"546\" y=\"47\" width=\"1440\" height=\"1440\"/>\n",
       "  </clipPath>\n",
       "</defs>\n",
       "<polyline clip-path=\"url(#clip812)\" style=\"stroke:#000000; stroke-width:2; stroke-opacity:0.1; fill:none\" points=\"\n",
       "  587.335,1486.45 587.335,47.2441 \n",
       "  \"/>\n",
       "<polyline clip-path=\"url(#clip812)\" style=\"stroke:#000000; stroke-width:2; stroke-opacity:0.1; fill:none\" points=\"\n",
       "  813.625,1486.45 813.625,47.2441 \n",
       "  \"/>\n",
       "<polyline clip-path=\"url(#clip812)\" style=\"stroke:#000000; stroke-width:2; stroke-opacity:0.1; fill:none\" points=\"\n",
       "  1039.91,1486.45 1039.91,47.2441 \n",
       "  \"/>\n",
       "<polyline clip-path=\"url(#clip812)\" style=\"stroke:#000000; stroke-width:2; stroke-opacity:0.1; fill:none\" points=\"\n",
       "  1266.2,1486.45 1266.2,47.2441 \n",
       "  \"/>\n",
       "<polyline clip-path=\"url(#clip812)\" style=\"stroke:#000000; stroke-width:2; stroke-opacity:0.1; fill:none\" points=\"\n",
       "  1492.49,1486.45 1492.49,47.2441 \n",
       "  \"/>\n",
       "<polyline clip-path=\"url(#clip812)\" style=\"stroke:#000000; stroke-width:2; stroke-opacity:0.1; fill:none\" points=\"\n",
       "  1718.78,1486.45 1718.78,47.2441 \n",
       "  \"/>\n",
       "<polyline clip-path=\"url(#clip812)\" style=\"stroke:#000000; stroke-width:2; stroke-opacity:0.1; fill:none\" points=\"\n",
       "  1945.07,1486.45 1945.07,47.2441 \n",
       "  \"/>\n",
       "<polyline clip-path=\"url(#clip810)\" style=\"stroke:#000000; stroke-width:4; stroke-opacity:1; fill:none\" points=\"\n",
       "  546.603,1486.45 1985.81,1486.45 \n",
       "  \"/>\n",
       "<polyline clip-path=\"url(#clip810)\" style=\"stroke:#000000; stroke-width:4; stroke-opacity:1; fill:none\" points=\"\n",
       "  587.335,1486.45 587.335,1469.18 \n",
       "  \"/>\n",
       "<polyline clip-path=\"url(#clip810)\" style=\"stroke:#000000; stroke-width:4; stroke-opacity:1; fill:none\" points=\"\n",
       "  813.625,1486.45 813.625,1469.18 \n",
       "  \"/>\n",
       "<polyline clip-path=\"url(#clip810)\" style=\"stroke:#000000; stroke-width:4; stroke-opacity:1; fill:none\" points=\"\n",
       "  1039.91,1486.45 1039.91,1469.18 \n",
       "  \"/>\n",
       "<polyline clip-path=\"url(#clip810)\" style=\"stroke:#000000; stroke-width:4; stroke-opacity:1; fill:none\" points=\"\n",
       "  1266.2,1486.45 1266.2,1469.18 \n",
       "  \"/>\n",
       "<polyline clip-path=\"url(#clip810)\" style=\"stroke:#000000; stroke-width:4; stroke-opacity:1; fill:none\" points=\"\n",
       "  1492.49,1486.45 1492.49,1469.18 \n",
       "  \"/>\n",
       "<polyline clip-path=\"url(#clip810)\" style=\"stroke:#000000; stroke-width:4; stroke-opacity:1; fill:none\" points=\"\n",
       "  1718.78,1486.45 1718.78,1469.18 \n",
       "  \"/>\n",
       "<polyline clip-path=\"url(#clip810)\" style=\"stroke:#000000; stroke-width:4; stroke-opacity:1; fill:none\" points=\"\n",
       "  1945.07,1486.45 1945.07,1469.18 \n",
       "  \"/>\n",
       "<path clip-path=\"url(#clip810)\" d=\"M 0 0 M541.618 1530.29 L571.293 1530.29 L571.293 1534.23 L541.618 1534.23 L541.618 1530.29 Z\" fill=\"#000000\" fill-rule=\"evenodd\" fill-opacity=\"1\" /><path clip-path=\"url(#clip810)\" d=\"M 0 0 M577.173 1543.18 L584.812 1543.18 L584.812 1516.82 L576.502 1518.49 L576.502 1514.23 L584.766 1512.56 L589.442 1512.56 L589.442 1543.18 L597.08 1543.18 L597.08 1547.12 L577.173 1547.12 L577.173 1543.18 Z\" fill=\"#000000\" fill-rule=\"evenodd\" fill-opacity=\"1\" /><path clip-path=\"url(#clip810)\" d=\"M 0 0 M602.15 1541.24 L607.034 1541.24 L607.034 1547.12 L602.15 1547.12 L602.15 1541.24 Z\" fill=\"#000000\" fill-rule=\"evenodd\" fill-opacity=\"1\" /><path clip-path=\"url(#clip810)\" d=\"M 0 0 M612.15 1512.56 L630.506 1512.56 L630.506 1516.5 L616.432 1516.5 L616.432 1524.97 Q617.451 1524.62 618.469 1524.46 Q619.488 1524.27 620.506 1524.27 Q626.293 1524.27 629.673 1527.44 Q633.052 1530.62 633.052 1536.03 Q633.052 1541.61 629.58 1544.71 Q626.108 1547.79 619.789 1547.79 Q617.613 1547.79 615.344 1547.42 Q613.099 1547.05 610.691 1546.31 L610.691 1541.61 Q612.775 1542.74 614.997 1543.3 Q617.219 1543.86 619.696 1543.86 Q623.701 1543.86 626.039 1541.75 Q628.377 1539.64 628.377 1536.03 Q628.377 1532.42 626.039 1530.31 Q623.701 1528.21 619.696 1528.21 Q617.821 1528.21 615.946 1528.62 Q614.094 1529.04 612.15 1529.92 L612.15 1512.56 Z\" fill=\"#000000\" fill-rule=\"evenodd\" fill-opacity=\"1\" /><path clip-path=\"url(#clip810)\" d=\"M 0 0 M767.41 1530.29 L797.086 1530.29 L797.086 1534.23 L767.41 1534.23 L767.41 1530.29 Z\" fill=\"#000000\" fill-rule=\"evenodd\" fill-opacity=\"1\" /><path clip-path=\"url(#clip810)\" d=\"M 0 0 M802.965 1543.18 L810.604 1543.18 L810.604 1516.82 L802.294 1518.49 L802.294 1514.23 L810.558 1512.56 L815.234 1512.56 L815.234 1543.18 L822.873 1543.18 L822.873 1547.12 L802.965 1547.12 L802.965 1543.18 Z\" fill=\"#000000\" fill-rule=\"evenodd\" fill-opacity=\"1\" /><path clip-path=\"url(#clip810)\" d=\"M 0 0 M827.942 1541.24 L832.826 1541.24 L832.826 1547.12 L827.942 1547.12 L827.942 1541.24 Z\" fill=\"#000000\" fill-rule=\"evenodd\" fill-opacity=\"1\" /><path clip-path=\"url(#clip810)\" d=\"M 0 0 M847.896 1515.64 Q844.285 1515.64 842.456 1519.2 Q840.65 1522.75 840.65 1529.87 Q840.65 1536.98 842.456 1540.55 Q844.285 1544.09 847.896 1544.09 Q851.53 1544.09 853.335 1540.55 Q855.164 1536.98 855.164 1529.87 Q855.164 1522.75 853.335 1519.2 Q851.53 1515.64 847.896 1515.64 M847.896 1511.93 Q853.706 1511.93 856.761 1516.54 Q859.84 1521.12 859.84 1529.87 Q859.84 1538.6 856.761 1543.21 Q853.706 1547.79 847.896 1547.79 Q842.085 1547.79 839.007 1543.21 Q835.951 1538.6 835.951 1529.87 Q835.951 1521.12 839.007 1516.54 Q842.085 1511.93 847.896 1511.93 Z\" fill=\"#000000\" fill-rule=\"evenodd\" fill-opacity=\"1\" /><path clip-path=\"url(#clip810)\" d=\"M 0 0 M993.584 1530.29 L1023.26 1530.29 L1023.26 1534.23 L993.584 1534.23 L993.584 1530.29 Z\" fill=\"#000000\" fill-rule=\"evenodd\" fill-opacity=\"1\" /><path clip-path=\"url(#clip810)\" d=\"M 0 0 M1038.33 1515.64 Q1034.72 1515.64 1032.89 1519.2 Q1031.08 1522.75 1031.08 1529.87 Q1031.08 1536.98 1032.89 1540.55 Q1034.72 1544.09 1038.33 1544.09 Q1041.96 1544.09 1043.77 1540.55 Q1045.6 1536.98 1045.6 1529.87 Q1045.6 1522.75 1043.77 1519.2 Q1041.96 1515.64 1038.33 1515.64 M1038.33 1511.93 Q1044.14 1511.93 1047.19 1516.54 Q1050.27 1521.12 1050.27 1529.87 Q1050.27 1538.6 1047.19 1543.21 Q1044.14 1547.79 1038.33 1547.79 Q1032.52 1547.79 1029.44 1543.21 Q1026.38 1538.6 1026.38 1529.87 Q1026.38 1521.12 1029.44 1516.54 Q1032.52 1511.93 1038.33 1511.93 Z\" fill=\"#000000\" fill-rule=\"evenodd\" fill-opacity=\"1\" /><path clip-path=\"url(#clip810)\" d=\"M 0 0 M1055.34 1541.24 L1060.23 1541.24 L1060.23 1547.12 L1055.34 1547.12 L1055.34 1541.24 Z\" fill=\"#000000\" fill-rule=\"evenodd\" fill-opacity=\"1\" /><path clip-path=\"url(#clip810)\" d=\"M 0 0 M1065.34 1512.56 L1083.7 1512.56 L1083.7 1516.5 L1069.63 1516.5 L1069.63 1524.97 Q1070.64 1524.62 1071.66 1524.46 Q1072.68 1524.27 1073.7 1524.27 Q1079.49 1524.27 1082.87 1527.44 Q1086.25 1530.62 1086.25 1536.03 Q1086.25 1541.61 1082.77 1544.71 Q1079.3 1547.79 1072.98 1547.79 Q1070.81 1547.79 1068.54 1547.42 Q1066.29 1547.05 1063.88 1546.31 L1063.88 1541.61 Q1065.97 1542.74 1068.19 1543.3 Q1070.41 1543.86 1072.89 1543.86 Q1076.89 1543.86 1079.23 1541.75 Q1081.57 1539.64 1081.57 1536.03 Q1081.57 1532.42 1079.23 1530.31 Q1076.89 1528.21 1072.89 1528.21 Q1071.01 1528.21 1069.14 1528.62 Q1067.29 1529.04 1065.34 1529.92 L1065.34 1512.56 Z\" fill=\"#000000\" fill-rule=\"evenodd\" fill-opacity=\"1\" /><path clip-path=\"url(#clip810)\" d=\"M 0 0 M1247.72 1515.64 Q1244.11 1515.64 1242.28 1519.2 Q1240.48 1522.75 1240.48 1529.87 Q1240.48 1536.98 1242.28 1540.55 Q1244.11 1544.09 1247.72 1544.09 Q1251.36 1544.09 1253.16 1540.55 Q1254.99 1536.98 1254.99 1529.87 Q1254.99 1522.75 1253.16 1519.2 Q1251.36 1515.64 1247.72 1515.64 M1247.72 1511.93 Q1253.53 1511.93 1256.59 1516.54 Q1259.67 1521.12 1259.67 1529.87 Q1259.67 1538.6 1256.59 1543.21 Q1253.53 1547.79 1247.72 1547.79 Q1241.91 1547.79 1238.83 1543.21 Q1235.78 1538.6 1235.78 1529.87 Q1235.78 1521.12 1238.83 1516.54 Q1241.91 1511.93 1247.72 1511.93 Z\" fill=\"#000000\" fill-rule=\"evenodd\" fill-opacity=\"1\" /><path clip-path=\"url(#clip810)\" d=\"M 0 0 M1264.73 1541.24 L1269.62 1541.24 L1269.62 1547.12 L1264.73 1547.12 L1264.73 1541.24 Z\" fill=\"#000000\" fill-rule=\"evenodd\" fill-opacity=\"1\" /><path clip-path=\"url(#clip810)\" d=\"M 0 0 M1284.69 1515.64 Q1281.08 1515.64 1279.25 1519.2 Q1277.44 1522.75 1277.44 1529.87 Q1277.44 1536.98 1279.25 1540.55 Q1281.08 1544.09 1284.69 1544.09 Q1288.32 1544.09 1290.13 1540.55 Q1291.96 1536.98 1291.96 1529.87 Q1291.96 1522.75 1290.13 1519.2 Q1288.32 1515.64 1284.69 1515.64 M1284.69 1511.93 Q1290.5 1511.93 1293.55 1516.54 Q1296.63 1521.12 1296.63 1529.87 Q1296.63 1538.6 1293.55 1543.21 Q1290.5 1547.79 1284.69 1547.79 Q1278.88 1547.79 1275.8 1543.21 Q1272.74 1538.6 1272.74 1529.87 Q1272.74 1521.12 1275.8 1516.54 Q1278.88 1511.93 1284.69 1511.93 Z\" fill=\"#000000\" fill-rule=\"evenodd\" fill-opacity=\"1\" /><path clip-path=\"url(#clip810)\" d=\"M 0 0 M1474.51 1515.64 Q1470.9 1515.64 1469.07 1519.2 Q1467.26 1522.75 1467.26 1529.87 Q1467.26 1536.98 1469.07 1540.55 Q1470.9 1544.09 1474.51 1544.09 Q1478.14 1544.09 1479.95 1540.55 Q1481.78 1536.98 1481.78 1529.87 Q1481.78 1522.75 1479.95 1519.2 Q1478.14 1515.64 1474.51 1515.64 M1474.51 1511.93 Q1480.32 1511.93 1483.37 1516.54 Q1486.45 1521.12 1486.45 1529.87 Q1486.45 1538.6 1483.37 1543.21 Q1480.32 1547.79 1474.51 1547.79 Q1468.7 1547.79 1465.62 1543.21 Q1462.56 1538.6 1462.56 1529.87 Q1462.56 1521.12 1465.62 1516.54 Q1468.7 1511.93 1474.51 1511.93 Z\" fill=\"#000000\" fill-rule=\"evenodd\" fill-opacity=\"1\" /><path clip-path=\"url(#clip810)\" d=\"M 0 0 M1491.52 1541.24 L1496.41 1541.24 L1496.41 1547.12 L1491.52 1547.12 L1491.52 1541.24 Z\" fill=\"#000000\" fill-rule=\"evenodd\" fill-opacity=\"1\" /><path clip-path=\"url(#clip810)\" d=\"M 0 0 M1501.52 1512.56 L1519.88 1512.56 L1519.88 1516.5 L1505.8 1516.5 L1505.8 1524.97 Q1506.82 1524.62 1507.84 1524.46 Q1508.86 1524.27 1509.88 1524.27 Q1515.67 1524.27 1519.05 1527.44 Q1522.43 1530.62 1522.43 1536.03 Q1522.43 1541.61 1518.95 1544.71 Q1515.48 1547.79 1509.16 1547.79 Q1506.99 1547.79 1504.72 1547.42 Q1502.47 1547.05 1500.06 1546.31 L1500.06 1541.61 Q1502.15 1542.74 1504.37 1543.3 Q1506.59 1543.86 1509.07 1543.86 Q1513.07 1543.86 1515.41 1541.75 Q1517.75 1539.64 1517.75 1536.03 Q1517.75 1532.42 1515.41 1530.31 Q1513.07 1528.21 1509.07 1528.21 Q1507.19 1528.21 1505.32 1528.62 Q1503.47 1529.04 1501.52 1529.92 L1501.52 1512.56 Z\" fill=\"#000000\" fill-rule=\"evenodd\" fill-opacity=\"1\" /><path clip-path=\"url(#clip810)\" d=\"M 0 0 M1690.68 1543.18 L1698.32 1543.18 L1698.32 1516.82 L1690.01 1518.49 L1690.01 1514.23 L1698.28 1512.56 L1702.95 1512.56 L1702.95 1543.18 L1710.59 1543.18 L1710.59 1547.12 L1690.68 1547.12 L1690.68 1543.18 Z\" fill=\"#000000\" fill-rule=\"evenodd\" fill-opacity=\"1\" /><path clip-path=\"url(#clip810)\" d=\"M 0 0 M1715.66 1541.24 L1720.54 1541.24 L1720.54 1547.12 L1715.66 1547.12 L1715.66 1541.24 Z\" fill=\"#000000\" fill-rule=\"evenodd\" fill-opacity=\"1\" /><path clip-path=\"url(#clip810)\" d=\"M 0 0 M1735.61 1515.64 Q1732 1515.64 1730.17 1519.2 Q1728.37 1522.75 1728.37 1529.87 Q1728.37 1536.98 1730.17 1540.55 Q1732 1544.09 1735.61 1544.09 Q1739.25 1544.09 1741.05 1540.55 Q1742.88 1536.98 1742.88 1529.87 Q1742.88 1522.75 1741.05 1519.2 Q1739.25 1515.64 1735.61 1515.64 M1735.61 1511.93 Q1741.42 1511.93 1744.48 1516.54 Q1747.56 1521.12 1747.56 1529.87 Q1747.56 1538.6 1744.48 1543.21 Q1741.42 1547.79 1735.61 1547.79 Q1729.8 1547.79 1726.72 1543.21 Q1723.67 1538.6 1723.67 1529.87 Q1723.67 1521.12 1726.72 1516.54 Q1729.8 1511.93 1735.61 1511.93 Z\" fill=\"#000000\" fill-rule=\"evenodd\" fill-opacity=\"1\" /><path clip-path=\"url(#clip810)\" d=\"M 0 0 M1917.47 1543.18 L1925.11 1543.18 L1925.11 1516.82 L1916.8 1518.49 L1916.8 1514.23 L1925.06 1512.56 L1929.74 1512.56 L1929.74 1543.18 L1937.38 1543.18 L1937.38 1547.12 L1917.47 1547.12 L1917.47 1543.18 Z\" fill=\"#000000\" fill-rule=\"evenodd\" fill-opacity=\"1\" /><path clip-path=\"url(#clip810)\" d=\"M 0 0 M1942.45 1541.24 L1947.33 1541.24 L1947.33 1547.12 L1942.45 1547.12 L1942.45 1541.24 Z\" fill=\"#000000\" fill-rule=\"evenodd\" fill-opacity=\"1\" /><path clip-path=\"url(#clip810)\" d=\"M 0 0 M1952.45 1512.56 L1970.8 1512.56 L1970.8 1516.5 L1956.73 1516.5 L1956.73 1524.97 Q1957.75 1524.62 1958.77 1524.46 Q1959.79 1524.27 1960.8 1524.27 Q1966.59 1524.27 1969.97 1527.44 Q1973.35 1530.62 1973.35 1536.03 Q1973.35 1541.61 1969.88 1544.71 Q1966.41 1547.79 1960.09 1547.79 Q1957.91 1547.79 1955.64 1547.42 Q1953.4 1547.05 1950.99 1546.31 L1950.99 1541.61 Q1953.07 1542.74 1955.29 1543.3 Q1957.52 1543.86 1959.99 1543.86 Q1964 1543.86 1966.34 1541.75 Q1968.67 1539.64 1968.67 1536.03 Q1968.67 1532.42 1966.34 1530.31 Q1964 1528.21 1959.99 1528.21 Q1958.12 1528.21 1956.24 1528.62 Q1954.39 1529.04 1952.45 1529.92 L1952.45 1512.56 Z\" fill=\"#000000\" fill-rule=\"evenodd\" fill-opacity=\"1\" /><polyline clip-path=\"url(#clip812)\" style=\"stroke:#000000; stroke-width:2; stroke-opacity:0.1; fill:none\" points=\"\n",
       "  546.603,1445.72 1985.81,1445.72 \n",
       "  \"/>\n",
       "<polyline clip-path=\"url(#clip812)\" style=\"stroke:#000000; stroke-width:2; stroke-opacity:0.1; fill:none\" points=\"\n",
       "  546.603,1219.43 1985.81,1219.43 \n",
       "  \"/>\n",
       "<polyline clip-path=\"url(#clip812)\" style=\"stroke:#000000; stroke-width:2; stroke-opacity:0.1; fill:none\" points=\"\n",
       "  546.603,993.136 1985.81,993.136 \n",
       "  \"/>\n",
       "<polyline clip-path=\"url(#clip812)\" style=\"stroke:#000000; stroke-width:2; stroke-opacity:0.1; fill:none\" points=\"\n",
       "  546.603,766.846 1985.81,766.846 \n",
       "  \"/>\n",
       "<polyline clip-path=\"url(#clip812)\" style=\"stroke:#000000; stroke-width:2; stroke-opacity:0.1; fill:none\" points=\"\n",
       "  546.603,540.556 1985.81,540.556 \n",
       "  \"/>\n",
       "<polyline clip-path=\"url(#clip812)\" style=\"stroke:#000000; stroke-width:2; stroke-opacity:0.1; fill:none\" points=\"\n",
       "  546.603,314.266 1985.81,314.266 \n",
       "  \"/>\n",
       "<polyline clip-path=\"url(#clip812)\" style=\"stroke:#000000; stroke-width:2; stroke-opacity:0.1; fill:none\" points=\"\n",
       "  546.603,87.9763 1985.81,87.9763 \n",
       "  \"/>\n",
       "<polyline clip-path=\"url(#clip810)\" style=\"stroke:#000000; stroke-width:4; stroke-opacity:1; fill:none\" points=\"\n",
       "  546.603,1486.45 546.603,47.2441 \n",
       "  \"/>\n",
       "<polyline clip-path=\"url(#clip810)\" style=\"stroke:#000000; stroke-width:4; stroke-opacity:1; fill:none\" points=\"\n",
       "  546.603,1445.72 563.873,1445.72 \n",
       "  \"/>\n",
       "<polyline clip-path=\"url(#clip810)\" style=\"stroke:#000000; stroke-width:4; stroke-opacity:1; fill:none\" points=\"\n",
       "  546.603,1219.43 563.873,1219.43 \n",
       "  \"/>\n",
       "<polyline clip-path=\"url(#clip810)\" style=\"stroke:#000000; stroke-width:4; stroke-opacity:1; fill:none\" points=\"\n",
       "  546.603,993.136 563.873,993.136 \n",
       "  \"/>\n",
       "<polyline clip-path=\"url(#clip810)\" style=\"stroke:#000000; stroke-width:4; stroke-opacity:1; fill:none\" points=\"\n",
       "  546.603,766.846 563.873,766.846 \n",
       "  \"/>\n",
       "<polyline clip-path=\"url(#clip810)\" style=\"stroke:#000000; stroke-width:4; stroke-opacity:1; fill:none\" points=\"\n",
       "  546.603,540.556 563.873,540.556 \n",
       "  \"/>\n",
       "<polyline clip-path=\"url(#clip810)\" style=\"stroke:#000000; stroke-width:4; stroke-opacity:1; fill:none\" points=\"\n",
       "  546.603,314.266 563.873,314.266 \n",
       "  \"/>\n",
       "<polyline clip-path=\"url(#clip810)\" style=\"stroke:#000000; stroke-width:4; stroke-opacity:1; fill:none\" points=\"\n",
       "  546.603,87.9763 563.873,87.9763 \n",
       "  \"/>\n",
       "<path clip-path=\"url(#clip810)\" d=\"M 0 0 M419.168 1446.17 L448.844 1446.17 L448.844 1450.1 L419.168 1450.1 L419.168 1446.17 Z\" fill=\"#000000\" fill-rule=\"evenodd\" fill-opacity=\"1\" /><path clip-path=\"url(#clip810)\" d=\"M 0 0 M454.724 1459.06 L462.362 1459.06 L462.362 1432.69 L454.052 1434.36 L454.052 1430.1 L462.316 1428.44 L466.992 1428.44 L466.992 1459.06 L474.631 1459.06 L474.631 1463 L454.724 1463 L454.724 1459.06 Z\" fill=\"#000000\" fill-rule=\"evenodd\" fill-opacity=\"1\" /><path clip-path=\"url(#clip810)\" d=\"M 0 0 M479.7 1457.12 L484.585 1457.12 L484.585 1463 L479.7 1463 L479.7 1457.12 Z\" fill=\"#000000\" fill-rule=\"evenodd\" fill-opacity=\"1\" /><path clip-path=\"url(#clip810)\" d=\"M 0 0 M489.7 1428.44 L508.057 1428.44 L508.057 1432.37 L493.983 1432.37 L493.983 1440.84 Q495.001 1440.5 496.02 1440.33 Q497.038 1440.15 498.057 1440.15 Q503.844 1440.15 507.223 1443.32 Q510.603 1446.49 510.603 1451.91 Q510.603 1457.49 507.131 1460.59 Q503.658 1463.67 497.339 1463.67 Q495.163 1463.67 492.895 1463.3 Q490.649 1462.93 488.242 1462.19 L488.242 1457.49 Q490.325 1458.62 492.547 1459.18 Q494.77 1459.73 497.246 1459.73 Q501.251 1459.73 503.589 1457.63 Q505.927 1455.52 505.927 1451.91 Q505.927 1448.3 503.589 1446.19 Q501.251 1444.08 497.246 1444.08 Q495.371 1444.08 493.497 1444.5 Q491.645 1444.92 489.7 1445.8 L489.7 1428.44 Z\" fill=\"#000000\" fill-rule=\"evenodd\" fill-opacity=\"1\" /><path clip-path=\"url(#clip810)\" d=\"M 0 0 M418.173 1219.88 L447.849 1219.88 L447.849 1223.81 L418.173 1223.81 L418.173 1219.88 Z\" fill=\"#000000\" fill-rule=\"evenodd\" fill-opacity=\"1\" /><path clip-path=\"url(#clip810)\" d=\"M 0 0 M453.728 1232.77 L461.367 1232.77 L461.367 1206.41 L453.057 1208.07 L453.057 1203.81 L461.321 1202.15 L465.997 1202.15 L465.997 1232.77 L473.636 1232.77 L473.636 1236.71 L453.728 1236.71 L453.728 1232.77 Z\" fill=\"#000000\" fill-rule=\"evenodd\" fill-opacity=\"1\" /><path clip-path=\"url(#clip810)\" d=\"M 0 0 M478.705 1230.83 L483.589 1230.83 L483.589 1236.71 L478.705 1236.71 L478.705 1230.83 Z\" fill=\"#000000\" fill-rule=\"evenodd\" fill-opacity=\"1\" /><path clip-path=\"url(#clip810)\" d=\"M 0 0 M498.659 1205.22 Q495.047 1205.22 493.219 1208.79 Q491.413 1212.33 491.413 1219.46 Q491.413 1226.57 493.219 1230.13 Q495.047 1233.67 498.659 1233.67 Q502.293 1233.67 504.098 1230.13 Q505.927 1226.57 505.927 1219.46 Q505.927 1212.33 504.098 1208.79 Q502.293 1205.22 498.659 1205.22 M498.659 1201.52 Q504.469 1201.52 507.524 1206.13 Q510.603 1210.71 510.603 1219.46 Q510.603 1228.19 507.524 1232.79 Q504.469 1237.38 498.659 1237.38 Q492.848 1237.38 489.77 1232.79 Q486.714 1228.19 486.714 1219.46 Q486.714 1210.71 489.77 1206.13 Q492.848 1201.52 498.659 1201.52 Z\" fill=\"#000000\" fill-rule=\"evenodd\" fill-opacity=\"1\" /><path clip-path=\"url(#clip810)\" d=\"M 0 0 M417.941 993.587 L447.617 993.587 L447.617 997.522 L417.941 997.522 L417.941 993.587 Z\" fill=\"#000000\" fill-rule=\"evenodd\" fill-opacity=\"1\" /><path clip-path=\"url(#clip810)\" d=\"M 0 0 M462.686 978.935 Q459.075 978.935 457.247 982.499 Q455.441 986.041 455.441 993.171 Q455.441 1000.28 457.247 1003.84 Q459.075 1007.38 462.686 1007.38 Q466.321 1007.38 468.126 1003.84 Q469.955 1000.28 469.955 993.171 Q469.955 986.041 468.126 982.499 Q466.321 978.935 462.686 978.935 M462.686 975.231 Q468.497 975.231 471.552 979.837 Q474.631 984.421 474.631 993.171 Q474.631 1001.9 471.552 1006.5 Q468.497 1011.09 462.686 1011.09 Q456.876 1011.09 453.798 1006.5 Q450.742 1001.9 450.742 993.171 Q450.742 984.421 453.798 979.837 Q456.876 975.231 462.686 975.231 Z\" fill=\"#000000\" fill-rule=\"evenodd\" fill-opacity=\"1\" /><path clip-path=\"url(#clip810)\" d=\"M 0 0 M479.7 1004.54 L484.585 1004.54 L484.585 1010.42 L479.7 1010.42 L479.7 1004.54 Z\" fill=\"#000000\" fill-rule=\"evenodd\" fill-opacity=\"1\" /><path clip-path=\"url(#clip810)\" d=\"M 0 0 M489.7 975.856 L508.057 975.856 L508.057 979.791 L493.983 979.791 L493.983 988.263 Q495.001 987.916 496.02 987.754 Q497.038 987.569 498.057 987.569 Q503.844 987.569 507.223 990.74 Q510.603 993.911 510.603 999.328 Q510.603 1004.91 507.131 1008.01 Q503.658 1011.09 497.339 1011.09 Q495.163 1011.09 492.895 1010.72 Q490.649 1010.35 488.242 1009.61 L488.242 1004.91 Q490.325 1006.04 492.547 1006.6 Q494.77 1007.15 497.246 1007.15 Q501.251 1007.15 503.589 1005.05 Q505.927 1002.94 505.927 999.328 Q505.927 995.717 503.589 993.61 Q501.251 991.504 497.246 991.504 Q495.371 991.504 493.497 991.921 Q491.645 992.337 489.7 993.217 L489.7 975.856 Z\" fill=\"#000000\" fill-rule=\"evenodd\" fill-opacity=\"1\" /><path clip-path=\"url(#clip810)\" d=\"M 0 0 M461.691 752.645 Q458.08 752.645 456.251 756.209 Q454.446 759.751 454.446 766.881 Q454.446 773.987 456.251 777.552 Q458.08 781.094 461.691 781.094 Q465.325 781.094 467.131 777.552 Q468.96 773.987 468.96 766.881 Q468.96 759.751 467.131 756.209 Q465.325 752.645 461.691 752.645 M461.691 748.941 Q467.501 748.941 470.557 753.547 Q473.636 758.131 473.636 766.881 Q473.636 775.608 470.557 780.214 Q467.501 784.797 461.691 784.797 Q455.881 784.797 452.802 780.214 Q449.747 775.608 449.747 766.881 Q449.747 758.131 452.802 753.547 Q455.881 748.941 461.691 748.941 Z\" fill=\"#000000\" fill-rule=\"evenodd\" fill-opacity=\"1\" /><path clip-path=\"url(#clip810)\" d=\"M 0 0 M478.705 778.246 L483.589 778.246 L483.589 784.126 L478.705 784.126 L478.705 778.246 Z\" fill=\"#000000\" fill-rule=\"evenodd\" fill-opacity=\"1\" /><path clip-path=\"url(#clip810)\" d=\"M 0 0 M498.659 752.645 Q495.047 752.645 493.219 756.209 Q491.413 759.751 491.413 766.881 Q491.413 773.987 493.219 777.552 Q495.047 781.094 498.659 781.094 Q502.293 781.094 504.098 777.552 Q505.927 773.987 505.927 766.881 Q505.927 759.751 504.098 756.209 Q502.293 752.645 498.659 752.645 M498.659 748.941 Q504.469 748.941 507.524 753.547 Q510.603 758.131 510.603 766.881 Q510.603 775.608 507.524 780.214 Q504.469 784.797 498.659 784.797 Q492.848 784.797 489.77 780.214 Q486.714 775.608 486.714 766.881 Q486.714 758.131 489.77 753.547 Q492.848 748.941 498.659 748.941 Z\" fill=\"#000000\" fill-rule=\"evenodd\" fill-opacity=\"1\" /><path clip-path=\"url(#clip810)\" d=\"M 0 0 M462.686 526.355 Q459.075 526.355 457.247 529.92 Q455.441 533.461 455.441 540.591 Q455.441 547.697 457.247 551.262 Q459.075 554.804 462.686 554.804 Q466.321 554.804 468.126 551.262 Q469.955 547.697 469.955 540.591 Q469.955 533.461 468.126 529.92 Q466.321 526.355 462.686 526.355 M462.686 522.651 Q468.497 522.651 471.552 527.258 Q474.631 531.841 474.631 540.591 Q474.631 549.318 471.552 553.924 Q468.497 558.507 462.686 558.507 Q456.876 558.507 453.798 553.924 Q450.742 549.318 450.742 540.591 Q450.742 531.841 453.798 527.258 Q456.876 522.651 462.686 522.651 Z\" fill=\"#000000\" fill-rule=\"evenodd\" fill-opacity=\"1\" /><path clip-path=\"url(#clip810)\" d=\"M 0 0 M479.7 551.956 L484.585 551.956 L484.585 557.836 L479.7 557.836 L479.7 551.956 Z\" fill=\"#000000\" fill-rule=\"evenodd\" fill-opacity=\"1\" /><path clip-path=\"url(#clip810)\" d=\"M 0 0 M489.7 523.276 L508.057 523.276 L508.057 527.211 L493.983 527.211 L493.983 535.683 Q495.001 535.336 496.02 535.174 Q497.038 534.989 498.057 534.989 Q503.844 534.989 507.223 538.16 Q510.603 541.332 510.603 546.748 Q510.603 552.327 507.131 555.429 Q503.658 558.507 497.339 558.507 Q495.163 558.507 492.895 558.137 Q490.649 557.767 488.242 557.026 L488.242 552.327 Q490.325 553.461 492.547 554.017 Q494.77 554.572 497.246 554.572 Q501.251 554.572 503.589 552.466 Q505.927 550.359 505.927 546.748 Q505.927 543.137 503.589 541.031 Q501.251 538.924 497.246 538.924 Q495.371 538.924 493.497 539.341 Q491.645 539.757 489.7 540.637 L489.7 523.276 Z\" fill=\"#000000\" fill-rule=\"evenodd\" fill-opacity=\"1\" /><path clip-path=\"url(#clip810)\" d=\"M 0 0 M453.728 327.611 L461.367 327.611 L461.367 301.245 L453.057 302.912 L453.057 298.653 L461.321 296.986 L465.997 296.986 L465.997 327.611 L473.636 327.611 L473.636 331.546 L453.728 331.546 L453.728 327.611 Z\" fill=\"#000000\" fill-rule=\"evenodd\" fill-opacity=\"1\" /><path clip-path=\"url(#clip810)\" d=\"M 0 0 M478.705 325.667 L483.589 325.667 L483.589 331.546 L478.705 331.546 L478.705 325.667 Z\" fill=\"#000000\" fill-rule=\"evenodd\" fill-opacity=\"1\" /><path clip-path=\"url(#clip810)\" d=\"M 0 0 M498.659 300.065 Q495.047 300.065 493.219 303.63 Q491.413 307.171 491.413 314.301 Q491.413 321.407 493.219 324.972 Q495.047 328.514 498.659 328.514 Q502.293 328.514 504.098 324.972 Q505.927 321.407 505.927 314.301 Q505.927 307.171 504.098 303.63 Q502.293 300.065 498.659 300.065 M498.659 296.361 Q504.469 296.361 507.524 300.968 Q510.603 305.551 510.603 314.301 Q510.603 323.028 507.524 327.634 Q504.469 332.217 498.659 332.217 Q492.848 332.217 489.77 327.634 Q486.714 323.028 486.714 314.301 Q486.714 305.551 489.77 300.968 Q492.848 296.361 498.659 296.361 Z\" fill=\"#000000\" fill-rule=\"evenodd\" fill-opacity=\"1\" /><path clip-path=\"url(#clip810)\" d=\"M 0 0 M454.724 101.321 L462.362 101.321 L462.362 74.9555 L454.052 76.6222 L454.052 72.3629 L462.316 70.6963 L466.992 70.6963 L466.992 101.321 L474.631 101.321 L474.631 105.256 L454.724 105.256 L454.724 101.321 Z\" fill=\"#000000\" fill-rule=\"evenodd\" fill-opacity=\"1\" /><path clip-path=\"url(#clip810)\" d=\"M 0 0 M479.7 99.3767 L484.585 99.3767 L484.585 105.256 L479.7 105.256 L479.7 99.3767 Z\" fill=\"#000000\" fill-rule=\"evenodd\" fill-opacity=\"1\" /><path clip-path=\"url(#clip810)\" d=\"M 0 0 M489.7 70.6963 L508.057 70.6963 L508.057 74.6314 L493.983 74.6314 L493.983 83.1036 Q495.001 82.7564 496.02 82.5944 Q497.038 82.4092 498.057 82.4092 Q503.844 82.4092 507.223 85.5805 Q510.603 88.7517 510.603 94.1684 Q510.603 99.747 507.131 102.849 Q503.658 105.928 497.339 105.928 Q495.163 105.928 492.895 105.557 Q490.649 105.187 488.242 104.446 L488.242 99.747 Q490.325 100.881 492.547 101.437 Q494.77 101.992 497.246 101.992 Q501.251 101.992 503.589 99.8859 Q505.927 97.7795 505.927 94.1684 Q505.927 90.5573 503.589 88.4508 Q501.251 86.3443 497.246 86.3443 Q495.371 86.3443 493.497 86.761 Q491.645 87.1777 489.7 88.0573 L489.7 70.6963 Z\" fill=\"#000000\" fill-rule=\"evenodd\" fill-opacity=\"1\" /><circle clip-path=\"url(#clip812)\" cx=\"1169.07\" cy=\"791.922\" r=\"14\" fill=\"#009af9\" fill-rule=\"evenodd\" fill-opacity=\"1\" stroke=\"#000000\" stroke-opacity=\"1\" stroke-width=\"3.2\"/>\n",
       "<circle clip-path=\"url(#clip812)\" cx=\"1002.33\" cy=\"645.289\" r=\"14\" fill=\"#009af9\" fill-rule=\"evenodd\" fill-opacity=\"1\" stroke=\"#000000\" stroke-opacity=\"1\" stroke-width=\"3.2\"/>\n",
       "<circle clip-path=\"url(#clip812)\" cx=\"1607.05\" cy=\"491.773\" r=\"14\" fill=\"#009af9\" fill-rule=\"evenodd\" fill-opacity=\"1\" stroke=\"#000000\" stroke-opacity=\"1\" stroke-width=\"3.2\"/>\n",
       "<circle clip-path=\"url(#clip812)\" cx=\"890.753\" cy=\"531.967\" r=\"14\" fill=\"#009af9\" fill-rule=\"evenodd\" fill-opacity=\"1\" stroke=\"#000000\" stroke-opacity=\"1\" stroke-width=\"3.2\"/>\n",
       "<circle clip-path=\"url(#clip812)\" cx=\"1436.51\" cy=\"1167.98\" r=\"14\" fill=\"#009af9\" fill-rule=\"evenodd\" fill-opacity=\"1\" stroke=\"#000000\" stroke-opacity=\"1\" stroke-width=\"3.2\"/>\n",
       "<circle clip-path=\"url(#clip812)\" cx=\"1105.82\" cy=\"960.151\" r=\"14\" fill=\"#009af9\" fill-rule=\"evenodd\" fill-opacity=\"1\" stroke=\"#000000\" stroke-opacity=\"1\" stroke-width=\"3.2\"/>\n",
       "<circle clip-path=\"url(#clip812)\" cx=\"1002.33\" cy=\"645.289\" r=\"14\" fill=\"#009af9\" fill-rule=\"evenodd\" fill-opacity=\"1\" stroke=\"#000000\" stroke-opacity=\"1\" stroke-width=\"3.2\"/>\n",
       "<circle clip-path=\"url(#clip812)\" cx=\"1144.5\" cy=\"1186.7\" r=\"14\" fill=\"#009af9\" fill-rule=\"evenodd\" fill-opacity=\"1\" stroke=\"#000000\" stroke-opacity=\"1\" stroke-width=\"3.2\"/>\n",
       "<circle clip-path=\"url(#clip812)\" cx=\"998.146\" cy=\"1119.37\" r=\"14\" fill=\"#009af9\" fill-rule=\"evenodd\" fill-opacity=\"1\" stroke=\"#000000\" stroke-opacity=\"1\" stroke-width=\"3.2\"/>\n",
       "<circle clip-path=\"url(#clip812)\" cx=\"1464.75\" cy=\"383.691\" r=\"14\" fill=\"#009af9\" fill-rule=\"evenodd\" fill-opacity=\"1\" stroke=\"#000000\" stroke-opacity=\"1\" stroke-width=\"3.2\"/>\n",
       "<circle clip-path=\"url(#clip812)\" cx=\"1464.75\" cy=\"383.691\" r=\"14\" fill=\"#009af9\" fill-rule=\"evenodd\" fill-opacity=\"1\" stroke=\"#000000\" stroke-opacity=\"1\" stroke-width=\"3.2\"/>\n",
       "<circle clip-path=\"url(#clip812)\" cx=\"1171.01\" cy=\"649.166\" r=\"14\" fill=\"#009af9\" fill-rule=\"evenodd\" fill-opacity=\"1\" stroke=\"#000000\" stroke-opacity=\"1\" stroke-width=\"3.2\"/>\n",
       "<circle clip-path=\"url(#clip812)\" cx=\"890.753\" cy=\"531.967\" r=\"14\" fill=\"#009af9\" fill-rule=\"evenodd\" fill-opacity=\"1\" stroke=\"#000000\" stroke-opacity=\"1\" stroke-width=\"3.2\"/>\n",
       "<circle clip-path=\"url(#clip812)\" cx=\"890.753\" cy=\"531.967\" r=\"14\" fill=\"#009af9\" fill-rule=\"evenodd\" fill-opacity=\"1\" stroke=\"#000000\" stroke-opacity=\"1\" stroke-width=\"3.2\"/>\n",
       "<circle clip-path=\"url(#clip812)\" cx=\"1428.21\" cy=\"992.225\" r=\"14\" fill=\"#009af9\" fill-rule=\"evenodd\" fill-opacity=\"1\" stroke=\"#000000\" stroke-opacity=\"1\" stroke-width=\"3.2\"/>\n",
       "<circle clip-path=\"url(#clip812)\" cx=\"1105.82\" cy=\"960.151\" r=\"14\" fill=\"#009af9\" fill-rule=\"evenodd\" fill-opacity=\"1\" stroke=\"#000000\" stroke-opacity=\"1\" stroke-width=\"3.2\"/>\n",
       "<circle clip-path=\"url(#clip812)\" cx=\"998.146\" cy=\"1119.37\" r=\"14\" fill=\"#009af9\" fill-rule=\"evenodd\" fill-opacity=\"1\" stroke=\"#000000\" stroke-opacity=\"1\" stroke-width=\"3.2\"/>\n",
       "<circle clip-path=\"url(#clip812)\" cx=\"1689.66\" cy=\"626.302\" r=\"14\" fill=\"#009af9\" fill-rule=\"evenodd\" fill-opacity=\"1\" stroke=\"#000000\" stroke-opacity=\"1\" stroke-width=\"3.2\"/>\n",
       "<circle clip-path=\"url(#clip812)\" cx=\"998.146\" cy=\"1119.37\" r=\"14\" fill=\"#009af9\" fill-rule=\"evenodd\" fill-opacity=\"1\" stroke=\"#000000\" stroke-opacity=\"1\" stroke-width=\"3.2\"/>\n",
       "<circle clip-path=\"url(#clip812)\" cx=\"992.742\" cy=\"422.016\" r=\"14\" fill=\"#009af9\" fill-rule=\"evenodd\" fill-opacity=\"1\" stroke=\"#000000\" stroke-opacity=\"1\" stroke-width=\"3.2\"/>\n",
       "<circle clip-path=\"url(#clip812)\" cx=\"1428.21\" cy=\"992.225\" r=\"14\" fill=\"#009af9\" fill-rule=\"evenodd\" fill-opacity=\"1\" stroke=\"#000000\" stroke-opacity=\"1\" stroke-width=\"3.2\"/>\n",
       "<circle clip-path=\"url(#clip812)\" cx=\"1148.75\" cy=\"336.913\" r=\"14\" fill=\"#009af9\" fill-rule=\"evenodd\" fill-opacity=\"1\" stroke=\"#000000\" stroke-opacity=\"1\" stroke-width=\"3.2\"/>\n",
       "<circle clip-path=\"url(#clip812)\" cx=\"1329.9\" cy=\"654.4\" r=\"14\" fill=\"#009af9\" fill-rule=\"evenodd\" fill-opacity=\"1\" stroke=\"#000000\" stroke-opacity=\"1\" stroke-width=\"3.2\"/>\n",
       "<circle clip-path=\"url(#clip812)\" cx=\"890.753\" cy=\"531.967\" r=\"14\" fill=\"#009af9\" fill-rule=\"evenodd\" fill-opacity=\"1\" stroke=\"#000000\" stroke-opacity=\"1\" stroke-width=\"3.2\"/>\n",
       "<circle clip-path=\"url(#clip812)\" cx=\"1535.9\" cy=\"855.771\" r=\"14\" fill=\"#009af9\" fill-rule=\"evenodd\" fill-opacity=\"1\" stroke=\"#000000\" stroke-opacity=\"1\" stroke-width=\"3.2\"/>\n",
       "<circle clip-path=\"url(#clip812)\" cx=\"1464.75\" cy=\"383.691\" r=\"14\" fill=\"#009af9\" fill-rule=\"evenodd\" fill-opacity=\"1\" stroke=\"#000000\" stroke-opacity=\"1\" stroke-width=\"3.2\"/>\n",
       "<circle clip-path=\"url(#clip812)\" cx=\"901.54\" cy=\"1002.61\" r=\"14\" fill=\"#009af9\" fill-rule=\"evenodd\" fill-opacity=\"1\" stroke=\"#000000\" stroke-opacity=\"1\" stroke-width=\"3.2\"/>\n",
       "<circle clip-path=\"url(#clip812)\" cx=\"829.175\" cy=\"846.234\" r=\"14\" fill=\"#009af9\" fill-rule=\"evenodd\" fill-opacity=\"1\" stroke=\"#000000\" stroke-opacity=\"1\" stroke-width=\"3.2\"/>\n",
       "<circle clip-path=\"url(#clip812)\" cx=\"1329.9\" cy=\"654.4\" r=\"14\" fill=\"#009af9\" fill-rule=\"evenodd\" fill-opacity=\"1\" stroke=\"#000000\" stroke-opacity=\"1\" stroke-width=\"3.2\"/>\n",
       "<circle clip-path=\"url(#clip812)\" cx=\"990.537\" cy=\"823.912\" r=\"14\" fill=\"#009af9\" fill-rule=\"evenodd\" fill-opacity=\"1\" stroke=\"#000000\" stroke-opacity=\"1\" stroke-width=\"3.2\"/>\n",
       "<circle clip-path=\"url(#clip812)\" cx=\"1439.05\" cy=\"525.038\" r=\"14\" fill=\"#009af9\" fill-rule=\"evenodd\" fill-opacity=\"1\" stroke=\"#000000\" stroke-opacity=\"1\" stroke-width=\"3.2\"/>\n",
       "<circle clip-path=\"url(#clip812)\" cx=\"1277.4\" cy=\"489.938\" r=\"14\" fill=\"#009af9\" fill-rule=\"evenodd\" fill-opacity=\"1\" stroke=\"#000000\" stroke-opacity=\"1\" stroke-width=\"3.2\"/>\n",
       "<circle clip-path=\"url(#clip812)\" cx=\"990.537\" cy=\"823.912\" r=\"14\" fill=\"#009af9\" fill-rule=\"evenodd\" fill-opacity=\"1\" stroke=\"#000000\" stroke-opacity=\"1\" stroke-width=\"3.2\"/>\n",
       "<circle clip-path=\"url(#clip812)\" cx=\"1535.9\" cy=\"855.771\" r=\"14\" fill=\"#009af9\" fill-rule=\"evenodd\" fill-opacity=\"1\" stroke=\"#000000\" stroke-opacity=\"1\" stroke-width=\"3.2\"/>\n",
       "<circle clip-path=\"url(#clip812)\" cx=\"1301.39\" cy=\"1218.06\" r=\"14\" fill=\"#009af9\" fill-rule=\"evenodd\" fill-opacity=\"1\" stroke=\"#000000\" stroke-opacity=\"1\" stroke-width=\"3.2\"/>\n",
       "<circle clip-path=\"url(#clip812)\" cx=\"1110.54\" cy=\"516.098\" r=\"14\" fill=\"#009af9\" fill-rule=\"evenodd\" fill-opacity=\"1\" stroke=\"#000000\" stroke-opacity=\"1\" stroke-width=\"3.2\"/>\n",
       "<circle clip-path=\"url(#clip812)\" cx=\"844.985\" cy=\"690.087\" r=\"14\" fill=\"#009af9\" fill-rule=\"evenodd\" fill-opacity=\"1\" stroke=\"#000000\" stroke-opacity=\"1\" stroke-width=\"3.2\"/>\n",
       "<circle clip-path=\"url(#clip812)\" cx=\"1669.3\" cy=\"961.985\" r=\"14\" fill=\"#009af9\" fill-rule=\"evenodd\" fill-opacity=\"1\" stroke=\"#000000\" stroke-opacity=\"1\" stroke-width=\"3.2\"/>\n",
       "<circle clip-path=\"url(#clip812)\" cx=\"1239.76\" cy=\"1049.3\" r=\"14\" fill=\"#009af9\" fill-rule=\"evenodd\" fill-opacity=\"1\" stroke=\"#000000\" stroke-opacity=\"1\" stroke-width=\"3.2\"/>\n",
       "<circle clip-path=\"url(#clip812)\" cx=\"992.742\" cy=\"422.016\" r=\"14\" fill=\"#009af9\" fill-rule=\"evenodd\" fill-opacity=\"1\" stroke=\"#000000\" stroke-opacity=\"1\" stroke-width=\"3.2\"/>\n",
       "<circle clip-path=\"url(#clip812)\" cx=\"1607.05\" cy=\"491.773\" r=\"14\" fill=\"#009af9\" fill-rule=\"evenodd\" fill-opacity=\"1\" stroke=\"#000000\" stroke-opacity=\"1\" stroke-width=\"3.2\"/>\n",
       "<circle clip-path=\"url(#clip812)\" cx=\"1148.75\" cy=\"336.913\" r=\"14\" fill=\"#009af9\" fill-rule=\"evenodd\" fill-opacity=\"1\" stroke=\"#000000\" stroke-opacity=\"1\" stroke-width=\"3.2\"/>\n",
       "<circle clip-path=\"url(#clip812)\" cx=\"1439.05\" cy=\"525.038\" r=\"14\" fill=\"#009af9\" fill-rule=\"evenodd\" fill-opacity=\"1\" stroke=\"#000000\" stroke-opacity=\"1\" stroke-width=\"3.2\"/>\n",
       "<circle clip-path=\"url(#clip812)\" cx=\"1144.5\" cy=\"1186.7\" r=\"14\" fill=\"#009af9\" fill-rule=\"evenodd\" fill-opacity=\"1\" stroke=\"#000000\" stroke-opacity=\"1\" stroke-width=\"3.2\"/>\n",
       "<circle clip-path=\"url(#clip812)\" cx=\"1607.05\" cy=\"491.773\" r=\"14\" fill=\"#009af9\" fill-rule=\"evenodd\" fill-opacity=\"1\" stroke=\"#000000\" stroke-opacity=\"1\" stroke-width=\"3.2\"/>\n",
       "<circle clip-path=\"url(#clip812)\" cx=\"1709.96\" cy=\"798.648\" r=\"14\" fill=\"#009af9\" fill-rule=\"evenodd\" fill-opacity=\"1\" stroke=\"#000000\" stroke-opacity=\"1\" stroke-width=\"3.2\"/>\n",
       "<circle clip-path=\"url(#clip812)\" cx=\"992.742\" cy=\"422.016\" r=\"14\" fill=\"#009af9\" fill-rule=\"evenodd\" fill-opacity=\"1\" stroke=\"#000000\" stroke-opacity=\"1\" stroke-width=\"3.2\"/>\n",
       "<circle clip-path=\"url(#clip812)\" cx=\"1537.27\" cy=\"697.318\" r=\"14\" fill=\"#009af9\" fill-rule=\"evenodd\" fill-opacity=\"1\" stroke=\"#000000\" stroke-opacity=\"1\" stroke-width=\"3.2\"/>\n",
       "<circle clip-path=\"url(#clip812)\" cx=\"1709.96\" cy=\"798.648\" r=\"14\" fill=\"#009af9\" fill-rule=\"evenodd\" fill-opacity=\"1\" stroke=\"#000000\" stroke-opacity=\"1\" stroke-width=\"3.2\"/>\n",
       "<circle clip-path=\"url(#clip812)\" cx=\"1537.27\" cy=\"697.318\" r=\"14\" fill=\"#009af9\" fill-rule=\"evenodd\" fill-opacity=\"1\" stroke=\"#000000\" stroke-opacity=\"1\" stroke-width=\"3.2\"/>\n",
       "<circle clip-path=\"url(#clip812)\" cx=\"1148.75\" cy=\"336.913\" r=\"14\" fill=\"#009af9\" fill-rule=\"evenodd\" fill-opacity=\"1\" stroke=\"#000000\" stroke-opacity=\"1\" stroke-width=\"3.2\"/>\n",
       "<circle clip-path=\"url(#clip812)\" cx=\"1171.01\" cy=\"649.166\" r=\"14\" fill=\"#009af9\" fill-rule=\"evenodd\" fill-opacity=\"1\" stroke=\"#000000\" stroke-opacity=\"1\" stroke-width=\"3.2\"/>\n",
       "<circle clip-path=\"url(#clip812)\" cx=\"1329.9\" cy=\"654.4\" r=\"14\" fill=\"#009af9\" fill-rule=\"evenodd\" fill-opacity=\"1\" stroke=\"#000000\" stroke-opacity=\"1\" stroke-width=\"3.2\"/>\n",
       "<circle clip-path=\"url(#clip812)\" cx=\"1105.82\" cy=\"960.151\" r=\"14\" fill=\"#009af9\" fill-rule=\"evenodd\" fill-opacity=\"1\" stroke=\"#000000\" stroke-opacity=\"1\" stroke-width=\"3.2\"/>\n",
       "<circle clip-path=\"url(#clip812)\" cx=\"1574.27\" cy=\"1088.47\" r=\"14\" fill=\"#009af9\" fill-rule=\"evenodd\" fill-opacity=\"1\" stroke=\"#000000\" stroke-opacity=\"1\" stroke-width=\"3.2\"/>\n",
       "<circle clip-path=\"url(#clip812)\" cx=\"1607.05\" cy=\"491.773\" r=\"14\" fill=\"#009af9\" fill-rule=\"evenodd\" fill-opacity=\"1\" stroke=\"#000000\" stroke-opacity=\"1\" stroke-width=\"3.2\"/>\n",
       "<circle clip-path=\"url(#clip812)\" cx=\"1304.29\" cy=\"327.028\" r=\"14\" fill=\"#009af9\" fill-rule=\"evenodd\" fill-opacity=\"1\" stroke=\"#000000\" stroke-opacity=\"1\" stroke-width=\"3.2\"/>\n",
       "<circle clip-path=\"url(#clip812)\" cx=\"1002.33\" cy=\"645.289\" r=\"14\" fill=\"#009af9\" fill-rule=\"evenodd\" fill-opacity=\"1\" stroke=\"#000000\" stroke-opacity=\"1\" stroke-width=\"3.2\"/>\n",
       "<circle clip-path=\"url(#clip812)\" cx=\"1373.11\" cy=\"797.165\" r=\"14\" fill=\"#009af9\" fill-rule=\"evenodd\" fill-opacity=\"1\" stroke=\"#000000\" stroke-opacity=\"1\" stroke-width=\"3.2\"/>\n",
       "<circle clip-path=\"url(#clip812)\" cx=\"1373.11\" cy=\"797.165\" r=\"14\" fill=\"#009af9\" fill-rule=\"evenodd\" fill-opacity=\"1\" stroke=\"#000000\" stroke-opacity=\"1\" stroke-width=\"3.2\"/>\n",
       "<circle clip-path=\"url(#clip812)\" cx=\"1239.76\" cy=\"1049.3\" r=\"14\" fill=\"#009af9\" fill-rule=\"evenodd\" fill-opacity=\"1\" stroke=\"#000000\" stroke-opacity=\"1\" stroke-width=\"3.2\"/>\n",
       "<circle clip-path=\"url(#clip812)\" cx=\"844.985\" cy=\"690.087\" r=\"14\" fill=\"#009af9\" fill-rule=\"evenodd\" fill-opacity=\"1\" stroke=\"#000000\" stroke-opacity=\"1\" stroke-width=\"3.2\"/>\n",
       "<circle clip-path=\"url(#clip812)\" cx=\"990.537\" cy=\"823.912\" r=\"14\" fill=\"#009af9\" fill-rule=\"evenodd\" fill-opacity=\"1\" stroke=\"#000000\" stroke-opacity=\"1\" stroke-width=\"3.2\"/>\n",
       "<circle clip-path=\"url(#clip812)\" cx=\"990.537\" cy=\"823.912\" r=\"14\" fill=\"#009af9\" fill-rule=\"evenodd\" fill-opacity=\"1\" stroke=\"#000000\" stroke-opacity=\"1\" stroke-width=\"3.2\"/>\n",
       "<circle clip-path=\"url(#clip812)\" cx=\"1607.05\" cy=\"491.773\" r=\"14\" fill=\"#009af9\" fill-rule=\"evenodd\" fill-opacity=\"1\" stroke=\"#000000\" stroke-opacity=\"1\" stroke-width=\"3.2\"/>\n",
       "<circle clip-path=\"url(#clip812)\" cx=\"1301.39\" cy=\"1218.06\" r=\"14\" fill=\"#009af9\" fill-rule=\"evenodd\" fill-opacity=\"1\" stroke=\"#000000\" stroke-opacity=\"1\" stroke-width=\"3.2\"/>\n",
       "<circle clip-path=\"url(#clip812)\" cx=\"1436.51\" cy=\"1167.98\" r=\"14\" fill=\"#009af9\" fill-rule=\"evenodd\" fill-opacity=\"1\" stroke=\"#000000\" stroke-opacity=\"1\" stroke-width=\"3.2\"/>\n",
       "<circle clip-path=\"url(#clip812)\" cx=\"1373.11\" cy=\"797.165\" r=\"14\" fill=\"#009af9\" fill-rule=\"evenodd\" fill-opacity=\"1\" stroke=\"#000000\" stroke-opacity=\"1\" stroke-width=\"3.2\"/>\n",
       "<circle clip-path=\"url(#clip812)\" cx=\"1277.4\" cy=\"489.938\" r=\"14\" fill=\"#009af9\" fill-rule=\"evenodd\" fill-opacity=\"1\" stroke=\"#000000\" stroke-opacity=\"1\" stroke-width=\"3.2\"/>\n",
       "<circle clip-path=\"url(#clip812)\" cx=\"1689.66\" cy=\"626.302\" r=\"14\" fill=\"#009af9\" fill-rule=\"evenodd\" fill-opacity=\"1\" stroke=\"#000000\" stroke-opacity=\"1\" stroke-width=\"3.2\"/>\n",
       "<circle clip-path=\"url(#clip812)\" cx=\"1105.82\" cy=\"960.151\" r=\"14\" fill=\"#009af9\" fill-rule=\"evenodd\" fill-opacity=\"1\" stroke=\"#000000\" stroke-opacity=\"1\" stroke-width=\"3.2\"/>\n",
       "<circle clip-path=\"url(#clip812)\" cx=\"1329.9\" cy=\"654.4\" r=\"14\" fill=\"#009af9\" fill-rule=\"evenodd\" fill-opacity=\"1\" stroke=\"#000000\" stroke-opacity=\"1\" stroke-width=\"3.2\"/>\n",
       "<circle clip-path=\"url(#clip812)\" cx=\"1144.5\" cy=\"1186.7\" r=\"14\" fill=\"#009af9\" fill-rule=\"evenodd\" fill-opacity=\"1\" stroke=\"#000000\" stroke-opacity=\"1\" stroke-width=\"3.2\"/>\n",
       "<circle clip-path=\"url(#clip812)\" cx=\"1535.9\" cy=\"855.771\" r=\"14\" fill=\"#009af9\" fill-rule=\"evenodd\" fill-opacity=\"1\" stroke=\"#000000\" stroke-opacity=\"1\" stroke-width=\"3.2\"/>\n",
       "<circle clip-path=\"url(#clip812)\" cx=\"1304.29\" cy=\"327.028\" r=\"14\" fill=\"#009af9\" fill-rule=\"evenodd\" fill-opacity=\"1\" stroke=\"#000000\" stroke-opacity=\"1\" stroke-width=\"3.2\"/>\n",
       "<circle clip-path=\"url(#clip812)\" cx=\"844.985\" cy=\"690.087\" r=\"14\" fill=\"#009af9\" fill-rule=\"evenodd\" fill-opacity=\"1\" stroke=\"#000000\" stroke-opacity=\"1\" stroke-width=\"3.2\"/>\n",
       "<circle clip-path=\"url(#clip812)\" cx=\"1110.54\" cy=\"516.098\" r=\"14\" fill=\"#009af9\" fill-rule=\"evenodd\" fill-opacity=\"1\" stroke=\"#000000\" stroke-opacity=\"1\" stroke-width=\"3.2\"/>\n",
       "<circle clip-path=\"url(#clip812)\" cx=\"1709.96\" cy=\"798.648\" r=\"14\" fill=\"#009af9\" fill-rule=\"evenodd\" fill-opacity=\"1\" stroke=\"#000000\" stroke-opacity=\"1\" stroke-width=\"3.2\"/>\n",
       "<circle clip-path=\"url(#clip812)\" cx=\"901.54\" cy=\"1002.61\" r=\"14\" fill=\"#009af9\" fill-rule=\"evenodd\" fill-opacity=\"1\" stroke=\"#000000\" stroke-opacity=\"1\" stroke-width=\"3.2\"/>\n",
       "<circle clip-path=\"url(#clip812)\" cx=\"1169.07\" cy=\"791.922\" r=\"14\" fill=\"#009af9\" fill-rule=\"evenodd\" fill-opacity=\"1\" stroke=\"#000000\" stroke-opacity=\"1\" stroke-width=\"3.2\"/>\n",
       "<circle clip-path=\"url(#clip812)\" cx=\"1537.27\" cy=\"697.318\" r=\"14\" fill=\"#009af9\" fill-rule=\"evenodd\" fill-opacity=\"1\" stroke=\"#000000\" stroke-opacity=\"1\" stroke-width=\"3.2\"/>\n",
       "<circle clip-path=\"url(#clip812)\" cx=\"992.742\" cy=\"422.016\" r=\"14\" fill=\"#009af9\" fill-rule=\"evenodd\" fill-opacity=\"1\" stroke=\"#000000\" stroke-opacity=\"1\" stroke-width=\"3.2\"/>\n",
       "<circle clip-path=\"url(#clip812)\" cx=\"1110.54\" cy=\"516.098\" r=\"14\" fill=\"#009af9\" fill-rule=\"evenodd\" fill-opacity=\"1\" stroke=\"#000000\" stroke-opacity=\"1\" stroke-width=\"3.2\"/>\n",
       "<circle clip-path=\"url(#clip812)\" cx=\"1537.27\" cy=\"697.318\" r=\"14\" fill=\"#009af9\" fill-rule=\"evenodd\" fill-opacity=\"1\" stroke=\"#000000\" stroke-opacity=\"1\" stroke-width=\"3.2\"/>\n",
       "<circle clip-path=\"url(#clip812)\" cx=\"1002.33\" cy=\"645.289\" r=\"14\" fill=\"#009af9\" fill-rule=\"evenodd\" fill-opacity=\"1\" stroke=\"#000000\" stroke-opacity=\"1\" stroke-width=\"3.2\"/>\n",
       "<circle clip-path=\"url(#clip812)\" cx=\"1329.9\" cy=\"654.4\" r=\"14\" fill=\"#009af9\" fill-rule=\"evenodd\" fill-opacity=\"1\" stroke=\"#000000\" stroke-opacity=\"1\" stroke-width=\"3.2\"/>\n",
       "<circle clip-path=\"url(#clip812)\" cx=\"1464.75\" cy=\"383.691\" r=\"14\" fill=\"#009af9\" fill-rule=\"evenodd\" fill-opacity=\"1\" stroke=\"#000000\" stroke-opacity=\"1\" stroke-width=\"3.2\"/>\n",
       "<circle clip-path=\"url(#clip812)\" cx=\"1689.66\" cy=\"626.302\" r=\"14\" fill=\"#009af9\" fill-rule=\"evenodd\" fill-opacity=\"1\" stroke=\"#000000\" stroke-opacity=\"1\" stroke-width=\"3.2\"/>\n",
       "<circle clip-path=\"url(#clip812)\" cx=\"890.753\" cy=\"531.967\" r=\"14\" fill=\"#009af9\" fill-rule=\"evenodd\" fill-opacity=\"1\" stroke=\"#000000\" stroke-opacity=\"1\" stroke-width=\"3.2\"/>\n",
       "<circle clip-path=\"url(#clip812)\" cx=\"1669.3\" cy=\"961.985\" r=\"14\" fill=\"#009af9\" fill-rule=\"evenodd\" fill-opacity=\"1\" stroke=\"#000000\" stroke-opacity=\"1\" stroke-width=\"3.2\"/>\n",
       "<circle clip-path=\"url(#clip812)\" cx=\"1105.82\" cy=\"960.151\" r=\"14\" fill=\"#009af9\" fill-rule=\"evenodd\" fill-opacity=\"1\" stroke=\"#000000\" stroke-opacity=\"1\" stroke-width=\"3.2\"/>\n",
       "<circle clip-path=\"url(#clip812)\" cx=\"1144.5\" cy=\"1186.7\" r=\"14\" fill=\"#009af9\" fill-rule=\"evenodd\" fill-opacity=\"1\" stroke=\"#000000\" stroke-opacity=\"1\" stroke-width=\"3.2\"/>\n",
       "<circle clip-path=\"url(#clip812)\" cx=\"1171.01\" cy=\"649.166\" r=\"14\" fill=\"#009af9\" fill-rule=\"evenodd\" fill-opacity=\"1\" stroke=\"#000000\" stroke-opacity=\"1\" stroke-width=\"3.2\"/>\n",
       "<circle clip-path=\"url(#clip812)\" cx=\"1607.05\" cy=\"491.773\" r=\"14\" fill=\"#009af9\" fill-rule=\"evenodd\" fill-opacity=\"1\" stroke=\"#000000\" stroke-opacity=\"1\" stroke-width=\"3.2\"/>\n",
       "<circle clip-path=\"url(#clip812)\" cx=\"1689.66\" cy=\"626.302\" r=\"14\" fill=\"#009af9\" fill-rule=\"evenodd\" fill-opacity=\"1\" stroke=\"#000000\" stroke-opacity=\"1\" stroke-width=\"3.2\"/>\n",
       "<circle clip-path=\"url(#clip812)\" cx=\"890.753\" cy=\"531.967\" r=\"14\" fill=\"#009af9\" fill-rule=\"evenodd\" fill-opacity=\"1\" stroke=\"#000000\" stroke-opacity=\"1\" stroke-width=\"3.2\"/>\n",
       "<circle clip-path=\"url(#clip812)\" cx=\"1709.96\" cy=\"798.648\" r=\"14\" fill=\"#009af9\" fill-rule=\"evenodd\" fill-opacity=\"1\" stroke=\"#000000\" stroke-opacity=\"1\" stroke-width=\"3.2\"/>\n",
       "<circle clip-path=\"url(#clip812)\" cx=\"1607.05\" cy=\"491.773\" r=\"14\" fill=\"#009af9\" fill-rule=\"evenodd\" fill-opacity=\"1\" stroke=\"#000000\" stroke-opacity=\"1\" stroke-width=\"3.2\"/>\n",
       "<circle clip-path=\"url(#clip812)\" cx=\"1428.21\" cy=\"992.225\" r=\"14\" fill=\"#009af9\" fill-rule=\"evenodd\" fill-opacity=\"1\" stroke=\"#000000\" stroke-opacity=\"1\" stroke-width=\"3.2\"/>\n",
       "<circle clip-path=\"url(#clip812)\" cx=\"1144.5\" cy=\"1186.7\" r=\"14\" fill=\"#009af9\" fill-rule=\"evenodd\" fill-opacity=\"1\" stroke=\"#000000\" stroke-opacity=\"1\" stroke-width=\"3.2\"/>\n",
       "</svg>\n"
      ]
     },
     "execution_count": 7,
     "metadata": {},
     "output_type": "execute_result"
    }
   ],
   "source": [
    "x = mini_batch(K)\n",
    "x = encoder(x, peak_const)\n",
    "p1 = Plots.scatter(x[1,:], x[2,:],legend=false, xlims=[-1.5,1.5], \n",
    "    ylims=[-1.5,1.5], aspect_ratio=1)"
   ]
  },
  {
   "cell_type": "code",
   "execution_count": 8,
   "id": "3a2c764e-ecd0-417f-b793-cdf4cd5ae073",
   "metadata": {},
   "outputs": [],
   "source": [
    "savefig(\"autoencoder-model.pdf\")"
   ]
  }
 ],
 "metadata": {
  "kernelspec": {
   "display_name": "Julia 1.6.0",
   "language": "julia",
   "name": "julia-1.6"
  },
  "language_info": {
   "file_extension": ".jl",
   "mimetype": "application/julia",
   "name": "julia",
   "version": "1.6.0"
  }
 },
 "nbformat": 4,
 "nbformat_minor": 5
}
