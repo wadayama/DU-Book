{
 "cells": [
  {
   "cell_type": "markdown",
   "metadata": {},
   "source": [
    "# 微分可能BP復号法\n",
    "\n",
    "Copyright (c) 2022 Tadashi Wadayama  \n",
    "Released under the MIT license  \n",
    "https://opensource.org/licenses/mit-license.php"
   ]
  },
  {
   "cell_type": "code",
   "execution_count": 500,
   "metadata": {},
   "outputs": [],
   "source": [
    "using LinearAlgebra\n",
    "using Plots\n",
    "gr()\n",
    "using Random\n",
    "Random.seed!(3)\n",
    "using Flux"
   ]
  },
  {
   "cell_type": "markdown",
   "metadata": {},
   "source": [
    "### 検査行列定義ファイル(alist形式)\n",
    "\n",
    "このコードで利用する検査行列定義ファイルBCH_31_16_3_strip.alistは\n",
    "下記のサイトからダウンロードして利用してください。\n",
    "\n",
    "https://www.uni-kl.de/channel-codes/ml-simulation-results/"
   ]
  },
  {
   "cell_type": "code",
   "execution_count": 501,
   "metadata": {},
   "outputs": [
    {
     "data": {
      "text/plain": [
       "\"BCH_31_16_3_strip.alist\""
      ]
     },
     "execution_count": 501,
     "metadata": {},
     "output_type": "execute_result"
    }
   ],
   "source": [
    "filename = \"BCH_31_16_3_strip.alist\""
   ]
  },
  {
   "cell_type": "markdown",
   "metadata": {},
   "source": [
    "### グローバル変数の設定"
   ]
  },
  {
   "cell_type": "code",
   "execution_count": 502,
   "metadata": {},
   "outputs": [
    {
     "data": {
      "text/plain": [
       "5"
      ]
     },
     "execution_count": 502,
     "metadata": {},
     "output_type": "execute_result"
    }
   ],
   "source": [
    "noise_std = 0.5\n",
    "K = 100\n",
    "bp_itr = 5"
   ]
  },
  {
   "cell_type": "markdown",
   "metadata": {},
   "source": [
    "### Alist ファイルの読み込み"
   ]
  },
  {
   "cell_type": "code",
   "execution_count": 503,
   "metadata": {},
   "outputs": [
    {
     "name": "stdout",
     "output_type": "stream",
     "text": [
      "n = 31\n",
      "m = 15\n",
      "cmax = 7\n",
      "rmax = 8\n"
     ]
    }
   ],
   "source": [
    "fp = open(filename, \"r\") \n",
    "dict = Dict()\n",
    "rdict = Dict()\n",
    "\n",
    "line = readline(fp)\n",
    "u = split(line, \" \") \n",
    "n = parse(Int64,u[1])\n",
    "m = parse(Int64,u[2])\n",
    "println(\"n = \", n) \n",
    "println(\"m = \", m)\n",
    "line = readline(fp)\n",
    "u = split(line, \" \") \n",
    "cmax = parse(Int64,u[1])\n",
    "rmax = parse(Int64,u[2]) \n",
    "println(\"cmax = \", cmax) \n",
    "println(\"rmax = \", rmax)\n",
    "line = readline(fp)\n",
    "line = readline(fp)\n",
    "id = 1\n",
    "for i in 1:n\n",
    "    line = readline(fp) \n",
    "    u = split(line, \" \") \n",
    "    for j in 1:cmax\n",
    "        v = parse(Int64, u[j])\n",
    "        if v != 0\n",
    "            dict[(v,i)] = id\n",
    "            rdict[id] = (v,i)\n",
    "            id += 1         \n",
    "        end\n",
    "    end\n",
    "end\n",
    "esize = length(dict)\n",
    "\n",
    "H = zeros(Int, m,n)\n",
    "for x in keys(dict)\n",
    "    H[x[1], x[2]] = 1\n",
    "end\n",
    "\n",
    "U = zeros(Int, n, esize)\n",
    "for edge in dict\n",
    "    j = edge[2]\n",
    "    i = edge[1][2]\n",
    "    U[i,j]=1\n",
    "end\n",
    "\n",
    "V = zeros(Int, m, esize)\n",
    "for edge in dict\n",
    "    j = edge[2]\n",
    "    i = edge[1][1]\n",
    "    V[i,j]=1\n",
    "end"
   ]
  },
  {
   "cell_type": "markdown",
   "metadata": {},
   "source": [
    "### パリティ検査関数"
   ]
  },
  {
   "cell_type": "code",
   "execution_count": 504,
   "metadata": {},
   "outputs": [
    {
     "data": {
      "text/plain": [
       "parity_check (generic function with 1 method)"
      ]
     },
     "execution_count": 504,
     "metadata": {},
     "output_type": "execute_result"
    }
   ],
   "source": [
    "function parity_check(x)\n",
    "    if sum(bmod.(H*x)) > 0\n",
    "        return 1\n",
    "    else\n",
    "        return 0\n",
    "    end\n",
    "end"
   ]
  },
  {
   "cell_type": "markdown",
   "metadata": {
    "tags": []
   },
   "source": [
    "### 符号化関数　\n",
    "\n",
    "注意: ただし、左下三角がゼロのalist ファイルに限る！！\n",
    "左下三角がゼロでないalistファイルの場合にはencoding error が出る"
   ]
  },
  {
   "cell_type": "code",
   "execution_count": 505,
   "metadata": {},
   "outputs": [
    {
     "data": {
      "text/plain": [
       "random_codeword (generic function with 1 method)"
      ]
     },
     "execution_count": 505,
     "metadata": {},
     "output_type": "execute_result"
    }
   ],
   "source": [
    "bmod(x) = mod(x, 2)\n",
    "function random_codeword()\n",
    "    x = rand(0:1, n)\n",
    "    for i in 1:m\n",
    "        k = m - i + 1\n",
    "        parity = 0\n",
    "        for j in k+1:n\n",
    "            parity += H[k,j]*x[j]\n",
    "        end\n",
    "        x[k] = bmod(parity)\n",
    "    end\n",
    "    p = parity_check(x)\n",
    "    if p == 0\n",
    "        return x\n",
    "    else \n",
    "        println(\"encoding error!\")\n",
    "    end\n",
    "    return x\n",
    "end"
   ]
  },
  {
   "cell_type": "code",
   "execution_count": 506,
   "metadata": {},
   "outputs": [
    {
     "data": {
      "text/plain": [
       "0"
      ]
     },
     "execution_count": 506,
     "metadata": {},
     "output_type": "execute_result"
    }
   ],
   "source": [
    "x = random_codeword()\n",
    "parity_check(x)"
   ]
  },
  {
   "cell_type": "markdown",
   "metadata": {},
   "source": [
    "### ミニバッチ生成関数\n",
    "\n",
    "AWGN通信路, BPSK変調を仮定"
   ]
  },
  {
   "cell_type": "code",
   "execution_count": 507,
   "metadata": {},
   "outputs": [
    {
     "data": {
      "text/plain": [
       "mini_batch (generic function with 1 method)"
      ]
     },
     "execution_count": 507,
     "metadata": {},
     "output_type": "execute_result"
    }
   ],
   "source": [
    "function mini_batch(K)\n",
    "    x = zeros(n,K)\n",
    "    y = zeros(n,K)\n",
    "    for j in 1:K\n",
    "        x[:,j] = 1 .- 2*random_codeword()\n",
    "        y[:,j] = x[:,j] + noise_std*randn(n)\n",
    "    end\n",
    "    return x,y\n",
    "end"
   ]
  },
  {
   "cell_type": "markdown",
   "metadata": {},
   "source": [
    "### 微分可能ビリーフプロパゲーション復号関数"
   ]
  },
  {
   "cell_type": "code",
   "execution_count": 508,
   "metadata": {},
   "outputs": [
    {
     "data": {
      "text/plain": [
       "BP_decoding (generic function with 1 method)"
      ]
     },
     "execution_count": 508,
     "metadata": {},
     "output_type": "execute_result"
    }
   ],
   "source": [
    "eps = 1e-8\n",
    "function BP_decoding(y, max_itr, xi)\n",
    "    alpha = zeros(esize,K) \n",
    "    beta = zeros(esize,K)\n",
    "    lambda = 2*y./noise_std^2\n",
    "    for i in 1:max_itr\n",
    "        beta = (U'*U-I)*alpha + U'*lambda\n",
    "        beta = xi[:,i] .* beta    \n",
    "        tmp = exp.((V'*V-I)*log.(abs.(tanh.(beta/2))))\n",
    "        alpha_abs = 2*atanh.((1-eps)*hardtanh.(tmp))\n",
    "        tmp = 1 .- 2*V'*bmod.(V*((-sign.(beta).+ 1)/2))\n",
    "        alpha_sign = tmp .* sign.(beta)\n",
    "        alpha = alpha_sign .* alpha_abs \n",
    "    end\n",
    "    gamma = U*alpha + lambda\n",
    "    return tanh.(gamma)\n",
    "end"
   ]
  },
  {
   "cell_type": "markdown",
   "metadata": {},
   "source": [
    "### BP復号のデモ"
   ]
  },
  {
   "cell_type": "code",
   "execution_count": 509,
   "metadata": {},
   "outputs": [
    {
     "data": {
      "text/plain": [
       "31×100 BitMatrix:\n",
       " 0  0  0  0  0  0  0  0  0  0  0  0  0  …  0  0  0  0  0  0  0  0  0  0  0  0\n",
       " 0  0  0  0  0  0  0  0  0  0  0  0  0     0  0  0  0  0  0  0  0  0  0  0  0\n",
       " 0  0  0  0  0  0  0  0  0  0  0  0  0     0  0  0  0  0  0  0  0  0  0  0  0\n",
       " 0  0  0  0  0  0  0  0  0  0  0  0  0     0  0  0  0  0  0  0  0  0  0  0  0\n",
       " 0  0  0  0  0  0  0  0  0  0  0  0  0     0  0  0  0  0  0  0  0  0  0  0  0\n",
       " 0  0  0  0  0  0  0  0  0  0  0  0  0  …  0  0  0  0  0  0  0  0  0  0  0  0\n",
       " 0  0  0  0  0  0  0  0  0  0  0  0  0     0  0  0  0  0  0  0  0  0  0  0  0\n",
       " 0  0  0  0  0  0  0  0  0  0  0  0  0     0  0  0  0  0  0  0  0  0  0  0  0\n",
       " 0  0  0  0  0  0  0  0  0  0  0  0  0     0  0  0  0  0  0  0  0  0  0  0  0\n",
       " 0  0  0  0  0  0  0  0  0  0  0  0  0     0  0  0  0  0  0  0  0  0  0  0  0\n",
       " 0  0  0  0  0  0  0  0  0  0  0  0  0  …  0  0  0  0  0  0  0  0  0  0  0  0\n",
       " 0  0  0  0  0  0  0  0  0  0  0  0  0     0  0  0  0  0  0  0  0  0  0  0  0\n",
       " 0  0  0  0  0  0  0  0  0  0  0  0  0     0  0  0  0  0  0  0  0  0  0  0  0\n",
       " ⋮              ⋮              ⋮        ⋱        ⋮              ⋮           \n",
       " 0  0  0  0  0  0  0  0  0  0  0  0  0     0  0  0  0  0  0  0  0  0  0  0  0\n",
       " 0  0  0  0  0  0  0  0  0  0  0  0  0  …  0  0  0  0  0  0  0  0  0  0  0  0\n",
       " 0  0  0  0  0  0  0  0  0  0  0  0  0     0  0  0  0  0  0  0  0  0  0  0  0\n",
       " 0  0  0  0  0  0  0  0  0  0  0  0  0     0  0  0  0  0  0  0  0  0  0  0  0\n",
       " 0  0  0  0  0  0  0  0  0  0  0  0  0     0  0  0  0  0  0  0  0  0  0  0  0\n",
       " 0  0  0  0  0  0  0  0  0  0  0  0  0     0  0  0  0  0  0  0  0  0  0  0  0\n",
       " 0  0  0  0  0  0  0  0  0  0  0  0  0  …  0  0  0  0  0  0  0  0  0  0  0  0\n",
       " 0  0  0  0  0  0  0  0  0  0  0  0  0     0  0  0  0  0  0  0  0  0  0  0  0\n",
       " 0  0  0  0  0  0  0  0  0  0  0  0  0     0  0  0  0  0  0  0  0  0  0  0  0\n",
       " 0  0  0  0  0  0  0  0  0  0  0  0  0     0  0  0  0  0  0  0  0  0  0  0  0\n",
       " 0  0  0  0  0  0  0  0  0  0  0  0  0     0  0  0  0  0  0  0  0  0  0  0  0\n",
       " 0  0  0  0  0  0  0  0  0  0  0  0  0  …  0  0  0  0  0  0  0  0  0  0  0  0"
      ]
     },
     "execution_count": 509,
     "metadata": {},
     "output_type": "execute_result"
    }
   ],
   "source": [
    "x, y = mini_batch(K)\n",
    "xi = ones(esize, bp_itr)\n",
    "x̂ = sign.(BP_decoding(y, bp_itr, xi))\n",
    "x̂ .!= x"
   ]
  },
  {
   "cell_type": "markdown",
   "metadata": {},
   "source": [
    "### 学習プロセス"
   ]
  },
  {
   "cell_type": "code",
   "execution_count": 510,
   "metadata": {},
   "outputs": [
    {
     "name": "stdout",
     "output_type": "stream",
     "text": [
      "20.002892089330143\n",
      "14.98789315303028\n",
      "1.5144090035002484e-20\n",
      "19.72392722838523\n",
      "1.2951666821667145\n",
      "1.5640835260946\n",
      "8.102067414078419e-11\n",
      "3.4368436265114776e-9\n",
      "1.1054106490488635e-19\n",
      "4.5917588941415515\n",
      "0.0038051811572555427\n",
      "0.03725714625163582\n",
      "29.16563501500706\n",
      "12.548524784436655\n",
      "19.26149274934654\n",
      "1.3670784331063207e-6\n",
      "0.009766106718500582\n",
      "2.1873236788625995e-19\n",
      "1.3897597993941043e-21\n",
      "1.987839517552349e-15\n",
      "1.3861176925498768\n",
      "8.816459696661134\n",
      "1.687160825238931e-11\n",
      "1.2909854692952767\n",
      "5.495424142579338e-6\n",
      "0.00044562767370730564\n",
      "13.014128476913298\n",
      "10.076219806097265\n",
      "0.03429810027188829\n",
      "0.013174973580797328\n",
      "3.0441719427296825e-10\n",
      "1.680803797541085e-10\n",
      "3.9993126120582594\n",
      "14.78569820420049\n",
      "1.8287543146447897e-14\n",
      "20.839149419587677\n",
      "1.2840946834238818e-13\n",
      "1.0682289237348626\n",
      "5.340388497994448e-16\n",
      "4.67512438065257\n",
      "22.21982449829421\n",
      "11.069200111421665\n",
      "4.4228368677450836e-12\n",
      "1.5516366096390687e-12\n",
      "1.1132618773881438e-6\n",
      "1.607732138820683\n",
      "4.58325106444245\n",
      "0.0011650634304978262\n",
      "2.7434236959302556\n",
      "0.005855130936323771\n"
     ]
    }
   ],
   "source": [
    "opt = ADAM(1e-2) \n",
    "train_itr = 5000\n",
    "loss(x,y) = norm(x-y)^2\n",
    "\n",
    "xi_train = ones(esize, bp_itr)\n",
    "ps = Flux.params(xi_train)\n",
    "\n",
    "for i in 1:train_itr\n",
    "    x,y = mini_batch(K)\n",
    "    gs = gradient(ps) do\n",
    "        x̂ = BP_decoding(y, bp_itr, xi_train)\n",
    "        loss(x, x̂)\n",
    "    end\n",
    "    Flux.Optimise.update!(opt, ps, gs)\n",
    "    if i % 100 == 0\n",
    "        x,y = mini_batch(K)\n",
    "        x̂ = BP_decoding(y, bp_itr, xi_train)\n",
    "        println(loss(x, x̂))\n",
    "    end\n",
    "end"
   ]
  },
  {
   "cell_type": "code",
   "execution_count": 511,
   "metadata": {},
   "outputs": [
    {
     "data": {
      "text/plain": [
       "120×5 Matrix{Float64}:\n",
       "  0.775302  0.704564   0.454502   0.634632  0.566311\n",
       "  0.484134  0.209084   0.565074   1.20242   1.09858\n",
       "  0.496363  0.754794   1.15876    0.90239   1.13573\n",
       "  0.332508  0.77927    1.05788    0.85726   0.981139\n",
       "  1.301     0.909584   0.704776   1.21082   1.06497\n",
       "  1.13468   0.83335    0.761393   0.752457  0.674755\n",
       "  0.526114  0.795763   0.648948   0.35935   0.941041\n",
       "  1.40554   0.80579   -0.749879   0.907115  0.901905\n",
       "  0.49959   0.669526   0.510695   0.986032  0.618254\n",
       "  0.818394  0.753262   0.56189    1.01356   1.37176\n",
       "  1.08467   0.340679  -0.544574   0.526647  1.4082\n",
       "  1.25041   0.878225   0.934764   1.05722   0.938945\n",
       "  0.580589  0.597858   0.0736397  0.379899  0.436106\n",
       "  ⋮                                         \n",
       "  0.816669  0.756834   1.12883    1.22178   1.14953\n",
       "  1.31114   0.922572   1.10161    1.14834   0.619611\n",
       " -0.322542  0.458404   0.616811   0.935747  0.690446\n",
       "  0.684091  0.750312   0.725699   0.724959  0.891137\n",
       "  0.336237  0.560998   0.615864   0.969755  1.10857\n",
       "  1.16579   0.622667   0.608436   0.609187  0.799364\n",
       "  0.416545  0.302015   0.887323   0.970514  1.1148\n",
       "  1.03311   0.769334   0.8377     0.867399  0.531606\n",
       "  0.717932  1.64854    0.40319    0.94911   1.35281\n",
       "  0.485714  1.14988    0.924562   0.672404  0.844722\n",
       "  1.30912   0.904402   0.751831   0.506329  1.29239\n",
       "  0.828796  0.506451   1.52616    1.20952   0.886327"
      ]
     },
     "execution_count": 511,
     "metadata": {},
     "output_type": "execute_result"
    }
   ],
   "source": [
    "xi_train"
   ]
  },
  {
   "cell_type": "markdown",
   "metadata": {},
   "source": [
    "### 微分可能ビリーフプロパゲーション復号法のビット誤り率"
   ]
  },
  {
   "cell_type": "code",
   "execution_count": 512,
   "metadata": {},
   "outputs": [
    {
     "name": "stdout",
     "output_type": "stream",
     "text": [
      "total_syms = 3100000\n",
      "error_syms = 1335\n",
      "symbols error rate = 0.0004306451612903226\n"
     ]
    }
   ],
   "source": [
    "total_syms = 0\n",
    "error_syms = 0\n",
    "num_loops = 1000\n",
    "\n",
    "for i in 1:num_loops\n",
    "    x, y = mini_batch(K)\n",
    "    x̂ = BP_decoding(y, bp_itr, xi_train)\n",
    "    total_syms += n*K\n",
    "    error_syms += sum(sign.(x̂) .!= x)\n",
    "end\n",
    "println(\"total_syms = \", total_syms)\n",
    "println(\"error_syms = \", error_syms)\n",
    "println(\"symbols error rate = \", error_syms/total_syms)"
   ]
  },
  {
   "cell_type": "markdown",
   "metadata": {},
   "source": [
    "### オリジナルのビリーフプロパゲーション復号法のビット誤り率"
   ]
  },
  {
   "cell_type": "code",
   "execution_count": 513,
   "metadata": {},
   "outputs": [
    {
     "name": "stdout",
     "output_type": "stream",
     "text": [
      "total_syms = 3100000\n",
      "error_syms = 2196\n",
      "symbols error rate = 0.0007083870967741936\n"
     ]
    }
   ],
   "source": [
    "total_syms = 0\n",
    "error_syms = 0\n",
    "num_loops = 1000\n",
    "xi = ones(esize, bp_itr)\n",
    "\n",
    "for i in 1:num_loops\n",
    "    x, y = mini_batch(K)\n",
    "    x̂ = BP_decoding(y, bp_itr, xi)\n",
    "    total_syms += n*K\n",
    "    error_syms += sum(sign.(x̂) .!= x)\n",
    "end\n",
    "println(\"total_syms = \", total_syms)\n",
    "println(\"error_syms = \", error_syms)\n",
    "println(\"symbols error rate = \", error_syms/total_syms)"
   ]
  },
  {
   "cell_type": "code",
   "execution_count": null,
   "metadata": {},
   "outputs": [],
   "source": []
  }
 ],
 "metadata": {
  "kernelspec": {
   "display_name": "Julia 1.6.0",
   "language": "julia",
   "name": "julia-1.6"
  },
  "language_info": {
   "file_extension": ".jl",
   "mimetype": "application/julia",
   "name": "julia",
   "version": "1.6.0"
  }
 },
 "nbformat": 4,
 "nbformat_minor": 4
}
