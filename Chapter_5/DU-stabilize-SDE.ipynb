{
 "cells": [
  {
   "cell_type": "markdown",
   "id": "75b57d14-20e0-40d3-aea1-a894f93ed71a",
   "metadata": {},
   "source": [
    "# 確率的な系に関するフィードバック制御に関する検討\n",
    "\n",
    "Copyright (c) 2022 Tadashi Wadayama  \n",
    "Released under the MIT license  \n",
    "https://opensource.org/licenses/mit-license.php"
   ]
  },
  {
   "cell_type": "code",
   "execution_count": 1,
   "id": "162c3ad3-ac1f-4a5f-a2ac-e91c3092144b",
   "metadata": {},
   "outputs": [],
   "source": [
    "using LinearAlgebra\n",
    "using Plots\n",
    "gr()\n",
    "using Random\n",
    "Random.seed!(1)\n",
    "using Flux"
   ]
  },
  {
   "cell_type": "code",
   "execution_count": 2,
   "id": "411c24f9-9e1a-441f-a0d0-6ba0aad4b28e",
   "metadata": {},
   "outputs": [
    {
     "data": {
      "text/plain": [
       "2×4 Matrix{Float64}:\n",
       "  0.8  0.8  -0.8  -0.9\n",
       " -0.7  0.8  -0.8  -0.2"
      ]
     },
     "execution_count": 2,
     "metadata": {},
     "output_type": "execute_result"
    }
   ],
   "source": [
    "A = [-0.2 0.4 -1.0 -0.4;\n",
    "    -0.7 -0.8 -0.6 -0.3;\n",
    "    -0.2 0.1 -0.2 0.4;\n",
    "    -0.6 0.8 -0.9 0.3]\n",
    "B = [-0.2 0.1;\n",
    "    -0.7 -0.6;\n",
    "    0.6 0.9;\n",
    "    -0.4 0.4]\n",
    "C = [0.8 0.8 -0.8 -0.9;\n",
    "    -0.7 0.8 -0.8 -0.2]"
   ]
  },
  {
   "cell_type": "markdown",
   "id": "c5179aa6-4fd8-4025-b105-cf7054fa2735",
   "metadata": {},
   "source": [
    "## 安定化を達成するゲイン行列\n",
    "\n",
    "$K$を次のように取ると確かに$A + B K C$の固有値の実部はすべて負になる(文献「深層展開による出力フィードバック安定化の検討」小林他(2019)に基づく)"
   ]
  },
  {
   "cell_type": "code",
   "execution_count": 3,
   "id": "554b859e-c5ab-4ec9-aff5-2c585ade630b",
   "metadata": {},
   "outputs": [
    {
     "data": {
      "text/plain": [
       "2×2 Matrix{Float64}:\n",
       " -2.7   2.7\n",
       "  2.7  -2.7"
      ]
     },
     "execution_count": 3,
     "metadata": {},
     "output_type": "execute_result"
    }
   ],
   "source": [
    "K = [-2.7 2.7;\n",
    "    2.7 -2.7]"
   ]
  },
  {
   "cell_type": "markdown",
   "id": "3c93efbe-94f3-48c1-be93-518f6e77e836",
   "metadata": {},
   "source": [
    "確かに$A + B K C$の固有値の実部はたしかに全て負になっている"
   ]
  },
  {
   "cell_type": "code",
   "execution_count": 4,
   "id": "417c7b60-4ae0-4b1c-a0a1-a1b076dfb914",
   "metadata": {},
   "outputs": [
    {
     "data": {
      "text/plain": [
       "3.0"
      ]
     },
     "execution_count": 4,
     "metadata": {},
     "output_type": "execute_result"
    }
   ],
   "source": [
    "T = 50.0\n",
    "N = 1000\n",
    "η = T/N\n",
    "mbs = 100\n",
    "std = 0.4\n",
    "ub = 3.0"
   ]
  },
  {
   "cell_type": "markdown",
   "id": "7a6b93aa-e1cf-46a4-b98c-df2882ce0e8c",
   "metadata": {},
   "source": [
    "### SDEを解く\n"
   ]
  },
  {
   "cell_type": "code",
   "execution_count": 5,
   "id": "72d63dc2-088b-4c9a-8ba0-e6188aca7740",
   "metadata": {},
   "outputs": [
    {
     "data": {
      "text/plain": [
       "EM (generic function with 1 method)"
      ]
     },
     "execution_count": 5,
     "metadata": {},
     "output_type": "execute_result"
    }
   ],
   "source": [
    "function EM(K, T)\n",
    "    η = T/N\n",
    "    x = ones(4,mbs)\n",
    "    for i in 1:N\n",
    "        x = x + η*(A + B*K*C)*x + std*sqrt(η)*randn(4,mbs)\n",
    "    end\n",
    "    s = sqrt.(sum(x.^2, dims=1))\n",
    "    ave = sum(s)/mbs\n",
    "    stdv = sqrt(sum((s .- ave).^2)/mbs)\n",
    "    return ave, stdv\n",
    "end        "
   ]
  },
  {
   "cell_type": "markdown",
   "id": "c58e063e-6920-4ce7-825c-bc6efa302652",
   "metadata": {},
   "source": [
    "### 計算結果の表示"
   ]
  },
  {
   "cell_type": "code",
   "execution_count": 6,
   "id": "70ffa68a-cb72-4313-9f51-27505c00552f",
   "metadata": {},
   "outputs": [],
   "source": [
    "max_itr = 40\n",
    "AVE = zeros(max_itr)\n",
    "STDV = zeros(max_itr)\n",
    "Trange = zeros(max_itr)\n",
    "\n",
    "for i in 1:max_itr\n",
    "    Trange[i] = 0.5*i\n",
    "    ave, stdv = EM(K, 0.5*i)\n",
    "    AVE[i] = ave\n",
    "    STDV[i] = stdv\n",
    "end"
   ]
  },
  {
   "cell_type": "code",
   "execution_count": 7,
   "id": "293069ec-c2ba-4381-9daf-c6a383d2fdda",
   "metadata": {},
   "outputs": [
    {
     "data": {
      "image/svg+xml": [
       "<?xml version=\"1.0\" encoding=\"utf-8\"?>\n",
       "<svg xmlns=\"http://www.w3.org/2000/svg\" xmlns:xlink=\"http://www.w3.org/1999/xlink\" width=\"600\" height=\"400\" viewBox=\"0 0 2400 1600\">\n",
       "<defs>\n",
       "  <clipPath id=\"clip130\">\n",
       "    <rect x=\"0\" y=\"0\" width=\"2400\" height=\"1600\"/>\n",
       "  </clipPath>\n",
       "</defs>\n",
       "<path clip-path=\"url(#clip130)\" d=\"\n",
       "M0 1600 L2400 1600 L2400 0 L0 0  Z\n",
       "  \" fill=\"#ffffff\" fill-rule=\"evenodd\" fill-opacity=\"1\"/>\n",
       "<defs>\n",
       "  <clipPath id=\"clip131\">\n",
       "    <rect x=\"480\" y=\"0\" width=\"1681\" height=\"1600\"/>\n",
       "  </clipPath>\n",
       "</defs>\n",
       "<path clip-path=\"url(#clip130)\" d=\"\n",
       "M110.881 1423.18 L2352.76 1423.18 L2352.76 47.2441 L110.881 47.2441  Z\n",
       "  \" fill=\"#ffffff\" fill-rule=\"evenodd\" fill-opacity=\"1\"/>\n",
       "<defs>\n",
       "  <clipPath id=\"clip132\">\n",
       "    <rect x=\"110\" y=\"47\" width=\"2243\" height=\"1377\"/>\n",
       "  </clipPath>\n",
       "</defs>\n",
       "<polyline clip-path=\"url(#clip132)\" style=\"stroke:#000000; stroke-linecap:round; stroke-linejoin:round; stroke-width:2; stroke-opacity:0.1; fill:none\" points=\"\n",
       "  120.1,1423.18 120.1,47.2441 \n",
       "  \"/>\n",
       "<polyline clip-path=\"url(#clip132)\" style=\"stroke:#000000; stroke-linecap:round; stroke-linejoin:round; stroke-width:2; stroke-opacity:0.1; fill:none\" points=\"\n",
       "  662.402,1423.18 662.402,47.2441 \n",
       "  \"/>\n",
       "<polyline clip-path=\"url(#clip132)\" style=\"stroke:#000000; stroke-linecap:round; stroke-linejoin:round; stroke-width:2; stroke-opacity:0.1; fill:none\" points=\"\n",
       "  1204.7,1423.18 1204.7,47.2441 \n",
       "  \"/>\n",
       "<polyline clip-path=\"url(#clip132)\" style=\"stroke:#000000; stroke-linecap:round; stroke-linejoin:round; stroke-width:2; stroke-opacity:0.1; fill:none\" points=\"\n",
       "  1747,1423.18 1747,47.2441 \n",
       "  \"/>\n",
       "<polyline clip-path=\"url(#clip132)\" style=\"stroke:#000000; stroke-linecap:round; stroke-linejoin:round; stroke-width:2; stroke-opacity:0.1; fill:none\" points=\"\n",
       "  2289.31,1423.18 2289.31,47.2441 \n",
       "  \"/>\n",
       "<polyline clip-path=\"url(#clip130)\" style=\"stroke:#000000; stroke-linecap:round; stroke-linejoin:round; stroke-width:4; stroke-opacity:1; fill:none\" points=\"\n",
       "  110.881,1423.18 2352.76,1423.18 \n",
       "  \"/>\n",
       "<polyline clip-path=\"url(#clip130)\" style=\"stroke:#000000; stroke-linecap:round; stroke-linejoin:round; stroke-width:4; stroke-opacity:1; fill:none\" points=\"\n",
       "  120.1,1423.18 120.1,1404.28 \n",
       "  \"/>\n",
       "<polyline clip-path=\"url(#clip130)\" style=\"stroke:#000000; stroke-linecap:round; stroke-linejoin:round; stroke-width:4; stroke-opacity:1; fill:none\" points=\"\n",
       "  662.402,1423.18 662.402,1404.28 \n",
       "  \"/>\n",
       "<polyline clip-path=\"url(#clip130)\" style=\"stroke:#000000; stroke-linecap:round; stroke-linejoin:round; stroke-width:4; stroke-opacity:1; fill:none\" points=\"\n",
       "  1204.7,1423.18 1204.7,1404.28 \n",
       "  \"/>\n",
       "<polyline clip-path=\"url(#clip130)\" style=\"stroke:#000000; stroke-linecap:round; stroke-linejoin:round; stroke-width:4; stroke-opacity:1; fill:none\" points=\"\n",
       "  1747,1423.18 1747,1404.28 \n",
       "  \"/>\n",
       "<polyline clip-path=\"url(#clip130)\" style=\"stroke:#000000; stroke-linecap:round; stroke-linejoin:round; stroke-width:4; stroke-opacity:1; fill:none\" points=\"\n",
       "  2289.31,1423.18 2289.31,1404.28 \n",
       "  \"/>\n",
       "<path clip-path=\"url(#clip130)\" d=\"M120.1 1454.1 Q116.489 1454.1 114.66 1457.66 Q112.855 1461.2 112.855 1468.33 Q112.855 1475.44 114.66 1479.01 Q116.489 1482.55 120.1 1482.55 Q123.734 1482.55 125.54 1479.01 Q127.368 1475.44 127.368 1468.33 Q127.368 1461.2 125.54 1457.66 Q123.734 1454.1 120.1 1454.1 M120.1 1450.39 Q125.91 1450.39 128.966 1455 Q132.044 1459.58 132.044 1468.33 Q132.044 1477.06 128.966 1481.67 Q125.91 1486.25 120.1 1486.25 Q114.29 1486.25 111.211 1481.67 Q108.156 1477.06 108.156 1468.33 Q108.156 1459.58 111.211 1455 Q114.29 1450.39 120.1 1450.39 Z\" fill=\"#000000\" fill-rule=\"evenodd\" fill-opacity=\"1\" /><path clip-path=\"url(#clip130)\" d=\"M652.679 1451.02 L671.036 1451.02 L671.036 1454.96 L656.962 1454.96 L656.962 1463.43 Q657.98 1463.08 658.999 1462.92 Q660.017 1462.73 661.036 1462.73 Q666.823 1462.73 670.203 1465.9 Q673.582 1469.08 673.582 1474.49 Q673.582 1480.07 670.11 1483.17 Q666.638 1486.25 660.318 1486.25 Q658.142 1486.25 655.874 1485.88 Q653.629 1485.51 651.221 1484.77 L651.221 1480.07 Q653.304 1481.2 655.527 1481.76 Q657.749 1482.32 660.226 1482.32 Q664.23 1482.32 666.568 1480.21 Q668.906 1478.1 668.906 1474.49 Q668.906 1470.88 666.568 1468.77 Q664.23 1466.67 660.226 1466.67 Q658.351 1466.67 656.476 1467.08 Q654.624 1467.5 652.679 1468.38 L652.679 1451.02 Z\" fill=\"#000000\" fill-rule=\"evenodd\" fill-opacity=\"1\" /><path clip-path=\"url(#clip130)\" d=\"M1179.39 1481.64 L1187.03 1481.64 L1187.03 1455.28 L1178.72 1456.95 L1178.72 1452.69 L1186.98 1451.02 L1191.66 1451.02 L1191.66 1481.64 L1199.3 1481.64 L1199.3 1485.58 L1179.39 1485.58 L1179.39 1481.64 Z\" fill=\"#000000\" fill-rule=\"evenodd\" fill-opacity=\"1\" /><path clip-path=\"url(#clip130)\" d=\"M1218.74 1454.1 Q1215.13 1454.1 1213.3 1457.66 Q1211.5 1461.2 1211.5 1468.33 Q1211.5 1475.44 1213.3 1479.01 Q1215.13 1482.55 1218.74 1482.55 Q1222.38 1482.55 1224.18 1479.01 Q1226.01 1475.44 1226.01 1468.33 Q1226.01 1461.2 1224.18 1457.66 Q1222.38 1454.1 1218.74 1454.1 M1218.74 1450.39 Q1224.55 1450.39 1227.61 1455 Q1230.69 1459.58 1230.69 1468.33 Q1230.69 1477.06 1227.61 1481.67 Q1224.55 1486.25 1218.74 1486.25 Q1212.93 1486.25 1209.85 1481.67 Q1206.8 1477.06 1206.8 1468.33 Q1206.8 1459.58 1209.85 1455 Q1212.93 1450.39 1218.74 1450.39 Z\" fill=\"#000000\" fill-rule=\"evenodd\" fill-opacity=\"1\" /><path clip-path=\"url(#clip130)\" d=\"M1722.19 1481.64 L1729.83 1481.64 L1729.83 1455.28 L1721.52 1456.95 L1721.52 1452.69 L1729.78 1451.02 L1734.46 1451.02 L1734.46 1481.64 L1742.1 1481.64 L1742.1 1485.58 L1722.19 1485.58 L1722.19 1481.64 Z\" fill=\"#000000\" fill-rule=\"evenodd\" fill-opacity=\"1\" /><path clip-path=\"url(#clip130)\" d=\"M1751.59 1451.02 L1769.94 1451.02 L1769.94 1454.96 L1755.87 1454.96 L1755.87 1463.43 Q1756.89 1463.08 1757.91 1462.92 Q1758.93 1462.73 1759.94 1462.73 Q1765.73 1462.73 1769.11 1465.9 Q1772.49 1469.08 1772.49 1474.49 Q1772.49 1480.07 1769.02 1483.17 Q1765.55 1486.25 1759.23 1486.25 Q1757.05 1486.25 1754.78 1485.88 Q1752.54 1485.51 1750.13 1484.77 L1750.13 1480.07 Q1752.21 1481.2 1754.44 1481.76 Q1756.66 1482.32 1759.13 1482.32 Q1763.14 1482.32 1765.48 1480.21 Q1767.82 1478.1 1767.82 1474.49 Q1767.82 1470.88 1765.48 1468.77 Q1763.14 1466.67 1759.13 1466.67 Q1757.26 1466.67 1755.38 1467.08 Q1753.53 1467.5 1751.59 1468.38 L1751.59 1451.02 Z\" fill=\"#000000\" fill-rule=\"evenodd\" fill-opacity=\"1\" /><path clip-path=\"url(#clip130)\" d=\"M2268.08 1481.64 L2284.4 1481.64 L2284.4 1485.58 L2262.45 1485.58 L2262.45 1481.64 Q2265.12 1478.89 2269.7 1474.26 Q2274.31 1469.61 2275.49 1468.27 Q2277.73 1465.74 2278.61 1464.01 Q2279.51 1462.25 2279.51 1460.56 Q2279.51 1457.8 2277.57 1456.07 Q2275.65 1454.33 2272.55 1454.33 Q2270.35 1454.33 2267.89 1455.09 Q2265.46 1455.86 2262.69 1457.41 L2262.69 1452.69 Q2265.51 1451.55 2267.96 1450.97 Q2270.42 1450.39 2272.45 1450.39 Q2277.83 1450.39 2281.02 1453.08 Q2284.21 1455.77 2284.21 1460.26 Q2284.21 1462.39 2283.4 1464.31 Q2282.62 1466.2 2280.51 1468.8 Q2279.93 1469.47 2276.83 1472.69 Q2273.73 1475.88 2268.08 1481.64 Z\" fill=\"#000000\" fill-rule=\"evenodd\" fill-opacity=\"1\" /><path clip-path=\"url(#clip130)\" d=\"M2304.21 1454.1 Q2300.6 1454.1 2298.77 1457.66 Q2296.97 1461.2 2296.97 1468.33 Q2296.97 1475.44 2298.77 1479.01 Q2300.6 1482.55 2304.21 1482.55 Q2307.85 1482.55 2309.65 1479.01 Q2311.48 1475.44 2311.48 1468.33 Q2311.48 1461.2 2309.65 1457.66 Q2307.85 1454.1 2304.21 1454.1 M2304.21 1450.39 Q2310.02 1450.39 2313.08 1455 Q2316.16 1459.58 2316.16 1468.33 Q2316.16 1477.06 2313.08 1481.67 Q2310.02 1486.25 2304.21 1486.25 Q2298.4 1486.25 2295.33 1481.67 Q2292.27 1477.06 2292.27 1468.33 Q2292.27 1459.58 2295.33 1455 Q2298.4 1450.39 2304.21 1450.39 Z\" fill=\"#000000\" fill-rule=\"evenodd\" fill-opacity=\"1\" /><path clip-path=\"url(#clip130)\" d=\"M1230.88 1522.27 L1230.88 1532.4 L1242.94 1532.4 L1242.94 1536.95 L1230.88 1536.95 L1230.88 1556.3 Q1230.88 1560.66 1232.06 1561.9 Q1233.27 1563.14 1236.93 1563.14 L1242.94 1563.14 L1242.94 1568.04 L1236.93 1568.04 Q1230.15 1568.04 1227.57 1565.53 Q1224.99 1562.98 1224.99 1556.3 L1224.99 1536.95 L1220.69 1536.95 L1220.69 1532.4 L1224.99 1532.4 L1224.99 1522.27 L1230.88 1522.27 Z\" fill=\"#000000\" fill-rule=\"evenodd\" fill-opacity=\"1\" /><polyline clip-path=\"url(#clip132)\" style=\"stroke:#000000; stroke-linecap:round; stroke-linejoin:round; stroke-width:2; stroke-opacity:0.1; fill:none\" points=\"\n",
       "  110.881,1423.18 2352.76,1423.18 \n",
       "  \"/>\n",
       "<polyline clip-path=\"url(#clip132)\" style=\"stroke:#000000; stroke-linecap:round; stroke-linejoin:round; stroke-width:2; stroke-opacity:0.1; fill:none\" points=\"\n",
       "  110.881,964.535 2352.76,964.535 \n",
       "  \"/>\n",
       "<polyline clip-path=\"url(#clip132)\" style=\"stroke:#000000; stroke-linecap:round; stroke-linejoin:round; stroke-width:2; stroke-opacity:0.1; fill:none\" points=\"\n",
       "  110.881,505.889 2352.76,505.889 \n",
       "  \"/>\n",
       "<polyline clip-path=\"url(#clip132)\" style=\"stroke:#000000; stroke-linecap:round; stroke-linejoin:round; stroke-width:2; stroke-opacity:0.1; fill:none\" points=\"\n",
       "  110.881,47.2441 2352.76,47.2441 \n",
       "  \"/>\n",
       "<polyline clip-path=\"url(#clip130)\" style=\"stroke:#000000; stroke-linecap:round; stroke-linejoin:round; stroke-width:4; stroke-opacity:1; fill:none\" points=\"\n",
       "  110.881,1423.18 110.881,47.2441 \n",
       "  \"/>\n",
       "<polyline clip-path=\"url(#clip130)\" style=\"stroke:#000000; stroke-linecap:round; stroke-linejoin:round; stroke-width:4; stroke-opacity:1; fill:none\" points=\"\n",
       "  110.881,1423.18 129.779,1423.18 \n",
       "  \"/>\n",
       "<polyline clip-path=\"url(#clip130)\" style=\"stroke:#000000; stroke-linecap:round; stroke-linejoin:round; stroke-width:4; stroke-opacity:1; fill:none\" points=\"\n",
       "  110.881,964.535 129.779,964.535 \n",
       "  \"/>\n",
       "<polyline clip-path=\"url(#clip130)\" style=\"stroke:#000000; stroke-linecap:round; stroke-linejoin:round; stroke-width:4; stroke-opacity:1; fill:none\" points=\"\n",
       "  110.881,505.889 129.779,505.889 \n",
       "  \"/>\n",
       "<polyline clip-path=\"url(#clip130)\" style=\"stroke:#000000; stroke-linecap:round; stroke-linejoin:round; stroke-width:4; stroke-opacity:1; fill:none\" points=\"\n",
       "  110.881,47.2441 129.779,47.2441 \n",
       "  \"/>\n",
       "<path clip-path=\"url(#clip130)\" d=\"M62.9365 1408.98 Q59.3254 1408.98 57.4967 1412.54 Q55.6912 1416.08 55.6912 1423.21 Q55.6912 1430.32 57.4967 1433.89 Q59.3254 1437.43 62.9365 1437.43 Q66.5707 1437.43 68.3763 1433.89 Q70.205 1430.32 70.205 1423.21 Q70.205 1416.08 68.3763 1412.54 Q66.5707 1408.98 62.9365 1408.98 M62.9365 1405.27 Q68.7467 1405.27 71.8022 1409.88 Q74.8809 1414.46 74.8809 1423.21 Q74.8809 1431.94 71.8022 1436.55 Q68.7467 1441.13 62.9365 1441.13 Q57.1264 1441.13 54.0477 1436.55 Q50.9921 1431.94 50.9921 1423.21 Q50.9921 1414.46 54.0477 1409.88 Q57.1264 1405.27 62.9365 1405.27 Z\" fill=\"#000000\" fill-rule=\"evenodd\" fill-opacity=\"1\" /><path clip-path=\"url(#clip130)\" d=\"M54.9736 977.879 L62.6124 977.879 L62.6124 951.514 L54.3023 953.18 L54.3023 948.921 L62.5661 947.255 L67.242 947.255 L67.242 977.879 L74.8809 977.879 L74.8809 981.815 L54.9736 981.815 L54.9736 977.879 Z\" fill=\"#000000\" fill-rule=\"evenodd\" fill-opacity=\"1\" /><path clip-path=\"url(#clip130)\" d=\"M58.5615 519.234 L74.8809 519.234 L74.8809 523.169 L52.9366 523.169 L52.9366 519.234 Q55.5986 516.48 60.1819 511.85 Q64.7883 507.197 65.9689 505.855 Q68.2143 503.331 69.0939 501.595 Q69.9967 499.836 69.9967 498.146 Q69.9967 495.392 68.0522 493.656 Q66.1309 491.92 63.0291 491.92 Q60.83 491.92 58.3763 492.683 Q55.9458 493.447 53.168 494.998 L53.168 490.276 Q55.9921 489.142 58.4458 488.563 Q60.8995 487.984 62.9365 487.984 Q68.3068 487.984 71.5013 490.67 Q74.6957 493.355 74.6957 497.845 Q74.6957 499.975 73.8855 501.896 Q73.0985 503.794 70.992 506.387 Q70.4133 507.058 67.3115 510.276 Q64.2096 513.47 58.5615 519.234 Z\" fill=\"#000000\" fill-rule=\"evenodd\" fill-opacity=\"1\" /><path clip-path=\"url(#clip130)\" d=\"M67.7513 45.8899 Q71.1078 46.6075 72.9827 48.876 Q74.8809 51.1445 74.8809 54.4779 Q74.8809 59.5936 71.3624 62.3945 Q67.8439 65.1954 61.3624 65.1954 Q59.1865 65.1954 56.8717 64.7556 Q54.5801 64.3389 52.1264 63.4824 L52.1264 58.9686 Q54.0708 60.1028 56.3856 60.6815 Q58.7004 61.2602 61.2236 61.2602 Q65.6217 61.2602 67.9133 59.5241 Q70.2281 57.788 70.2281 54.4779 Q70.2281 51.4223 68.0754 49.7094 Q65.9457 47.9733 62.1263 47.9733 L58.0986 47.9733 L58.0986 44.1307 L62.3115 44.1307 Q65.7606 44.1307 67.5893 42.765 Q69.418 41.3761 69.418 38.7835 Q69.418 36.1215 67.5198 34.7094 Q65.6448 33.2743 62.1263 33.2743 Q60.205 33.2743 58.006 33.6909 Q55.8069 34.1076 53.168 34.9872 L53.168 30.8206 Q55.8301 30.0798 58.1449 29.7095 Q60.4828 29.3391 62.543 29.3391 Q67.867 29.3391 70.9689 31.7696 Q74.0707 34.177 74.0707 38.2974 Q74.0707 41.1677 72.4272 43.1585 Q70.7837 45.1261 67.7513 45.8899 Z\" fill=\"#000000\" fill-rule=\"evenodd\" fill-opacity=\"1\" /><path clip-path=\"url(#clip132)\" d=\"\n",
       "M174.33 771.774 L228.56 972.626 L282.791 773.696 L337.021 817.677 L391.251 915.847 L445.481 927.492 L499.711 998.142 L553.941 971.293 L608.171 1030.06 L662.402 1049.84 \n",
       "  L716.632 986.196 L770.862 1008.82 L825.092 1038.06 L879.322 1013.57 L933.552 1015.9 L987.783 993.992 L1042.01 1037.36 L1096.24 1015.67 L1150.47 1045.97 L1204.7 993.764 \n",
       "  L1258.93 1002.69 L1313.16 1039.21 L1367.39 952.15 L1421.62 1029.72 L1475.85 1077.94 L1530.08 974.828 L1584.31 1048.48 L1638.54 1053.28 L1692.77 1016.69 L1747 1032.07 \n",
       "  L1801.24 1048.12 L1855.47 1030.49 L1909.7 1010.78 L1963.93 1056.62 L2018.16 1005.78 L2072.39 982.993 L2126.62 1023.35 L2180.85 997.879 L2235.08 966.911 L2289.31 1023.37 \n",
       "  L2289.31 266.342 L2235.08 324.191 L2180.85 327.044 L2126.62 201.94 L2072.39 247.514 L2018.16 391.303 L1963.93 381.287 L1909.7 164.251 L1855.47 350.662 L1801.24 336.067 \n",
       "  L1747 253.121 L1692.77 276.236 L1638.54 312.486 L1584.31 400.675 L1530.08 230.861 L1475.85 286.802 L1421.62 316.765 L1367.39 288.252 L1313.16 293.406 L1258.93 395.518 \n",
       "  L1204.7 264.307 L1150.47 318.494 L1096.24 389.745 L1042.01 324.261 L987.783 357.999 L933.552 291.23 L879.322 336.709 L825.092 249.99 L770.862 339.36 L716.632 317.425 \n",
       "  L662.402 433.261 L608.171 229.557 L553.941 283.837 L499.711 350.506 L445.481 376.59 L391.251 132.658 L337.021 -30.7276 L282.791 194.364 L228.56 573.7 L174.33 528.344 \n",
       "   Z\n",
       "  \" fill=\"#000000\" fill-rule=\"evenodd\" fill-opacity=\"0.2\"/>\n",
       "<polyline clip-path=\"url(#clip132)\" style=\"stroke:#000000; stroke-linecap:round; stroke-linejoin:round; stroke-width:8; stroke-opacity:1; fill:none\" points=\"\n",
       "  174.33,650.059 228.56,773.163 282.791,484.03 337.021,393.475 391.251,524.252 445.481,652.041 499.711,674.324 553.941,627.565 608.171,629.81 662.402,741.551 \n",
       "  716.632,651.811 770.862,674.089 825.092,644.026 879.322,675.138 933.552,653.565 987.783,675.995 1042.01,680.811 1096.24,702.706 1150.47,682.232 1204.7,629.036 \n",
       "  1258.93,699.104 1313.16,666.309 1367.39,620.201 1421.62,673.241 1475.85,682.372 1530.08,602.845 1584.31,724.577 1638.54,682.882 1692.77,646.465 1747,642.595 \n",
       "  1801.24,692.095 1855.47,690.577 1909.7,587.518 1963.93,718.955 2018.16,698.54 2072.39,615.253 2126.62,612.647 2180.85,662.461 2235.08,645.551 2289.31,644.855 \n",
       "  \n",
       "  \"/>\n",
       "</svg>\n"
      ]
     },
     "execution_count": 7,
     "metadata": {},
     "output_type": "execute_result"
    }
   ],
   "source": [
    "p1 = plot(Trange, AVE, ribbon=STDV, lw=2, legend=false, xlabel=\"t\", ylims=[0,ub],color=:black, fillalpha=0.2)"
   ]
  },
  {
   "cell_type": "markdown",
   "id": "e7ac8379-4eb8-44ae-9524-ed63d9cd369f",
   "metadata": {},
   "source": [
    "### DU-EM法"
   ]
  },
  {
   "cell_type": "code",
   "execution_count": 8,
   "id": "b953b459-4d31-4f0f-932b-66dbf5ee6581",
   "metadata": {},
   "outputs": [
    {
     "data": {
      "text/plain": [
       "DU_EM (generic function with 1 method)"
      ]
     },
     "execution_count": 8,
     "metadata": {},
     "output_type": "execute_result"
    }
   ],
   "source": [
    "function DU_EM(K, T)\n",
    "    η = T/N\n",
    "    x = randn(4,mbs)\n",
    "    for i in 1:N\n",
    "        x = x + η*(A + B*K*C)*x + std*sqrt(η)*randn(4,mbs)\n",
    "    end\n",
    "    s = sum(x.^2)\n",
    "    return s\n",
    "end        "
   ]
  },
  {
   "cell_type": "markdown",
   "id": "5923e4c4-3072-4cdd-9c5d-f1c9c3b6d393",
   "metadata": {},
   "source": [
    "### 学習プロセス"
   ]
  },
  {
   "cell_type": "code",
   "execution_count": 9,
   "id": "232b68bb-20d1-42e2-b67d-9bccc0f13161",
   "metadata": {},
   "outputs": [],
   "source": [
    "opt = Flux.ADAM(1.0) \n",
    "train_itr = 100\n",
    "K_train = K\n",
    "ps = Flux.params(K_train)\n",
    "for i in 1:train_itr\n",
    "    gs = Flux.gradient(ps) do\n",
    "        DU_EM(K_train, 20)\n",
    "    end\n",
    "    Flux.Optimise.update!(opt, ps, gs)\n",
    "end"
   ]
  },
  {
   "cell_type": "markdown",
   "id": "2153ad95-aa20-47d7-9413-cbf0e11a6c31",
   "metadata": {},
   "source": [
    "### 結果の表示"
   ]
  },
  {
   "cell_type": "code",
   "execution_count": 10,
   "id": "d0e843dc-2735-4d72-bc29-5df3602869a8",
   "metadata": {},
   "outputs": [
    {
     "data": {
      "image/svg+xml": [
       "<?xml version=\"1.0\" encoding=\"utf-8\"?>\n",
       "<svg xmlns=\"http://www.w3.org/2000/svg\" xmlns:xlink=\"http://www.w3.org/1999/xlink\" width=\"600\" height=\"400\" viewBox=\"0 0 2400 1600\">\n",
       "<defs>\n",
       "  <clipPath id=\"clip170\">\n",
       "    <rect x=\"0\" y=\"0\" width=\"2400\" height=\"1600\"/>\n",
       "  </clipPath>\n",
       "</defs>\n",
       "<path clip-path=\"url(#clip170)\" d=\"\n",
       "M0 1600 L2400 1600 L2400 0 L0 0  Z\n",
       "  \" fill=\"#ffffff\" fill-rule=\"evenodd\" fill-opacity=\"1\"/>\n",
       "<defs>\n",
       "  <clipPath id=\"clip171\">\n",
       "    <rect x=\"480\" y=\"0\" width=\"1681\" height=\"1600\"/>\n",
       "  </clipPath>\n",
       "</defs>\n",
       "<path clip-path=\"url(#clip170)\" d=\"\n",
       "M110.881 1423.18 L2352.76 1423.18 L2352.76 47.2441 L110.881 47.2441  Z\n",
       "  \" fill=\"#ffffff\" fill-rule=\"evenodd\" fill-opacity=\"1\"/>\n",
       "<defs>\n",
       "  <clipPath id=\"clip172\">\n",
       "    <rect x=\"110\" y=\"47\" width=\"2243\" height=\"1377\"/>\n",
       "  </clipPath>\n",
       "</defs>\n",
       "<polyline clip-path=\"url(#clip172)\" style=\"stroke:#000000; stroke-linecap:round; stroke-linejoin:round; stroke-width:2; stroke-opacity:0.1; fill:none\" points=\"\n",
       "  120.1,1423.18 120.1,47.2441 \n",
       "  \"/>\n",
       "<polyline clip-path=\"url(#clip172)\" style=\"stroke:#000000; stroke-linecap:round; stroke-linejoin:round; stroke-width:2; stroke-opacity:0.1; fill:none\" points=\"\n",
       "  662.402,1423.18 662.402,47.2441 \n",
       "  \"/>\n",
       "<polyline clip-path=\"url(#clip172)\" style=\"stroke:#000000; stroke-linecap:round; stroke-linejoin:round; stroke-width:2; stroke-opacity:0.1; fill:none\" points=\"\n",
       "  1204.7,1423.18 1204.7,47.2441 \n",
       "  \"/>\n",
       "<polyline clip-path=\"url(#clip172)\" style=\"stroke:#000000; stroke-linecap:round; stroke-linejoin:round; stroke-width:2; stroke-opacity:0.1; fill:none\" points=\"\n",
       "  1747,1423.18 1747,47.2441 \n",
       "  \"/>\n",
       "<polyline clip-path=\"url(#clip172)\" style=\"stroke:#000000; stroke-linecap:round; stroke-linejoin:round; stroke-width:2; stroke-opacity:0.1; fill:none\" points=\"\n",
       "  2289.31,1423.18 2289.31,47.2441 \n",
       "  \"/>\n",
       "<polyline clip-path=\"url(#clip170)\" style=\"stroke:#000000; stroke-linecap:round; stroke-linejoin:round; stroke-width:4; stroke-opacity:1; fill:none\" points=\"\n",
       "  110.881,1423.18 2352.76,1423.18 \n",
       "  \"/>\n",
       "<polyline clip-path=\"url(#clip170)\" style=\"stroke:#000000; stroke-linecap:round; stroke-linejoin:round; stroke-width:4; stroke-opacity:1; fill:none\" points=\"\n",
       "  120.1,1423.18 120.1,1404.28 \n",
       "  \"/>\n",
       "<polyline clip-path=\"url(#clip170)\" style=\"stroke:#000000; stroke-linecap:round; stroke-linejoin:round; stroke-width:4; stroke-opacity:1; fill:none\" points=\"\n",
       "  662.402,1423.18 662.402,1404.28 \n",
       "  \"/>\n",
       "<polyline clip-path=\"url(#clip170)\" style=\"stroke:#000000; stroke-linecap:round; stroke-linejoin:round; stroke-width:4; stroke-opacity:1; fill:none\" points=\"\n",
       "  1204.7,1423.18 1204.7,1404.28 \n",
       "  \"/>\n",
       "<polyline clip-path=\"url(#clip170)\" style=\"stroke:#000000; stroke-linecap:round; stroke-linejoin:round; stroke-width:4; stroke-opacity:1; fill:none\" points=\"\n",
       "  1747,1423.18 1747,1404.28 \n",
       "  \"/>\n",
       "<polyline clip-path=\"url(#clip170)\" style=\"stroke:#000000; stroke-linecap:round; stroke-linejoin:round; stroke-width:4; stroke-opacity:1; fill:none\" points=\"\n",
       "  2289.31,1423.18 2289.31,1404.28 \n",
       "  \"/>\n",
       "<path clip-path=\"url(#clip170)\" d=\"M120.1 1454.1 Q116.489 1454.1 114.66 1457.66 Q112.855 1461.2 112.855 1468.33 Q112.855 1475.44 114.66 1479.01 Q116.489 1482.55 120.1 1482.55 Q123.734 1482.55 125.54 1479.01 Q127.368 1475.44 127.368 1468.33 Q127.368 1461.2 125.54 1457.66 Q123.734 1454.1 120.1 1454.1 M120.1 1450.39 Q125.91 1450.39 128.966 1455 Q132.044 1459.58 132.044 1468.33 Q132.044 1477.06 128.966 1481.67 Q125.91 1486.25 120.1 1486.25 Q114.29 1486.25 111.211 1481.67 Q108.156 1477.06 108.156 1468.33 Q108.156 1459.58 111.211 1455 Q114.29 1450.39 120.1 1450.39 Z\" fill=\"#000000\" fill-rule=\"evenodd\" fill-opacity=\"1\" /><path clip-path=\"url(#clip170)\" d=\"M652.679 1451.02 L671.036 1451.02 L671.036 1454.96 L656.962 1454.96 L656.962 1463.43 Q657.98 1463.08 658.999 1462.92 Q660.017 1462.73 661.036 1462.73 Q666.823 1462.73 670.203 1465.9 Q673.582 1469.08 673.582 1474.49 Q673.582 1480.07 670.11 1483.17 Q666.638 1486.25 660.318 1486.25 Q658.142 1486.25 655.874 1485.88 Q653.629 1485.51 651.221 1484.77 L651.221 1480.07 Q653.304 1481.2 655.527 1481.76 Q657.749 1482.32 660.226 1482.32 Q664.23 1482.32 666.568 1480.21 Q668.906 1478.1 668.906 1474.49 Q668.906 1470.88 666.568 1468.77 Q664.23 1466.67 660.226 1466.67 Q658.351 1466.67 656.476 1467.08 Q654.624 1467.5 652.679 1468.38 L652.679 1451.02 Z\" fill=\"#000000\" fill-rule=\"evenodd\" fill-opacity=\"1\" /><path clip-path=\"url(#clip170)\" d=\"M1179.39 1481.64 L1187.03 1481.64 L1187.03 1455.28 L1178.72 1456.95 L1178.72 1452.69 L1186.98 1451.02 L1191.66 1451.02 L1191.66 1481.64 L1199.3 1481.64 L1199.3 1485.58 L1179.39 1485.58 L1179.39 1481.64 Z\" fill=\"#000000\" fill-rule=\"evenodd\" fill-opacity=\"1\" /><path clip-path=\"url(#clip170)\" d=\"M1218.74 1454.1 Q1215.13 1454.1 1213.3 1457.66 Q1211.5 1461.2 1211.5 1468.33 Q1211.5 1475.44 1213.3 1479.01 Q1215.13 1482.55 1218.74 1482.55 Q1222.38 1482.55 1224.18 1479.01 Q1226.01 1475.44 1226.01 1468.33 Q1226.01 1461.2 1224.18 1457.66 Q1222.38 1454.1 1218.74 1454.1 M1218.74 1450.39 Q1224.55 1450.39 1227.61 1455 Q1230.69 1459.58 1230.69 1468.33 Q1230.69 1477.06 1227.61 1481.67 Q1224.55 1486.25 1218.74 1486.25 Q1212.93 1486.25 1209.85 1481.67 Q1206.8 1477.06 1206.8 1468.33 Q1206.8 1459.58 1209.85 1455 Q1212.93 1450.39 1218.74 1450.39 Z\" fill=\"#000000\" fill-rule=\"evenodd\" fill-opacity=\"1\" /><path clip-path=\"url(#clip170)\" d=\"M1722.19 1481.64 L1729.83 1481.64 L1729.83 1455.28 L1721.52 1456.95 L1721.52 1452.69 L1729.78 1451.02 L1734.46 1451.02 L1734.46 1481.64 L1742.1 1481.64 L1742.1 1485.58 L1722.19 1485.58 L1722.19 1481.64 Z\" fill=\"#000000\" fill-rule=\"evenodd\" fill-opacity=\"1\" /><path clip-path=\"url(#clip170)\" d=\"M1751.59 1451.02 L1769.94 1451.02 L1769.94 1454.96 L1755.87 1454.96 L1755.87 1463.43 Q1756.89 1463.08 1757.91 1462.92 Q1758.93 1462.73 1759.94 1462.73 Q1765.73 1462.73 1769.11 1465.9 Q1772.49 1469.08 1772.49 1474.49 Q1772.49 1480.07 1769.02 1483.17 Q1765.55 1486.25 1759.23 1486.25 Q1757.05 1486.25 1754.78 1485.88 Q1752.54 1485.51 1750.13 1484.77 L1750.13 1480.07 Q1752.21 1481.2 1754.44 1481.76 Q1756.66 1482.32 1759.13 1482.32 Q1763.14 1482.32 1765.48 1480.21 Q1767.82 1478.1 1767.82 1474.49 Q1767.82 1470.88 1765.48 1468.77 Q1763.14 1466.67 1759.13 1466.67 Q1757.26 1466.67 1755.38 1467.08 Q1753.53 1467.5 1751.59 1468.38 L1751.59 1451.02 Z\" fill=\"#000000\" fill-rule=\"evenodd\" fill-opacity=\"1\" /><path clip-path=\"url(#clip170)\" d=\"M2268.08 1481.64 L2284.4 1481.64 L2284.4 1485.58 L2262.45 1485.58 L2262.45 1481.64 Q2265.12 1478.89 2269.7 1474.26 Q2274.31 1469.61 2275.49 1468.27 Q2277.73 1465.74 2278.61 1464.01 Q2279.51 1462.25 2279.51 1460.56 Q2279.51 1457.8 2277.57 1456.07 Q2275.65 1454.33 2272.55 1454.33 Q2270.35 1454.33 2267.89 1455.09 Q2265.46 1455.86 2262.69 1457.41 L2262.69 1452.69 Q2265.51 1451.55 2267.96 1450.97 Q2270.42 1450.39 2272.45 1450.39 Q2277.83 1450.39 2281.02 1453.08 Q2284.21 1455.77 2284.21 1460.26 Q2284.21 1462.39 2283.4 1464.31 Q2282.62 1466.2 2280.51 1468.8 Q2279.93 1469.47 2276.83 1472.69 Q2273.73 1475.88 2268.08 1481.64 Z\" fill=\"#000000\" fill-rule=\"evenodd\" fill-opacity=\"1\" /><path clip-path=\"url(#clip170)\" d=\"M2304.21 1454.1 Q2300.6 1454.1 2298.77 1457.66 Q2296.97 1461.2 2296.97 1468.33 Q2296.97 1475.44 2298.77 1479.01 Q2300.6 1482.55 2304.21 1482.55 Q2307.85 1482.55 2309.65 1479.01 Q2311.48 1475.44 2311.48 1468.33 Q2311.48 1461.2 2309.65 1457.66 Q2307.85 1454.1 2304.21 1454.1 M2304.21 1450.39 Q2310.02 1450.39 2313.08 1455 Q2316.16 1459.58 2316.16 1468.33 Q2316.16 1477.06 2313.08 1481.67 Q2310.02 1486.25 2304.21 1486.25 Q2298.4 1486.25 2295.33 1481.67 Q2292.27 1477.06 2292.27 1468.33 Q2292.27 1459.58 2295.33 1455 Q2298.4 1450.39 2304.21 1450.39 Z\" fill=\"#000000\" fill-rule=\"evenodd\" fill-opacity=\"1\" /><path clip-path=\"url(#clip170)\" d=\"M1230.88 1522.27 L1230.88 1532.4 L1242.94 1532.4 L1242.94 1536.95 L1230.88 1536.95 L1230.88 1556.3 Q1230.88 1560.66 1232.06 1561.9 Q1233.27 1563.14 1236.93 1563.14 L1242.94 1563.14 L1242.94 1568.04 L1236.93 1568.04 Q1230.15 1568.04 1227.57 1565.53 Q1224.99 1562.98 1224.99 1556.3 L1224.99 1536.95 L1220.69 1536.95 L1220.69 1532.4 L1224.99 1532.4 L1224.99 1522.27 L1230.88 1522.27 Z\" fill=\"#000000\" fill-rule=\"evenodd\" fill-opacity=\"1\" /><polyline clip-path=\"url(#clip172)\" style=\"stroke:#000000; stroke-linecap:round; stroke-linejoin:round; stroke-width:2; stroke-opacity:0.1; fill:none\" points=\"\n",
       "  110.881,1423.18 2352.76,1423.18 \n",
       "  \"/>\n",
       "<polyline clip-path=\"url(#clip172)\" style=\"stroke:#000000; stroke-linecap:round; stroke-linejoin:round; stroke-width:2; stroke-opacity:0.1; fill:none\" points=\"\n",
       "  110.881,964.535 2352.76,964.535 \n",
       "  \"/>\n",
       "<polyline clip-path=\"url(#clip172)\" style=\"stroke:#000000; stroke-linecap:round; stroke-linejoin:round; stroke-width:2; stroke-opacity:0.1; fill:none\" points=\"\n",
       "  110.881,505.889 2352.76,505.889 \n",
       "  \"/>\n",
       "<polyline clip-path=\"url(#clip172)\" style=\"stroke:#000000; stroke-linecap:round; stroke-linejoin:round; stroke-width:2; stroke-opacity:0.1; fill:none\" points=\"\n",
       "  110.881,47.2441 2352.76,47.2441 \n",
       "  \"/>\n",
       "<polyline clip-path=\"url(#clip170)\" style=\"stroke:#000000; stroke-linecap:round; stroke-linejoin:round; stroke-width:4; stroke-opacity:1; fill:none\" points=\"\n",
       "  110.881,1423.18 110.881,47.2441 \n",
       "  \"/>\n",
       "<polyline clip-path=\"url(#clip170)\" style=\"stroke:#000000; stroke-linecap:round; stroke-linejoin:round; stroke-width:4; stroke-opacity:1; fill:none\" points=\"\n",
       "  110.881,1423.18 129.779,1423.18 \n",
       "  \"/>\n",
       "<polyline clip-path=\"url(#clip170)\" style=\"stroke:#000000; stroke-linecap:round; stroke-linejoin:round; stroke-width:4; stroke-opacity:1; fill:none\" points=\"\n",
       "  110.881,964.535 129.779,964.535 \n",
       "  \"/>\n",
       "<polyline clip-path=\"url(#clip170)\" style=\"stroke:#000000; stroke-linecap:round; stroke-linejoin:round; stroke-width:4; stroke-opacity:1; fill:none\" points=\"\n",
       "  110.881,505.889 129.779,505.889 \n",
       "  \"/>\n",
       "<polyline clip-path=\"url(#clip170)\" style=\"stroke:#000000; stroke-linecap:round; stroke-linejoin:round; stroke-width:4; stroke-opacity:1; fill:none\" points=\"\n",
       "  110.881,47.2441 129.779,47.2441 \n",
       "  \"/>\n",
       "<path clip-path=\"url(#clip170)\" d=\"M62.9365 1408.98 Q59.3254 1408.98 57.4967 1412.54 Q55.6912 1416.08 55.6912 1423.21 Q55.6912 1430.32 57.4967 1433.89 Q59.3254 1437.43 62.9365 1437.43 Q66.5707 1437.43 68.3763 1433.89 Q70.205 1430.32 70.205 1423.21 Q70.205 1416.08 68.3763 1412.54 Q66.5707 1408.98 62.9365 1408.98 M62.9365 1405.27 Q68.7467 1405.27 71.8022 1409.88 Q74.8809 1414.46 74.8809 1423.21 Q74.8809 1431.94 71.8022 1436.55 Q68.7467 1441.13 62.9365 1441.13 Q57.1264 1441.13 54.0477 1436.55 Q50.9921 1431.94 50.9921 1423.21 Q50.9921 1414.46 54.0477 1409.88 Q57.1264 1405.27 62.9365 1405.27 Z\" fill=\"#000000\" fill-rule=\"evenodd\" fill-opacity=\"1\" /><path clip-path=\"url(#clip170)\" d=\"M54.9736 977.879 L62.6124 977.879 L62.6124 951.514 L54.3023 953.18 L54.3023 948.921 L62.5661 947.255 L67.242 947.255 L67.242 977.879 L74.8809 977.879 L74.8809 981.815 L54.9736 981.815 L54.9736 977.879 Z\" fill=\"#000000\" fill-rule=\"evenodd\" fill-opacity=\"1\" /><path clip-path=\"url(#clip170)\" d=\"M58.5615 519.234 L74.8809 519.234 L74.8809 523.169 L52.9366 523.169 L52.9366 519.234 Q55.5986 516.48 60.1819 511.85 Q64.7883 507.197 65.9689 505.855 Q68.2143 503.331 69.0939 501.595 Q69.9967 499.836 69.9967 498.146 Q69.9967 495.392 68.0522 493.656 Q66.1309 491.92 63.0291 491.92 Q60.83 491.92 58.3763 492.683 Q55.9458 493.447 53.168 494.998 L53.168 490.276 Q55.9921 489.142 58.4458 488.563 Q60.8995 487.984 62.9365 487.984 Q68.3068 487.984 71.5013 490.67 Q74.6957 493.355 74.6957 497.845 Q74.6957 499.975 73.8855 501.896 Q73.0985 503.794 70.992 506.387 Q70.4133 507.058 67.3115 510.276 Q64.2096 513.47 58.5615 519.234 Z\" fill=\"#000000\" fill-rule=\"evenodd\" fill-opacity=\"1\" /><path clip-path=\"url(#clip170)\" d=\"M67.7513 45.8899 Q71.1078 46.6075 72.9827 48.876 Q74.8809 51.1445 74.8809 54.4779 Q74.8809 59.5936 71.3624 62.3945 Q67.8439 65.1954 61.3624 65.1954 Q59.1865 65.1954 56.8717 64.7556 Q54.5801 64.3389 52.1264 63.4824 L52.1264 58.9686 Q54.0708 60.1028 56.3856 60.6815 Q58.7004 61.2602 61.2236 61.2602 Q65.6217 61.2602 67.9133 59.5241 Q70.2281 57.788 70.2281 54.4779 Q70.2281 51.4223 68.0754 49.7094 Q65.9457 47.9733 62.1263 47.9733 L58.0986 47.9733 L58.0986 44.1307 L62.3115 44.1307 Q65.7606 44.1307 67.5893 42.765 Q69.418 41.3761 69.418 38.7835 Q69.418 36.1215 67.5198 34.7094 Q65.6448 33.2743 62.1263 33.2743 Q60.205 33.2743 58.006 33.6909 Q55.8069 34.1076 53.168 34.9872 L53.168 30.8206 Q55.8301 30.0798 58.1449 29.7095 Q60.4828 29.3391 62.543 29.3391 Q67.867 29.3391 70.9689 31.7696 Q74.0707 34.177 74.0707 38.2974 Q74.0707 41.1677 72.4272 43.1585 Q70.7837 45.1261 67.7513 45.8899 Z\" fill=\"#000000\" fill-rule=\"evenodd\" fill-opacity=\"1\" /><path clip-path=\"url(#clip172)\" d=\"\n",
       "M174.33 1085.67 L228.56 1133.71 L282.791 1141.76 L337.021 1177.59 L391.251 1152.18 L445.481 1153.08 L499.711 1186.11 L553.941 1158.65 L608.171 1160.1 L662.402 1172.54 \n",
       "  L716.632 1183.34 L770.862 1184.22 L825.092 1165.04 L879.322 1160.03 L933.552 1166.21 L987.783 1167.88 L1042.01 1164.15 L1096.24 1183.21 L1150.47 1160.85 L1204.7 1189.41 \n",
       "  L1258.93 1155.76 L1313.16 1205.69 L1367.39 1227.39 L1421.62 1170.48 L1475.85 1182.39 L1530.08 1182.16 L1584.31 1208.31 L1638.54 1176.87 L1692.77 1190.74 L1747 1174.56 \n",
       "  L1801.24 1172.2 L1855.47 1166.06 L1909.7 1166.34 L1963.93 1181.72 L2018.16 1140.47 L2072.39 1184.67 L2126.62 1160.78 L2180.85 1177.96 L2235.08 1130.16 L2289.31 1194.11 \n",
       "  L2289.31 762.648 L2235.08 720.154 L2180.85 746.56 L2126.62 763.5 L2072.39 773.363 L2018.16 806.287 L1963.93 724.413 L1909.7 721.502 L1855.47 712.756 L1801.24 765.833 \n",
       "  L1747 735.751 L1692.77 737.373 L1638.54 775.149 L1584.31 833.514 L1530.08 780.623 L1475.85 811.388 L1421.62 750.696 L1367.39 746.349 L1313.16 789.252 L1258.93 751.509 \n",
       "  L1204.7 736.87 L1150.47 769.114 L1096.24 761.509 L1042.01 710.444 L987.783 778.909 L933.552 745.147 L879.322 752.811 L825.092 758.028 L770.862 753.253 L716.632 734.944 \n",
       "  L662.402 765.262 L608.171 742.188 L553.941 721.319 L499.711 790.842 L445.481 724.411 L391.251 757.699 L337.021 742.592 L282.791 706.442 L228.56 738.408 L174.33 793.502 \n",
       "   Z\n",
       "  \" fill=\"#000000\" fill-rule=\"evenodd\" fill-opacity=\"0.2\"/>\n",
       "<polyline clip-path=\"url(#clip172)\" style=\"stroke:#000000; stroke-linecap:round; stroke-linejoin:round; stroke-width:8; stroke-opacity:1; fill:none\" points=\"\n",
       "  174.33,939.586 228.56,936.06 282.791,924.103 337.021,960.091 391.251,954.94 445.481,938.745 499.711,988.476 553.941,939.985 608.171,951.144 662.402,968.902 \n",
       "  716.632,959.142 770.862,968.735 825.092,961.536 879.322,956.419 933.552,955.679 987.783,973.393 1042.01,937.298 1096.24,972.362 1150.47,964.983 1204.7,963.137 \n",
       "  1258.93,953.634 1313.16,997.469 1367.39,986.87 1421.62,960.586 1475.85,996.887 1530.08,981.389 1584.31,1020.91 1638.54,976.011 1692.77,964.056 1747,955.157 \n",
       "  1801.24,969.014 1855.47,939.407 1909.7,943.921 1963.93,953.066 2018.16,973.381 2072.39,979.018 2126.62,962.141 2180.85,962.259 2235.08,925.159 2289.31,978.378 \n",
       "  \n",
       "  \"/>\n",
       "</svg>\n"
      ]
     },
     "execution_count": 10,
     "metadata": {},
     "output_type": "execute_result"
    }
   ],
   "source": [
    "max_itr = 40\n",
    "AVE = zeros(max_itr)\n",
    "STDV = zeros(max_itr)\n",
    "Trange = zeros(max_itr)\n",
    "\n",
    "for i in 1:max_itr\n",
    "    Trange[i] = 0.5*i\n",
    "    ave, stdv = EM(K_train, 0.5*i)\n",
    "    AVE[i] = ave\n",
    "    STDV[i] = stdv\n",
    "end\n",
    "p2 = plot(Trange, AVE, ribbon=STDV, lw=2, xlabel=\"t\", legend=false,ylims=[0,ub], color=:black, fillalpha=0.2)"
   ]
  },
  {
   "cell_type": "code",
   "execution_count": 11,
   "id": "7d80c3b2-5238-4f93-9948-5a06c68389dd",
   "metadata": {},
   "outputs": [
    {
     "data": {
      "image/svg+xml": [
       "<?xml version=\"1.0\" encoding=\"utf-8\"?>\n",
       "<svg xmlns=\"http://www.w3.org/2000/svg\" xmlns:xlink=\"http://www.w3.org/1999/xlink\" width=\"600\" height=\"400\" viewBox=\"0 0 2400 1600\">\n",
       "<defs>\n",
       "  <clipPath id=\"clip210\">\n",
       "    <rect x=\"0\" y=\"0\" width=\"2400\" height=\"1600\"/>\n",
       "  </clipPath>\n",
       "</defs>\n",
       "<path clip-path=\"url(#clip210)\" d=\"\n",
       "M0 1600 L2400 1600 L2400 0 L0 0  Z\n",
       "  \" fill=\"#ffffff\" fill-rule=\"evenodd\" fill-opacity=\"1\"/>\n",
       "<defs>\n",
       "  <clipPath id=\"clip211\">\n",
       "    <rect x=\"480\" y=\"0\" width=\"1681\" height=\"1600\"/>\n",
       "  </clipPath>\n",
       "</defs>\n",
       "<path clip-path=\"url(#clip210)\" d=\"\n",
       "M110.881 1423.18 L1152.76 1423.18 L1152.76 47.2441 L110.881 47.2441  Z\n",
       "  \" fill=\"#ffffff\" fill-rule=\"evenodd\" fill-opacity=\"1\"/>\n",
       "<defs>\n",
       "  <clipPath id=\"clip212\">\n",
       "    <rect x=\"110\" y=\"47\" width=\"1043\" height=\"1377\"/>\n",
       "  </clipPath>\n",
       "</defs>\n",
       "<polyline clip-path=\"url(#clip212)\" style=\"stroke:#000000; stroke-linecap:round; stroke-linejoin:round; stroke-width:2; stroke-opacity:0.1; fill:none\" points=\"\n",
       "  115.165,1423.18 115.165,47.2441 \n",
       "  \"/>\n",
       "<polyline clip-path=\"url(#clip212)\" style=\"stroke:#000000; stroke-linecap:round; stroke-linejoin:round; stroke-width:2; stroke-opacity:0.1; fill:none\" points=\"\n",
       "  367.191,1423.18 367.191,47.2441 \n",
       "  \"/>\n",
       "<polyline clip-path=\"url(#clip212)\" style=\"stroke:#000000; stroke-linecap:round; stroke-linejoin:round; stroke-width:2; stroke-opacity:0.1; fill:none\" points=\"\n",
       "  619.217,1423.18 619.217,47.2441 \n",
       "  \"/>\n",
       "<polyline clip-path=\"url(#clip212)\" style=\"stroke:#000000; stroke-linecap:round; stroke-linejoin:round; stroke-width:2; stroke-opacity:0.1; fill:none\" points=\"\n",
       "  871.243,1423.18 871.243,47.2441 \n",
       "  \"/>\n",
       "<polyline clip-path=\"url(#clip212)\" style=\"stroke:#000000; stroke-linecap:round; stroke-linejoin:round; stroke-width:2; stroke-opacity:0.1; fill:none\" points=\"\n",
       "  1123.27,1423.18 1123.27,47.2441 \n",
       "  \"/>\n",
       "<polyline clip-path=\"url(#clip210)\" style=\"stroke:#000000; stroke-linecap:round; stroke-linejoin:round; stroke-width:4; stroke-opacity:1; fill:none\" points=\"\n",
       "  110.881,1423.18 1152.76,1423.18 \n",
       "  \"/>\n",
       "<polyline clip-path=\"url(#clip210)\" style=\"stroke:#000000; stroke-linecap:round; stroke-linejoin:round; stroke-width:4; stroke-opacity:1; fill:none\" points=\"\n",
       "  115.165,1423.18 115.165,1404.28 \n",
       "  \"/>\n",
       "<polyline clip-path=\"url(#clip210)\" style=\"stroke:#000000; stroke-linecap:round; stroke-linejoin:round; stroke-width:4; stroke-opacity:1; fill:none\" points=\"\n",
       "  367.191,1423.18 367.191,1404.28 \n",
       "  \"/>\n",
       "<polyline clip-path=\"url(#clip210)\" style=\"stroke:#000000; stroke-linecap:round; stroke-linejoin:round; stroke-width:4; stroke-opacity:1; fill:none\" points=\"\n",
       "  619.217,1423.18 619.217,1404.28 \n",
       "  \"/>\n",
       "<polyline clip-path=\"url(#clip210)\" style=\"stroke:#000000; stroke-linecap:round; stroke-linejoin:round; stroke-width:4; stroke-opacity:1; fill:none\" points=\"\n",
       "  871.243,1423.18 871.243,1404.28 \n",
       "  \"/>\n",
       "<polyline clip-path=\"url(#clip210)\" style=\"stroke:#000000; stroke-linecap:round; stroke-linejoin:round; stroke-width:4; stroke-opacity:1; fill:none\" points=\"\n",
       "  1123.27,1423.18 1123.27,1404.28 \n",
       "  \"/>\n",
       "<path clip-path=\"url(#clip210)\" d=\"M115.165 1454.1 Q111.554 1454.1 109.726 1457.66 Q107.92 1461.2 107.92 1468.33 Q107.92 1475.44 109.726 1479.01 Q111.554 1482.55 115.165 1482.55 Q118.8 1482.55 120.605 1479.01 Q122.434 1475.44 122.434 1468.33 Q122.434 1461.2 120.605 1457.66 Q118.8 1454.1 115.165 1454.1 M115.165 1450.39 Q120.975 1450.39 124.031 1455 Q127.11 1459.58 127.11 1468.33 Q127.11 1477.06 124.031 1481.67 Q120.975 1486.25 115.165 1486.25 Q109.355 1486.25 106.276 1481.67 Q103.221 1477.06 103.221 1468.33 Q103.221 1459.58 106.276 1455 Q109.355 1450.39 115.165 1450.39 Z\" fill=\"#000000\" fill-rule=\"evenodd\" fill-opacity=\"1\" /><path clip-path=\"url(#clip210)\" d=\"M357.469 1451.02 L375.825 1451.02 L375.825 1454.96 L361.751 1454.96 L361.751 1463.43 Q362.77 1463.08 363.788 1462.92 Q364.807 1462.73 365.825 1462.73 Q371.612 1462.73 374.992 1465.9 Q378.372 1469.08 378.372 1474.49 Q378.372 1480.07 374.9 1483.17 Q371.427 1486.25 365.108 1486.25 Q362.932 1486.25 360.663 1485.88 Q358.418 1485.51 356.011 1484.77 L356.011 1480.07 Q358.094 1481.2 360.316 1481.76 Q362.538 1482.32 365.015 1482.32 Q369.02 1482.32 371.358 1480.21 Q373.696 1478.1 373.696 1474.49 Q373.696 1470.88 371.358 1468.77 Q369.02 1466.67 365.015 1466.67 Q363.14 1466.67 361.265 1467.08 Q359.413 1467.5 357.469 1468.38 L357.469 1451.02 Z\" fill=\"#000000\" fill-rule=\"evenodd\" fill-opacity=\"1\" /><path clip-path=\"url(#clip210)\" d=\"M593.905 1481.64 L601.544 1481.64 L601.544 1455.28 L593.233 1456.95 L593.233 1452.69 L601.497 1451.02 L606.173 1451.02 L606.173 1481.64 L613.812 1481.64 L613.812 1485.58 L593.905 1485.58 L593.905 1481.64 Z\" fill=\"#000000\" fill-rule=\"evenodd\" fill-opacity=\"1\" /><path clip-path=\"url(#clip210)\" d=\"M633.256 1454.1 Q629.645 1454.1 627.817 1457.66 Q626.011 1461.2 626.011 1468.33 Q626.011 1475.44 627.817 1479.01 Q629.645 1482.55 633.256 1482.55 Q636.891 1482.55 638.696 1479.01 Q640.525 1475.44 640.525 1468.33 Q640.525 1461.2 638.696 1457.66 Q636.891 1454.1 633.256 1454.1 M633.256 1450.39 Q639.067 1450.39 642.122 1455 Q645.201 1459.58 645.201 1468.33 Q645.201 1477.06 642.122 1481.67 Q639.067 1486.25 633.256 1486.25 Q627.446 1486.25 624.368 1481.67 Q621.312 1477.06 621.312 1468.33 Q621.312 1459.58 624.368 1455 Q627.446 1450.39 633.256 1450.39 Z\" fill=\"#000000\" fill-rule=\"evenodd\" fill-opacity=\"1\" /><path clip-path=\"url(#clip210)\" d=\"M846.428 1481.64 L854.067 1481.64 L854.067 1455.28 L845.757 1456.95 L845.757 1452.69 L854.021 1451.02 L858.697 1451.02 L858.697 1481.64 L866.336 1481.64 L866.336 1485.58 L846.428 1485.58 L846.428 1481.64 Z\" fill=\"#000000\" fill-rule=\"evenodd\" fill-opacity=\"1\" /><path clip-path=\"url(#clip210)\" d=\"M875.826 1451.02 L894.183 1451.02 L894.183 1454.96 L880.109 1454.96 L880.109 1463.43 Q881.127 1463.08 882.146 1462.92 Q883.164 1462.73 884.183 1462.73 Q889.97 1462.73 893.349 1465.9 Q896.729 1469.08 896.729 1474.49 Q896.729 1480.07 893.257 1483.17 Q889.785 1486.25 883.465 1486.25 Q881.289 1486.25 879.021 1485.88 Q876.775 1485.51 874.368 1484.77 L874.368 1480.07 Q876.451 1481.2 878.674 1481.76 Q880.896 1482.32 883.373 1482.32 Q887.377 1482.32 889.715 1480.21 Q892.053 1478.1 892.053 1474.49 Q892.053 1470.88 889.715 1468.77 Q887.377 1466.67 883.373 1466.67 Q881.498 1466.67 879.623 1467.08 Q877.771 1467.5 875.826 1468.38 L875.826 1451.02 Z\" fill=\"#000000\" fill-rule=\"evenodd\" fill-opacity=\"1\" /><path clip-path=\"url(#clip210)\" d=\"M1102.04 1481.64 L1118.36 1481.64 L1118.36 1485.58 L1096.42 1485.58 L1096.42 1481.64 Q1099.08 1478.89 1103.66 1474.26 Q1108.27 1469.61 1109.45 1468.27 Q1111.69 1465.74 1112.57 1464.01 Q1113.48 1462.25 1113.48 1460.56 Q1113.48 1457.8 1111.53 1456.07 Q1109.61 1454.33 1106.51 1454.33 Q1104.31 1454.33 1101.86 1455.09 Q1099.43 1455.86 1096.65 1457.41 L1096.65 1452.69 Q1099.47 1451.55 1101.93 1450.97 Q1104.38 1450.39 1106.42 1450.39 Q1111.79 1450.39 1114.98 1453.08 Q1118.18 1455.77 1118.18 1460.26 Q1118.18 1462.39 1117.37 1464.31 Q1116.58 1466.2 1114.47 1468.8 Q1113.89 1469.47 1110.79 1472.69 Q1107.69 1475.88 1102.04 1481.64 Z\" fill=\"#000000\" fill-rule=\"evenodd\" fill-opacity=\"1\" /><path clip-path=\"url(#clip210)\" d=\"M1138.18 1454.1 Q1134.57 1454.1 1132.74 1457.66 Q1130.93 1461.2 1130.93 1468.33 Q1130.93 1475.44 1132.74 1479.01 Q1134.57 1482.55 1138.18 1482.55 Q1141.81 1482.55 1143.62 1479.01 Q1145.44 1475.44 1145.44 1468.33 Q1145.44 1461.2 1143.62 1457.66 Q1141.81 1454.1 1138.18 1454.1 M1138.18 1450.39 Q1143.99 1450.39 1147.04 1455 Q1150.12 1459.58 1150.12 1468.33 Q1150.12 1477.06 1147.04 1481.67 Q1143.99 1486.25 1138.18 1486.25 Q1132.37 1486.25 1129.29 1481.67 Q1126.23 1477.06 1126.23 1468.33 Q1126.23 1459.58 1129.29 1455 Q1132.37 1450.39 1138.18 1450.39 Z\" fill=\"#000000\" fill-rule=\"evenodd\" fill-opacity=\"1\" /><path clip-path=\"url(#clip210)\" d=\"M630.879 1522.27 L630.879 1532.4 L642.942 1532.4 L642.942 1536.95 L630.879 1536.95 L630.879 1556.3 Q630.879 1560.66 632.057 1561.9 Q633.267 1563.14 636.927 1563.14 L642.942 1563.14 L642.942 1568.04 L636.927 1568.04 Q630.147 1568.04 627.569 1565.53 Q624.991 1562.98 624.991 1556.3 L624.991 1536.95 L620.694 1536.95 L620.694 1532.4 L624.991 1532.4 L624.991 1522.27 L630.879 1522.27 Z\" fill=\"#000000\" fill-rule=\"evenodd\" fill-opacity=\"1\" /><polyline clip-path=\"url(#clip212)\" style=\"stroke:#000000; stroke-linecap:round; stroke-linejoin:round; stroke-width:2; stroke-opacity:0.1; fill:none\" points=\"\n",
       "  110.881,1423.18 1152.76,1423.18 \n",
       "  \"/>\n",
       "<polyline clip-path=\"url(#clip212)\" style=\"stroke:#000000; stroke-linecap:round; stroke-linejoin:round; stroke-width:2; stroke-opacity:0.1; fill:none\" points=\"\n",
       "  110.881,964.535 1152.76,964.535 \n",
       "  \"/>\n",
       "<polyline clip-path=\"url(#clip212)\" style=\"stroke:#000000; stroke-linecap:round; stroke-linejoin:round; stroke-width:2; stroke-opacity:0.1; fill:none\" points=\"\n",
       "  110.881,505.889 1152.76,505.889 \n",
       "  \"/>\n",
       "<polyline clip-path=\"url(#clip212)\" style=\"stroke:#000000; stroke-linecap:round; stroke-linejoin:round; stroke-width:2; stroke-opacity:0.1; fill:none\" points=\"\n",
       "  110.881,47.2441 1152.76,47.2441 \n",
       "  \"/>\n",
       "<polyline clip-path=\"url(#clip210)\" style=\"stroke:#000000; stroke-linecap:round; stroke-linejoin:round; stroke-width:4; stroke-opacity:1; fill:none\" points=\"\n",
       "  110.881,1423.18 110.881,47.2441 \n",
       "  \"/>\n",
       "<polyline clip-path=\"url(#clip210)\" style=\"stroke:#000000; stroke-linecap:round; stroke-linejoin:round; stroke-width:4; stroke-opacity:1; fill:none\" points=\"\n",
       "  110.881,1423.18 129.779,1423.18 \n",
       "  \"/>\n",
       "<polyline clip-path=\"url(#clip210)\" style=\"stroke:#000000; stroke-linecap:round; stroke-linejoin:round; stroke-width:4; stroke-opacity:1; fill:none\" points=\"\n",
       "  110.881,964.535 129.779,964.535 \n",
       "  \"/>\n",
       "<polyline clip-path=\"url(#clip210)\" style=\"stroke:#000000; stroke-linecap:round; stroke-linejoin:round; stroke-width:4; stroke-opacity:1; fill:none\" points=\"\n",
       "  110.881,505.889 129.779,505.889 \n",
       "  \"/>\n",
       "<polyline clip-path=\"url(#clip210)\" style=\"stroke:#000000; stroke-linecap:round; stroke-linejoin:round; stroke-width:4; stroke-opacity:1; fill:none\" points=\"\n",
       "  110.881,47.2441 129.779,47.2441 \n",
       "  \"/>\n",
       "<path clip-path=\"url(#clip210)\" d=\"M62.9365 1408.98 Q59.3254 1408.98 57.4967 1412.54 Q55.6912 1416.08 55.6912 1423.21 Q55.6912 1430.32 57.4967 1433.89 Q59.3254 1437.43 62.9365 1437.43 Q66.5707 1437.43 68.3763 1433.89 Q70.205 1430.32 70.205 1423.21 Q70.205 1416.08 68.3763 1412.54 Q66.5707 1408.98 62.9365 1408.98 M62.9365 1405.27 Q68.7467 1405.27 71.8022 1409.88 Q74.8809 1414.46 74.8809 1423.21 Q74.8809 1431.94 71.8022 1436.55 Q68.7467 1441.13 62.9365 1441.13 Q57.1264 1441.13 54.0477 1436.55 Q50.9921 1431.94 50.9921 1423.21 Q50.9921 1414.46 54.0477 1409.88 Q57.1264 1405.27 62.9365 1405.27 Z\" fill=\"#000000\" fill-rule=\"evenodd\" fill-opacity=\"1\" /><path clip-path=\"url(#clip210)\" d=\"M54.9736 977.879 L62.6124 977.879 L62.6124 951.514 L54.3023 953.18 L54.3023 948.921 L62.5661 947.255 L67.242 947.255 L67.242 977.879 L74.8809 977.879 L74.8809 981.815 L54.9736 981.815 L54.9736 977.879 Z\" fill=\"#000000\" fill-rule=\"evenodd\" fill-opacity=\"1\" /><path clip-path=\"url(#clip210)\" d=\"M58.5615 519.234 L74.8809 519.234 L74.8809 523.169 L52.9366 523.169 L52.9366 519.234 Q55.5986 516.48 60.1819 511.85 Q64.7883 507.197 65.9689 505.855 Q68.2143 503.331 69.0939 501.595 Q69.9967 499.836 69.9967 498.146 Q69.9967 495.392 68.0522 493.656 Q66.1309 491.92 63.0291 491.92 Q60.83 491.92 58.3763 492.683 Q55.9458 493.447 53.168 494.998 L53.168 490.276 Q55.9921 489.142 58.4458 488.563 Q60.8995 487.984 62.9365 487.984 Q68.3068 487.984 71.5013 490.67 Q74.6957 493.355 74.6957 497.845 Q74.6957 499.975 73.8855 501.896 Q73.0985 503.794 70.992 506.387 Q70.4133 507.058 67.3115 510.276 Q64.2096 513.47 58.5615 519.234 Z\" fill=\"#000000\" fill-rule=\"evenodd\" fill-opacity=\"1\" /><path clip-path=\"url(#clip210)\" d=\"M67.7513 45.8899 Q71.1078 46.6075 72.9827 48.876 Q74.8809 51.1445 74.8809 54.4779 Q74.8809 59.5936 71.3624 62.3945 Q67.8439 65.1954 61.3624 65.1954 Q59.1865 65.1954 56.8717 64.7556 Q54.5801 64.3389 52.1264 63.4824 L52.1264 58.9686 Q54.0708 60.1028 56.3856 60.6815 Q58.7004 61.2602 61.2236 61.2602 Q65.6217 61.2602 67.9133 59.5241 Q70.2281 57.788 70.2281 54.4779 Q70.2281 51.4223 68.0754 49.7094 Q65.9457 47.9733 62.1263 47.9733 L58.0986 47.9733 L58.0986 44.1307 L62.3115 44.1307 Q65.7606 44.1307 67.5893 42.765 Q69.418 41.3761 69.418 38.7835 Q69.418 36.1215 67.5198 34.7094 Q65.6448 33.2743 62.1263 33.2743 Q60.205 33.2743 58.006 33.6909 Q55.8069 34.1076 53.168 34.9872 L53.168 30.8206 Q55.8301 30.0798 58.1449 29.7095 Q60.4828 29.3391 62.543 29.3391 Q67.867 29.3391 70.9689 31.7696 Q74.0707 34.177 74.0707 38.2974 Q74.0707 41.1677 72.4272 43.1585 Q70.7837 45.1261 67.7513 45.8899 Z\" fill=\"#000000\" fill-rule=\"evenodd\" fill-opacity=\"1\" /><path clip-path=\"url(#clip212)\" d=\"\n",
       "M140.368 771.774 L165.571 972.626 L190.773 773.696 L215.976 817.677 L241.178 915.847 L266.381 927.492 L291.583 998.142 L316.786 971.293 L341.989 1030.06 L367.191 1049.84 \n",
       "  L392.394 986.196 L417.596 1008.82 L442.799 1038.06 L468.002 1013.57 L493.204 1015.9 L518.407 993.992 L543.609 1037.36 L568.812 1015.67 L594.015 1045.97 L619.217 993.764 \n",
       "  L644.42 1002.69 L669.622 1039.21 L694.825 952.15 L720.027 1029.72 L745.23 1077.94 L770.433 974.828 L795.635 1048.48 L820.838 1053.28 L846.04 1016.69 L871.243 1032.07 \n",
       "  L896.446 1048.12 L921.648 1030.49 L946.851 1010.78 L972.053 1056.62 L997.256 1005.78 L1022.46 982.993 L1047.66 1023.35 L1072.86 997.879 L1098.07 966.911 L1123.27 1023.37 \n",
       "  L1123.27 266.342 L1098.07 324.191 L1072.86 327.044 L1047.66 201.94 L1022.46 247.514 L997.256 391.303 L972.053 381.287 L946.851 164.251 L921.648 350.662 L896.446 336.067 \n",
       "  L871.243 253.121 L846.04 276.236 L820.838 312.486 L795.635 400.675 L770.433 230.861 L745.23 286.802 L720.027 316.765 L694.825 288.252 L669.622 293.406 L644.42 395.518 \n",
       "  L619.217 264.307 L594.015 318.494 L568.812 389.745 L543.609 324.261 L518.407 357.999 L493.204 291.23 L468.002 336.709 L442.799 249.99 L417.596 339.36 L392.394 317.425 \n",
       "  L367.191 433.261 L341.989 229.557 L316.786 283.837 L291.583 350.506 L266.381 376.59 L241.178 132.658 L215.976 -30.7276 L190.773 194.364 L165.571 573.7 L140.368 528.344 \n",
       "   Z\n",
       "  \" fill=\"#000000\" fill-rule=\"evenodd\" fill-opacity=\"0.2\"/>\n",
       "<polyline clip-path=\"url(#clip212)\" style=\"stroke:#000000; stroke-linecap:round; stroke-linejoin:round; stroke-width:8; stroke-opacity:1; fill:none\" points=\"\n",
       "  140.368,650.059 165.571,773.163 190.773,484.03 215.976,393.475 241.178,524.252 266.381,652.041 291.583,674.324 316.786,627.565 341.989,629.81 367.191,741.551 \n",
       "  392.394,651.811 417.596,674.089 442.799,644.026 468.002,675.138 493.204,653.565 518.407,675.995 543.609,680.811 568.812,702.706 594.015,682.232 619.217,629.036 \n",
       "  644.42,699.104 669.622,666.309 694.825,620.201 720.027,673.241 745.23,682.372 770.433,602.845 795.635,724.577 820.838,682.882 846.04,646.465 871.243,642.595 \n",
       "  896.446,692.095 921.648,690.577 946.851,587.518 972.053,718.955 997.256,698.54 1022.46,615.253 1047.66,612.647 1072.86,662.461 1098.07,645.551 1123.27,644.855 \n",
       "  \n",
       "  \"/>\n",
       "<path clip-path=\"url(#clip210)\" d=\"\n",
       "M1310.88 1423.18 L2352.76 1423.18 L2352.76 47.2441 L1310.88 47.2441  Z\n",
       "  \" fill=\"#ffffff\" fill-rule=\"evenodd\" fill-opacity=\"1\"/>\n",
       "<defs>\n",
       "  <clipPath id=\"clip213\">\n",
       "    <rect x=\"1310\" y=\"47\" width=\"1043\" height=\"1377\"/>\n",
       "  </clipPath>\n",
       "</defs>\n",
       "<polyline clip-path=\"url(#clip213)\" style=\"stroke:#000000; stroke-linecap:round; stroke-linejoin:round; stroke-width:2; stroke-opacity:0.1; fill:none\" points=\"\n",
       "  1315.17,1423.18 1315.17,47.2441 \n",
       "  \"/>\n",
       "<polyline clip-path=\"url(#clip213)\" style=\"stroke:#000000; stroke-linecap:round; stroke-linejoin:round; stroke-width:2; stroke-opacity:0.1; fill:none\" points=\"\n",
       "  1567.19,1423.18 1567.19,47.2441 \n",
       "  \"/>\n",
       "<polyline clip-path=\"url(#clip213)\" style=\"stroke:#000000; stroke-linecap:round; stroke-linejoin:round; stroke-width:2; stroke-opacity:0.1; fill:none\" points=\"\n",
       "  1819.22,1423.18 1819.22,47.2441 \n",
       "  \"/>\n",
       "<polyline clip-path=\"url(#clip213)\" style=\"stroke:#000000; stroke-linecap:round; stroke-linejoin:round; stroke-width:2; stroke-opacity:0.1; fill:none\" points=\"\n",
       "  2071.24,1423.18 2071.24,47.2441 \n",
       "  \"/>\n",
       "<polyline clip-path=\"url(#clip213)\" style=\"stroke:#000000; stroke-linecap:round; stroke-linejoin:round; stroke-width:2; stroke-opacity:0.1; fill:none\" points=\"\n",
       "  2323.27,1423.18 2323.27,47.2441 \n",
       "  \"/>\n",
       "<polyline clip-path=\"url(#clip210)\" style=\"stroke:#000000; stroke-linecap:round; stroke-linejoin:round; stroke-width:4; stroke-opacity:1; fill:none\" points=\"\n",
       "  1310.88,1423.18 2352.76,1423.18 \n",
       "  \"/>\n",
       "<polyline clip-path=\"url(#clip210)\" style=\"stroke:#000000; stroke-linecap:round; stroke-linejoin:round; stroke-width:4; stroke-opacity:1; fill:none\" points=\"\n",
       "  1315.17,1423.18 1315.17,1404.28 \n",
       "  \"/>\n",
       "<polyline clip-path=\"url(#clip210)\" style=\"stroke:#000000; stroke-linecap:round; stroke-linejoin:round; stroke-width:4; stroke-opacity:1; fill:none\" points=\"\n",
       "  1567.19,1423.18 1567.19,1404.28 \n",
       "  \"/>\n",
       "<polyline clip-path=\"url(#clip210)\" style=\"stroke:#000000; stroke-linecap:round; stroke-linejoin:round; stroke-width:4; stroke-opacity:1; fill:none\" points=\"\n",
       "  1819.22,1423.18 1819.22,1404.28 \n",
       "  \"/>\n",
       "<polyline clip-path=\"url(#clip210)\" style=\"stroke:#000000; stroke-linecap:round; stroke-linejoin:round; stroke-width:4; stroke-opacity:1; fill:none\" points=\"\n",
       "  2071.24,1423.18 2071.24,1404.28 \n",
       "  \"/>\n",
       "<polyline clip-path=\"url(#clip210)\" style=\"stroke:#000000; stroke-linecap:round; stroke-linejoin:round; stroke-width:4; stroke-opacity:1; fill:none\" points=\"\n",
       "  2323.27,1423.18 2323.27,1404.28 \n",
       "  \"/>\n",
       "<path clip-path=\"url(#clip210)\" d=\"M1315.17 1454.1 Q1311.55 1454.1 1309.73 1457.66 Q1307.92 1461.2 1307.92 1468.33 Q1307.92 1475.44 1309.73 1479.01 Q1311.55 1482.55 1315.17 1482.55 Q1318.8 1482.55 1320.61 1479.01 Q1322.43 1475.44 1322.43 1468.33 Q1322.43 1461.2 1320.61 1457.66 Q1318.8 1454.1 1315.17 1454.1 M1315.17 1450.39 Q1320.98 1450.39 1324.03 1455 Q1327.11 1459.58 1327.11 1468.33 Q1327.11 1477.06 1324.03 1481.67 Q1320.98 1486.25 1315.17 1486.25 Q1309.36 1486.25 1306.28 1481.67 Q1303.22 1477.06 1303.22 1468.33 Q1303.22 1459.58 1306.28 1455 Q1309.36 1450.39 1315.17 1450.39 Z\" fill=\"#000000\" fill-rule=\"evenodd\" fill-opacity=\"1\" /><path clip-path=\"url(#clip210)\" d=\"M1557.47 1451.02 L1575.83 1451.02 L1575.83 1454.96 L1561.75 1454.96 L1561.75 1463.43 Q1562.77 1463.08 1563.79 1462.92 Q1564.81 1462.73 1565.83 1462.73 Q1571.61 1462.73 1574.99 1465.9 Q1578.37 1469.08 1578.37 1474.49 Q1578.37 1480.07 1574.9 1483.17 Q1571.43 1486.25 1565.11 1486.25 Q1562.93 1486.25 1560.66 1485.88 Q1558.42 1485.51 1556.01 1484.77 L1556.01 1480.07 Q1558.09 1481.2 1560.32 1481.76 Q1562.54 1482.32 1565.02 1482.32 Q1569.02 1482.32 1571.36 1480.21 Q1573.7 1478.1 1573.7 1474.49 Q1573.7 1470.88 1571.36 1468.77 Q1569.02 1466.67 1565.02 1466.67 Q1563.14 1466.67 1561.27 1467.08 Q1559.41 1467.5 1557.47 1468.38 L1557.47 1451.02 Z\" fill=\"#000000\" fill-rule=\"evenodd\" fill-opacity=\"1\" /><path clip-path=\"url(#clip210)\" d=\"M1793.9 1481.64 L1801.54 1481.64 L1801.54 1455.28 L1793.23 1456.95 L1793.23 1452.69 L1801.5 1451.02 L1806.17 1451.02 L1806.17 1481.64 L1813.81 1481.64 L1813.81 1485.58 L1793.9 1485.58 L1793.9 1481.64 Z\" fill=\"#000000\" fill-rule=\"evenodd\" fill-opacity=\"1\" /><path clip-path=\"url(#clip210)\" d=\"M1833.26 1454.1 Q1829.65 1454.1 1827.82 1457.66 Q1826.01 1461.2 1826.01 1468.33 Q1826.01 1475.44 1827.82 1479.01 Q1829.65 1482.55 1833.26 1482.55 Q1836.89 1482.55 1838.7 1479.01 Q1840.52 1475.44 1840.52 1468.33 Q1840.52 1461.2 1838.7 1457.66 Q1836.89 1454.1 1833.26 1454.1 M1833.26 1450.39 Q1839.07 1450.39 1842.12 1455 Q1845.2 1459.58 1845.2 1468.33 Q1845.2 1477.06 1842.12 1481.67 Q1839.07 1486.25 1833.26 1486.25 Q1827.45 1486.25 1824.37 1481.67 Q1821.31 1477.06 1821.31 1468.33 Q1821.31 1459.58 1824.37 1455 Q1827.45 1450.39 1833.26 1450.39 Z\" fill=\"#000000\" fill-rule=\"evenodd\" fill-opacity=\"1\" /><path clip-path=\"url(#clip210)\" d=\"M2046.43 1481.64 L2054.07 1481.64 L2054.07 1455.28 L2045.76 1456.95 L2045.76 1452.69 L2054.02 1451.02 L2058.7 1451.02 L2058.7 1481.64 L2066.34 1481.64 L2066.34 1485.58 L2046.43 1485.58 L2046.43 1481.64 Z\" fill=\"#000000\" fill-rule=\"evenodd\" fill-opacity=\"1\" /><path clip-path=\"url(#clip210)\" d=\"M2075.83 1451.02 L2094.18 1451.02 L2094.18 1454.96 L2080.11 1454.96 L2080.11 1463.43 Q2081.13 1463.08 2082.15 1462.92 Q2083.16 1462.73 2084.18 1462.73 Q2089.97 1462.73 2093.35 1465.9 Q2096.73 1469.08 2096.73 1474.49 Q2096.73 1480.07 2093.26 1483.17 Q2089.78 1486.25 2083.47 1486.25 Q2081.29 1486.25 2079.02 1485.88 Q2076.78 1485.51 2074.37 1484.77 L2074.37 1480.07 Q2076.45 1481.2 2078.67 1481.76 Q2080.9 1482.32 2083.37 1482.32 Q2087.38 1482.32 2089.72 1480.21 Q2092.05 1478.1 2092.05 1474.49 Q2092.05 1470.88 2089.72 1468.77 Q2087.38 1466.67 2083.37 1466.67 Q2081.5 1466.67 2079.62 1467.08 Q2077.77 1467.5 2075.83 1468.38 L2075.83 1451.02 Z\" fill=\"#000000\" fill-rule=\"evenodd\" fill-opacity=\"1\" /><path clip-path=\"url(#clip210)\" d=\"M2302.04 1481.64 L2318.36 1481.64 L2318.36 1485.58 L2296.42 1485.58 L2296.42 1481.64 Q2299.08 1478.89 2303.66 1474.26 Q2308.27 1469.61 2309.45 1468.27 Q2311.69 1465.74 2312.57 1464.01 Q2313.48 1462.25 2313.48 1460.56 Q2313.48 1457.8 2311.53 1456.07 Q2309.61 1454.33 2306.51 1454.33 Q2304.31 1454.33 2301.86 1455.09 Q2299.43 1455.86 2296.65 1457.41 L2296.65 1452.69 Q2299.47 1451.55 2301.93 1450.97 Q2304.38 1450.39 2306.42 1450.39 Q2311.79 1450.39 2314.98 1453.08 Q2318.18 1455.77 2318.18 1460.26 Q2318.18 1462.39 2317.37 1464.31 Q2316.58 1466.2 2314.47 1468.8 Q2313.89 1469.47 2310.79 1472.69 Q2307.69 1475.88 2302.04 1481.64 Z\" fill=\"#000000\" fill-rule=\"evenodd\" fill-opacity=\"1\" /><path clip-path=\"url(#clip210)\" d=\"M2338.18 1454.1 Q2334.57 1454.1 2332.74 1457.66 Q2330.93 1461.2 2330.93 1468.33 Q2330.93 1475.44 2332.74 1479.01 Q2334.57 1482.55 2338.18 1482.55 Q2341.81 1482.55 2343.62 1479.01 Q2345.44 1475.44 2345.44 1468.33 Q2345.44 1461.2 2343.62 1457.66 Q2341.81 1454.1 2338.18 1454.1 M2338.18 1450.39 Q2343.99 1450.39 2347.04 1455 Q2350.12 1459.58 2350.12 1468.33 Q2350.12 1477.06 2347.04 1481.67 Q2343.99 1486.25 2338.18 1486.25 Q2332.37 1486.25 2329.29 1481.67 Q2326.23 1477.06 2326.23 1468.33 Q2326.23 1459.58 2329.29 1455 Q2332.37 1450.39 2338.18 1450.39 Z\" fill=\"#000000\" fill-rule=\"evenodd\" fill-opacity=\"1\" /><path clip-path=\"url(#clip210)\" d=\"M1830.88 1522.27 L1830.88 1532.4 L1842.94 1532.4 L1842.94 1536.95 L1830.88 1536.95 L1830.88 1556.3 Q1830.88 1560.66 1832.06 1561.9 Q1833.27 1563.14 1836.93 1563.14 L1842.94 1563.14 L1842.94 1568.04 L1836.93 1568.04 Q1830.15 1568.04 1827.57 1565.53 Q1824.99 1562.98 1824.99 1556.3 L1824.99 1536.95 L1820.69 1536.95 L1820.69 1532.4 L1824.99 1532.4 L1824.99 1522.27 L1830.88 1522.27 Z\" fill=\"#000000\" fill-rule=\"evenodd\" fill-opacity=\"1\" /><polyline clip-path=\"url(#clip213)\" style=\"stroke:#000000; stroke-linecap:round; stroke-linejoin:round; stroke-width:2; stroke-opacity:0.1; fill:none\" points=\"\n",
       "  1310.88,1423.18 2352.76,1423.18 \n",
       "  \"/>\n",
       "<polyline clip-path=\"url(#clip213)\" style=\"stroke:#000000; stroke-linecap:round; stroke-linejoin:round; stroke-width:2; stroke-opacity:0.1; fill:none\" points=\"\n",
       "  1310.88,964.535 2352.76,964.535 \n",
       "  \"/>\n",
       "<polyline clip-path=\"url(#clip213)\" style=\"stroke:#000000; stroke-linecap:round; stroke-linejoin:round; stroke-width:2; stroke-opacity:0.1; fill:none\" points=\"\n",
       "  1310.88,505.889 2352.76,505.889 \n",
       "  \"/>\n",
       "<polyline clip-path=\"url(#clip213)\" style=\"stroke:#000000; stroke-linecap:round; stroke-linejoin:round; stroke-width:2; stroke-opacity:0.1; fill:none\" points=\"\n",
       "  1310.88,47.2441 2352.76,47.2441 \n",
       "  \"/>\n",
       "<polyline clip-path=\"url(#clip210)\" style=\"stroke:#000000; stroke-linecap:round; stroke-linejoin:round; stroke-width:4; stroke-opacity:1; fill:none\" points=\"\n",
       "  1310.88,1423.18 1310.88,47.2441 \n",
       "  \"/>\n",
       "<polyline clip-path=\"url(#clip210)\" style=\"stroke:#000000; stroke-linecap:round; stroke-linejoin:round; stroke-width:4; stroke-opacity:1; fill:none\" points=\"\n",
       "  1310.88,1423.18 1329.78,1423.18 \n",
       "  \"/>\n",
       "<polyline clip-path=\"url(#clip210)\" style=\"stroke:#000000; stroke-linecap:round; stroke-linejoin:round; stroke-width:4; stroke-opacity:1; fill:none\" points=\"\n",
       "  1310.88,964.535 1329.78,964.535 \n",
       "  \"/>\n",
       "<polyline clip-path=\"url(#clip210)\" style=\"stroke:#000000; stroke-linecap:round; stroke-linejoin:round; stroke-width:4; stroke-opacity:1; fill:none\" points=\"\n",
       "  1310.88,505.889 1329.78,505.889 \n",
       "  \"/>\n",
       "<polyline clip-path=\"url(#clip210)\" style=\"stroke:#000000; stroke-linecap:round; stroke-linejoin:round; stroke-width:4; stroke-opacity:1; fill:none\" points=\"\n",
       "  1310.88,47.2441 1329.78,47.2441 \n",
       "  \"/>\n",
       "<path clip-path=\"url(#clip210)\" d=\"M1262.94 1408.98 Q1259.33 1408.98 1257.5 1412.54 Q1255.69 1416.08 1255.69 1423.21 Q1255.69 1430.32 1257.5 1433.89 Q1259.33 1437.43 1262.94 1437.43 Q1266.57 1437.43 1268.38 1433.89 Q1270.2 1430.32 1270.2 1423.21 Q1270.2 1416.08 1268.38 1412.54 Q1266.57 1408.98 1262.94 1408.98 M1262.94 1405.27 Q1268.75 1405.27 1271.8 1409.88 Q1274.88 1414.46 1274.88 1423.21 Q1274.88 1431.94 1271.8 1436.55 Q1268.75 1441.13 1262.94 1441.13 Q1257.13 1441.13 1254.05 1436.55 Q1250.99 1431.94 1250.99 1423.21 Q1250.99 1414.46 1254.05 1409.88 Q1257.13 1405.27 1262.94 1405.27 Z\" fill=\"#000000\" fill-rule=\"evenodd\" fill-opacity=\"1\" /><path clip-path=\"url(#clip210)\" d=\"M1254.97 977.879 L1262.61 977.879 L1262.61 951.514 L1254.3 953.18 L1254.3 948.921 L1262.57 947.255 L1267.24 947.255 L1267.24 977.879 L1274.88 977.879 L1274.88 981.815 L1254.97 981.815 L1254.97 977.879 Z\" fill=\"#000000\" fill-rule=\"evenodd\" fill-opacity=\"1\" /><path clip-path=\"url(#clip210)\" d=\"M1258.56 519.234 L1274.88 519.234 L1274.88 523.169 L1252.94 523.169 L1252.94 519.234 Q1255.6 516.48 1260.18 511.85 Q1264.79 507.197 1265.97 505.855 Q1268.21 503.331 1269.09 501.595 Q1270 499.836 1270 498.146 Q1270 495.392 1268.05 493.656 Q1266.13 491.92 1263.03 491.92 Q1260.83 491.92 1258.38 492.683 Q1255.95 493.447 1253.17 494.998 L1253.17 490.276 Q1255.99 489.142 1258.45 488.563 Q1260.9 487.984 1262.94 487.984 Q1268.31 487.984 1271.5 490.67 Q1274.7 493.355 1274.7 497.845 Q1274.7 499.975 1273.89 501.896 Q1273.1 503.794 1270.99 506.387 Q1270.41 507.058 1267.31 510.276 Q1264.21 513.47 1258.56 519.234 Z\" fill=\"#000000\" fill-rule=\"evenodd\" fill-opacity=\"1\" /><path clip-path=\"url(#clip210)\" d=\"M1267.75 45.8899 Q1271.11 46.6075 1272.98 48.876 Q1274.88 51.1445 1274.88 54.4779 Q1274.88 59.5936 1271.36 62.3945 Q1267.84 65.1954 1261.36 65.1954 Q1259.19 65.1954 1256.87 64.7556 Q1254.58 64.3389 1252.13 63.4824 L1252.13 58.9686 Q1254.07 60.1028 1256.39 60.6815 Q1258.7 61.2602 1261.22 61.2602 Q1265.62 61.2602 1267.91 59.5241 Q1270.23 57.788 1270.23 54.4779 Q1270.23 51.4223 1268.08 49.7094 Q1265.95 47.9733 1262.13 47.9733 L1258.1 47.9733 L1258.1 44.1307 L1262.31 44.1307 Q1265.76 44.1307 1267.59 42.765 Q1269.42 41.3761 1269.42 38.7835 Q1269.42 36.1215 1267.52 34.7094 Q1265.64 33.2743 1262.13 33.2743 Q1260.21 33.2743 1258.01 33.6909 Q1255.81 34.1076 1253.17 34.9872 L1253.17 30.8206 Q1255.83 30.0798 1258.14 29.7095 Q1260.48 29.3391 1262.54 29.3391 Q1267.87 29.3391 1270.97 31.7696 Q1274.07 34.177 1274.07 38.2974 Q1274.07 41.1677 1272.43 43.1585 Q1270.78 45.1261 1267.75 45.8899 Z\" fill=\"#000000\" fill-rule=\"evenodd\" fill-opacity=\"1\" /><path clip-path=\"url(#clip213)\" d=\"\n",
       "M1340.37 1085.67 L1365.57 1133.71 L1390.77 1141.76 L1415.98 1177.59 L1441.18 1152.18 L1466.38 1153.08 L1491.58 1186.11 L1516.79 1158.65 L1541.99 1160.1 L1567.19 1172.54 \n",
       "  L1592.39 1183.34 L1617.6 1184.22 L1642.8 1165.04 L1668 1160.03 L1693.2 1166.21 L1718.41 1167.88 L1743.61 1164.15 L1768.81 1183.21 L1794.01 1160.85 L1819.22 1189.41 \n",
       "  L1844.42 1155.76 L1869.62 1205.69 L1894.82 1227.39 L1920.03 1170.48 L1945.23 1182.39 L1970.43 1182.16 L1995.64 1208.31 L2020.84 1176.87 L2046.04 1190.74 L2071.24 1174.56 \n",
       "  L2096.45 1172.2 L2121.65 1166.06 L2146.85 1166.34 L2172.05 1181.72 L2197.26 1140.47 L2222.46 1184.67 L2247.66 1160.78 L2272.86 1177.96 L2298.07 1130.16 L2323.27 1194.11 \n",
       "  L2323.27 762.648 L2298.07 720.154 L2272.86 746.56 L2247.66 763.5 L2222.46 773.363 L2197.26 806.287 L2172.05 724.413 L2146.85 721.502 L2121.65 712.756 L2096.45 765.833 \n",
       "  L2071.24 735.751 L2046.04 737.373 L2020.84 775.149 L1995.64 833.514 L1970.43 780.623 L1945.23 811.388 L1920.03 750.696 L1894.82 746.349 L1869.62 789.252 L1844.42 751.509 \n",
       "  L1819.22 736.87 L1794.01 769.114 L1768.81 761.509 L1743.61 710.444 L1718.41 778.909 L1693.2 745.147 L1668 752.811 L1642.8 758.028 L1617.6 753.253 L1592.39 734.944 \n",
       "  L1567.19 765.262 L1541.99 742.188 L1516.79 721.319 L1491.58 790.842 L1466.38 724.411 L1441.18 757.699 L1415.98 742.592 L1390.77 706.442 L1365.57 738.408 L1340.37 793.502 \n",
       "   Z\n",
       "  \" fill=\"#000000\" fill-rule=\"evenodd\" fill-opacity=\"0.2\"/>\n",
       "<polyline clip-path=\"url(#clip213)\" style=\"stroke:#000000; stroke-linecap:round; stroke-linejoin:round; stroke-width:8; stroke-opacity:1; fill:none\" points=\"\n",
       "  1340.37,939.586 1365.57,936.06 1390.77,924.103 1415.98,960.091 1441.18,954.94 1466.38,938.745 1491.58,988.476 1516.79,939.985 1541.99,951.144 1567.19,968.902 \n",
       "  1592.39,959.142 1617.6,968.735 1642.8,961.536 1668,956.419 1693.2,955.679 1718.41,973.393 1743.61,937.298 1768.81,972.362 1794.01,964.983 1819.22,963.137 \n",
       "  1844.42,953.634 1869.62,997.469 1894.82,986.87 1920.03,960.586 1945.23,996.887 1970.43,981.389 1995.64,1020.91 2020.84,976.011 2046.04,964.056 2071.24,955.157 \n",
       "  2096.45,969.014 2121.65,939.407 2146.85,943.921 2172.05,953.066 2197.26,973.381 2222.46,979.018 2247.66,962.141 2272.86,962.259 2298.07,925.159 2323.27,978.378 \n",
       "  \n",
       "  \"/>\n",
       "</svg>\n"
      ]
     },
     "execution_count": 11,
     "metadata": {},
     "output_type": "execute_result"
    }
   ],
   "source": [
    "plot(p1,p2)"
   ]
  },
  {
   "cell_type": "code",
   "execution_count": 12,
   "id": "f4c61a7d-534b-43c7-92e0-cc6f7339b028",
   "metadata": {},
   "outputs": [],
   "source": [
    "savefig(\"DU-stabilize-SDE.pdf\")"
   ]
  }
 ],
 "metadata": {
  "kernelspec": {
   "display_name": "Julia 1.8.2",
   "language": "julia",
   "name": "julia-1.8"
  },
  "language_info": {
   "file_extension": ".jl",
   "mimetype": "application/julia",
   "name": "julia",
   "version": "1.8.2"
  }
 },
 "nbformat": 4,
 "nbformat_minor": 5
}
