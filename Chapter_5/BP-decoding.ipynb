{
 "cells": [
  {
   "cell_type": "markdown",
   "metadata": {},
   "source": [
    "# 微分可能ビリーフロパゲーション復号法\n",
    "\n",
    "Copyright (c) 2022 Tadashi Wadayama  \n",
    "Released under the MIT license  \n",
    "https://opensource.org/licenses/mit-license.php"
   ]
  },
  {
   "cell_type": "code",
   "execution_count": 1,
   "metadata": {},
   "outputs": [],
   "source": [
    "using LinearAlgebra"
   ]
  },
  {
   "cell_type": "markdown",
   "metadata": {},
   "source": [
    "## 検査行列定義ファイル(alist形式)\n",
    "\n",
    "検査行列定義ファイルは、alist形式を利用します。\n",
    "alist形式の定義は\n",
    "\n",
    "http://www.inference.org.uk/mackay/codes/alist.html\n",
    "\n",
    "を参照してください。\n",
    "\n",
    "定義ファイル類は下記のサイトを御覧ください。\n",
    "\n",
    "http://www.inference.org.uk/mackay/codes/data.html\n",
    "\n",
    "https://www.uni-kl.de/channel-codes/ml-simulation-results/"
   ]
  },
  {
   "cell_type": "code",
   "execution_count": 2,
   "metadata": {},
   "outputs": [
    {
     "data": {
      "text/plain": [
       "\"6.3.alist\""
      ]
     },
     "execution_count": 2,
     "metadata": {},
     "output_type": "execute_result"
    }
   ],
   "source": [
    "filename = \"6.3.alist\""
   ]
  },
  {
   "cell_type": "markdown",
   "metadata": {},
   "source": [
    "## Alist ファイルの読み込み"
   ]
  },
  {
   "cell_type": "code",
   "execution_count": 3,
   "metadata": {},
   "outputs": [
    {
     "name": "stdout",
     "output_type": "stream",
     "text": [
      "n = 6\n",
      "m = 3\n",
      "cmax = 2\n",
      "rmax = 3\n"
     ]
    }
   ],
   "source": [
    "fp = open(filename, \"r\") \n",
    "dict = Dict()\n",
    "rdict = Dict()\n",
    "\n",
    "line = readline(fp)\n",
    "u = split(line, \" \") \n",
    "n = parse(Int64,u[1])\n",
    "m = parse(Int64,u[2])\n",
    "println(\"n = \", n) \n",
    "println(\"m = \", m)\n",
    "line = readline(fp)\n",
    "u = split(line, \" \") \n",
    "cmax = parse(Int64,u[1])\n",
    "rmax = parse(Int64,u[2]) \n",
    "println(\"cmax = \", cmax) \n",
    "println(\"rmax = \", rmax)\n",
    "line = readline(fp)\n",
    "line = readline(fp)\n",
    "id = 1\n",
    "for i in 1:n\n",
    "    line = readline(fp) \n",
    "    u = split(line, \" \") \n",
    "    for j in 1:cmax\n",
    "        v = parse(Int64, u[j])\n",
    "        if v != 0\n",
    "            dict[(v,i)] = id\n",
    "            rdict[id] = (v,i)\n",
    "            id += 1         \n",
    "        end\n",
    "    end\n",
    "end\n",
    "esize = length(dict)\n",
    "\n",
    "H = zeros(Int, m,n)\n",
    "for x in keys(dict)\n",
    "    H[x[1], x[2]] = 1\n",
    "end\n",
    "\n",
    "U = zeros(Int, n, esize)\n",
    "for edge in dict\n",
    "    j = edge[2]\n",
    "    i = edge[1][2]\n",
    "    U[i,j]=1\n",
    "end\n",
    "\n",
    "V = zeros(Int, m, esize)\n",
    "for edge in dict\n",
    "    j = edge[2]\n",
    "    i = edge[1][1]\n",
    "    V[i,j]=1\n",
    "end"
   ]
  },
  {
   "cell_type": "markdown",
   "metadata": {},
   "source": [
    "### 微分可能ビリーフプロパゲーション復号法\n",
    "\n",
    "下記の実装は、数値計算誤差に弱いので反復計算には向きません。\n",
    "数値誤差対策については、BP-train.ipynbに利用されている実装を参考にしてください。"
   ]
  },
  {
   "cell_type": "code",
   "execution_count": 4,
   "metadata": {},
   "outputs": [
    {
     "data": {
      "text/plain": [
       "6-element Vector{Float64}:\n",
       " 4.39741886230254\n",
       " 1.6925246559341063\n",
       " 1.7110998961710588\n",
       " 1.7110998961710584\n",
       " 2.083964089240627\n",
       " 2.703277039402432"
      ]
     },
     "execution_count": 4,
     "metadata": {},
     "output_type": "execute_result"
    }
   ],
   "source": [
    "var = 0.794328\n",
    "lambda = 2.0*[1.620803, 0.264281, -0.031637, \n",
    "    -0.127654, 0.746347, 1.003543]/var\n",
    "alpha = zeros(esize) \n",
    "beta = zeros(esize)\n",
    "bmod(x) = x-2*floor(x/2)\n",
    "for i in 1:3\n",
    "    beta = (U'*U-I)*alpha + U'*lambda\n",
    "    tmp = exp.((V'*V-I)*log.(abs.(tanh.(beta/2))))\n",
    "    alpha_abs = 2*atanh.(tmp)\n",
    "    tmp = 1 .- 2*V'*bmod.(V*((-sign.(beta).+ 1)/2))\n",
    "    alpha_sign = tmp .* sign.(beta)\n",
    "    alpha = alpha_sign .* alpha_abs \n",
    "end\n",
    "    gamma = U*alpha + lambda"
   ]
  },
  {
   "cell_type": "markdown",
   "metadata": {},
   "source": [
    "### 対数事後確率比\n",
    "\n",
    "上記の設定において、対数事後確率比をBP復号法により計算すると\n",
    "\n",
    "4.397419\n",
    "1.692525\n",
    "1.711101\n",
    "1.711101\n",
    "2.083965\n",
    "2.703277\n",
    "\n",
    "となることが知られている(和田山著「誤り訂正技術の基礎」演習問題14.4)。\n",
    "上記の計算結果は十分な精度で一致している。"
   ]
  }
 ],
 "metadata": {
  "kernelspec": {
   "display_name": "Julia 1.8.2",
   "language": "julia",
   "name": "julia-1.8"
  },
  "language_info": {
   "file_extension": ".jl",
   "mimetype": "application/julia",
   "name": "julia",
   "version": "1.8.2"
  }
 },
 "nbformat": 4,
 "nbformat_minor": 4
}
