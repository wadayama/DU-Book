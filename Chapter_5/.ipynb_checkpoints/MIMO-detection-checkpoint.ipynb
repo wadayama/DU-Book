{
 "cells": [
  {
   "cell_type": "markdown",
   "id": "6efaac1f-6691-42e6-86e6-f005a5bdeb34",
   "metadata": {},
   "source": [
    "# ニューラルネットーワークに基づく(実数)MIMO検出\n",
    "\n",
    "Copyright (c) 2022 Tadashi Wadayama  \n",
    "Released under the MIT license  \n",
    "https://opensource.org/licenses/mit-license.php"
   ]
  },
  {
   "cell_type": "code",
   "execution_count": 82,
   "id": "bd7dcec3-1add-49f9-b090-8eddea834977",
   "metadata": {},
   "outputs": [],
   "source": [
    "using LinearAlgebra\n",
    "using Plots\n",
    "gr()\n",
    "using Random\n",
    "Random.seed!(1)\n",
    "using Flux"
   ]
  },
  {
   "cell_type": "markdown",
   "id": "a98dc6db-c796-4628-abff-43acd7d4c53d",
   "metadata": {},
   "source": [
    "### グローバル変数の設定"
   ]
  },
  {
   "cell_type": "code",
   "execution_count": 83,
   "id": "a9474368-8bcf-4268-9771-27a9492928cb",
   "metadata": {},
   "outputs": [
    {
     "data": {
      "text/plain": [
       "0.01"
      ]
     },
     "execution_count": 83,
     "metadata": {},
     "output_type": "execute_result"
    }
   ],
   "source": [
    "K = 50 \n",
    "noise_std = 0.75\n",
    "n = 4\n",
    "h = 50\n",
    "H = randn(n,n)\n",
    "adam_lr = 0.01"
   ]
  },
  {
   "cell_type": "code",
   "execution_count": 84,
   "id": "8193b35f-39a5-49bb-b789-fa6e4129c0dd",
   "metadata": {},
   "outputs": [
    {
     "name": "stdout",
     "output_type": "stream",
     "text": [
      "[0.2972879845354616 -0.839026854388764 0.2290095549097807 0.5837082875687786; 0.3823959677906078 0.31111133849833383 -2.2670863488005306 0.9632716050381906; -0.5976344767282311 2.2950878238373105 0.5299655761667461 0.45879095505371686; -0.01044524463737564 -0.050451229933665284 0.43142152642291204 -0.5223367574215084]\n"
     ]
    }
   ],
   "source": [
    "println(H)"
   ]
  },
  {
   "cell_type": "markdown",
   "id": "656ed6f6-d03f-4477-bd9b-d151afd23567",
   "metadata": {},
   "source": [
    "### ミニバッチ生成関数"
   ]
  },
  {
   "cell_type": "code",
   "execution_count": 85,
   "id": "22a7d994-010d-4c83-8064-15fcb1fca1e0",
   "metadata": {},
   "outputs": [
    {
     "data": {
      "text/plain": [
       "mini_batch (generic function with 1 method)"
      ]
     },
     "execution_count": 85,
     "metadata": {},
     "output_type": "execute_result"
    }
   ],
   "source": [
    "function mini_batch(K)\n",
    "    x = 1.0 .- 2.0*rand(0:1, n, K)\n",
    "    y = H*x + noise_std*randn(n, K)\n",
    "    return x,y\n",
    "end"
   ]
  },
  {
   "cell_type": "markdown",
   "id": "2b8cafb8-5cbb-453c-a1fa-7d036021968d",
   "metadata": {},
   "source": [
    "### ネットワーク構造の定義"
   ]
  },
  {
   "cell_type": "code",
   "execution_count": 86,
   "id": "0f6fc909-001c-4ae5-b432-d4ccb67dc2c7",
   "metadata": {},
   "outputs": [
    {
     "data": {
      "text/plain": [
       "detector (generic function with 1 method)"
      ]
     },
     "execution_count": 86,
     "metadata": {},
     "output_type": "execute_result"
    }
   ],
   "source": [
    "layer1 = Dense(n, h) \n",
    "layer2 = Dense(h, h) \n",
    "layer3 = Dense(h, n) \n",
    "function detector(x)\n",
    "    x = relu.(layer1(x))\n",
    "    x = relu.(layer2(x))\n",
    "    x = tanh.(layer3(x))\n",
    "    return x\n",
    "end"
   ]
  },
  {
   "cell_type": "markdown",
   "id": "80128f40-b148-4dae-a52e-14510611f96f",
   "metadata": {},
   "source": [
    "### 学習プロセス"
   ]
  },
  {
   "cell_type": "code",
   "execution_count": 87,
   "id": "eb73b0b9-703b-4c70-b50e-de69a9bc5d78",
   "metadata": {},
   "outputs": [
    {
     "name": "stdout",
     "output_type": "stream",
     "text": [
      "40.50489921130954\n",
      "39.19253350512622\n",
      "54.97720835986238\n",
      "37.522830596656405\n",
      "47.177756500637095\n"
     ]
    }
   ],
   "source": [
    "opt = ADAM(adam_lr) \n",
    "train_itr = 500\n",
    "loss(x,y) = norm(x-y)^2\n",
    "\n",
    "ps = Flux.params(layer1, layer2, layer3)\n",
    "for i in 1:train_itr\n",
    "    x,y = mini_batch(K)\n",
    "    gs = gradient(ps) do\n",
    "        x̂ = detector(y)\n",
    "        loss(x, x̂)\n",
    "    end\n",
    "    Flux.Optimise.update!(opt, ps, gs)\n",
    "    if i % 100 == 0\n",
    "        x,y = mini_batch(K)\n",
    "        x̂ = detector(y)\n",
    "        println(loss(x, x̂))\n",
    "    end\n",
    "end"
   ]
  },
  {
   "cell_type": "markdown",
   "id": "03f631b1-bd97-4bf1-b345-f01b4f6c6a33",
   "metadata": {},
   "source": [
    "### シンボル誤り率を測定する (ニューラル推定器)"
   ]
  },
  {
   "cell_type": "code",
   "execution_count": 88,
   "id": "f5853a42-df94-46bc-9d46-be4eea72e615",
   "metadata": {},
   "outputs": [
    {
     "name": "stdout",
     "output_type": "stream",
     "text": [
      "total_syms = 200000\n",
      "error_syms = 13264\n",
      "symbols error rate = 0.06632\n"
     ]
    }
   ],
   "source": [
    "total_syms = 0\n",
    "error_syms = 0\n",
    "num_loops = 1000\n",
    "\n",
    "for i in 1:num_loops\n",
    "    x, y = mini_batch(K)\n",
    "    x̂ = detector(y)\n",
    "    total_syms += n*K\n",
    "    error_syms += sum(sign.(x̂) .!= x)\n",
    "end\n",
    "println(\"total_syms = \", total_syms)\n",
    "println(\"error_syms = \", error_syms)\n",
    "println(\"symbols error rate = \", error_syms/total_syms)"
   ]
  },
  {
   "cell_type": "markdown",
   "id": "f25bd212-25b9-4b2c-be61-3b576a295d09",
   "metadata": {},
   "source": [
    "### シンボル誤り率を測定する (ZF推定器)"
   ]
  },
  {
   "cell_type": "code",
   "execution_count": 89,
   "id": "56e95965-295c-47aa-b10d-a3cada28ea92",
   "metadata": {},
   "outputs": [
    {
     "name": "stdout",
     "output_type": "stream",
     "text": [
      "total_syms = 200000\n",
      "error_syms = 53896\n",
      "symbols error rate = 0.26948\n"
     ]
    }
   ],
   "source": [
    "total_syms = 0\n",
    "error_syms = 0\n",
    "num_loops = 1000\n",
    "Hinv = inv(H)\n",
    "for i in 1:num_loops\n",
    "    x, y = mini_batch(K)\n",
    "    x̂ = Hinv*y\n",
    "    total_syms += n*K\n",
    "    error_syms += sum(sign.(x̂) .!= x)\n",
    "end\n",
    "println(\"total_syms = \", total_syms)\n",
    "println(\"error_syms = \", error_syms)\n",
    "println(\"symbols error rate = \", error_syms/total_syms)"
   ]
  },
  {
   "cell_type": "code",
   "execution_count": null,
   "id": "08274bb1-e4fe-4eb4-bb05-c70ec70f7d31",
   "metadata": {},
   "outputs": [],
   "source": []
  }
 ],
 "metadata": {
  "kernelspec": {
   "display_name": "Julia 1.6.0",
   "language": "julia",
   "name": "julia-1.6"
  },
  "language_info": {
   "file_extension": ".jl",
   "mimetype": "application/julia",
   "name": "julia",
   "version": "1.6.0"
  }
 },
 "nbformat": 4,
 "nbformat_minor": 5
}
