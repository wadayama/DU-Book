{
 "cells": [
  {
   "cell_type": "markdown",
   "id": "43444302",
   "metadata": {},
   "source": [
    "# Flux/Zygote + CUDAのデモ\n",
    "\n",
    "Copyright (c) 2022 Tadashi Wadayama  \n",
    "Released under the MIT license  \n",
    "https://opensource.org/licenses/mit-license.php"
   ]
  },
  {
   "cell_type": "code",
   "execution_count": 1,
   "id": "187e0563",
   "metadata": {},
   "outputs": [],
   "source": [
    "using LinearAlgebra\n",
    "using Plots\n",
    "gr()\n",
    "using Random\n",
    "Random.seed!(1)\n",
    "using Flux\n",
    "using CUDA"
   ]
  },
  {
   "cell_type": "markdown",
   "id": "a70b68db",
   "metadata": {},
   "source": [
    "### CUDAが利用できるかどうか確認"
   ]
  },
  {
   "cell_type": "code",
   "execution_count": 2,
   "id": "cdf4dab0",
   "metadata": {},
   "outputs": [
    {
     "data": {
      "text/plain": [
       "true"
      ]
     },
     "execution_count": 2,
     "metadata": {},
     "output_type": "execute_result"
    }
   ],
   "source": [
    "CUDA.functional()"
   ]
  },
  {
   "cell_type": "markdown",
   "id": "ad9a9d44",
   "metadata": {},
   "source": [
    "### CPU計算 vs GPU計算 \n",
    "\n",
    "各セルを2回実行して比較をしてください。"
   ]
  },
  {
   "cell_type": "code",
   "execution_count": 19,
   "id": "aaaa0a15",
   "metadata": {},
   "outputs": [
    {
     "name": "stdout",
     "output_type": "stream",
     "text": [
      "  0.000256 seconds (2 allocations: 312.578 KiB)\n"
     ]
    }
   ],
   "source": [
    "A = randn(200,200)\n",
    "B = randn(200,200)\n",
    "@time C = A*B;"
   ]
  },
  {
   "cell_type": "code",
   "execution_count": 20,
   "id": "387ed911",
   "metadata": {},
   "outputs": [
    {
     "name": "stdout",
     "output_type": "stream",
     "text": [
      "  0.000095 seconds (57 allocations: 1.281 KiB)\n"
     ]
    }
   ],
   "source": [
    "A = cu(randn(200,200))\n",
    "B = cu(randn(200,200))\n",
    "@time C = A*B;"
   ]
  },
  {
   "cell_type": "code",
   "execution_count": 3,
   "id": "0723c3b3",
   "metadata": {},
   "outputs": [
    {
     "data": {
      "text/plain": [
       "f (generic function with 1 method)"
      ]
     },
     "execution_count": 3,
     "metadata": {},
     "output_type": "execute_result"
    }
   ],
   "source": [
    "f(x) = 4*x[1]^2 + x[2]^2"
   ]
  },
  {
   "cell_type": "markdown",
   "id": "78e39d32",
   "metadata": {},
   "source": [
    "### GPU に送りたい行列などにcu()をつける"
   ]
  },
  {
   "cell_type": "code",
   "execution_count": 6,
   "id": "95a51631",
   "metadata": {},
   "outputs": [
    {
     "data": {
      "text/plain": [
       "2-element CuArray{Float32, 1}:\n",
       " 0.8667514\n",
       " 1.6776252"
      ]
     },
     "execution_count": 6,
     "metadata": {},
     "output_type": "execute_result"
    }
   ],
   "source": [
    "x0 = cu(randn(2))"
   ]
  },
  {
   "cell_type": "markdown",
   "id": "ecd9829a",
   "metadata": {},
   "source": [
    "### 勾配法の実装\n",
    "\n",
    "自動微分に加えてFluxの最適化関数(勾配法)の利用"
   ]
  },
  {
   "cell_type": "code",
   "execution_count": 7,
   "id": "17e097af",
   "metadata": {},
   "outputs": [
    {
     "name": "stderr",
     "output_type": "stream",
     "text": [
      "┌ Warning: Performing scalar operations on GPU arrays: This is very slow, consider disallowing these operations with `allowscalar(false)`\n",
      "└ @ GPUArrays /home/user/.julia/packages/GPUArrays/Z5nPF/src/host/indexing.jl:64\n"
     ]
    },
    {
     "name": "stdout",
     "output_type": "stream",
     "text": [
      "Float32[0.17335027, 1.3421001]\n",
      "Float32[0.034670055, 1.0736802]\n",
      "Float32[0.0069340114, 0.8589441]\n",
      "Float32[0.0013868022, 0.6871553]\n",
      "Float32[0.00027736044, 0.5497242]\n",
      "Float32[5.547209f-5, 0.43977937]\n",
      "Float32[1.1094417f-5, 0.3518235]\n",
      "Float32[2.2188833f-6, 0.2814588]\n",
      "Float32[4.4377668f-7, 0.22516704]\n",
      "Float32[8.875534f-8, 0.18013363]\n"
     ]
    }
   ],
   "source": [
    "opt = Descent(0.1)\n",
    "x = x0\n",
    "for i in 1:10\n",
    "    ps = params(x)\n",
    "    gs = gradient(ps) do\n",
    "        f(x)\n",
    "    end\n",
    "    Flux.Optimise.update!(opt, ps, gs)\n",
    "    println(x)\n",
    "end"
   ]
  },
  {
   "cell_type": "code",
   "execution_count": 8,
   "id": "000e2cc7",
   "metadata": {},
   "outputs": [
    {
     "data": {
      "text/plain": [
       "2-element CuArray{Float32, 1}:\n",
       " 8.875534f-8\n",
       " 0.18013363"
      ]
     },
     "execution_count": 8,
     "metadata": {},
     "output_type": "execute_result"
    }
   ],
   "source": [
    "x"
   ]
  },
  {
   "cell_type": "code",
   "execution_count": null,
   "id": "4eea04ba",
   "metadata": {},
   "outputs": [],
   "source": []
  }
 ],
 "metadata": {
  "kernelspec": {
   "display_name": "Julia 1.6.0",
   "language": "julia",
   "name": "julia-1.6"
  },
  "language_info": {
   "file_extension": ".jl",
   "mimetype": "application/julia",
   "name": "julia",
   "version": "1.6.0"
  }
 },
 "nbformat": 4,
 "nbformat_minor": 5
}
