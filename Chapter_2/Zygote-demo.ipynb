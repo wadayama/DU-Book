{
 "cells": [
  {
   "cell_type": "markdown",
   "id": "f04c1d7e-ccd8-46d5-9f14-7177e871b9fc",
   "metadata": {},
   "source": [
    "# Flux/Zygote のデモ\n",
    "\n",
    "Copyright (c) 2022 Tadashi Wadayama  \n",
    "Released under the MIT license  \n",
    "https://opensource.org/licenses/mit-license.php"
   ]
  },
  {
   "cell_type": "code",
   "execution_count": 4,
   "id": "58874940-6024-45fd-820f-715459d1c0a9",
   "metadata": {},
   "outputs": [],
   "source": [
    "using LinearAlgebra\n",
    "using Plots\n",
    "gr()\n",
    "using Flux"
   ]
  },
  {
   "cell_type": "code",
   "execution_count": 5,
   "id": "413bf273-10fe-433c-aafd-4f5e7f549b01",
   "metadata": {},
   "outputs": [
    {
     "data": {
      "text/plain": [
       "2-element Vector{Float64}:\n",
       " 7.0\n",
       " 1.0"
      ]
     },
     "execution_count": 5,
     "metadata": {},
     "output_type": "execute_result"
    }
   ],
   "source": [
    "f(x) = (x[1] + x[2])*x[1]^2\n",
    "x = [1.0, 2.0]\n",
    "ps = Flux.params(x)\n",
    "gs = Flux.gradient(ps) do\n",
    "    f(x)\n",
    "end\n",
    "gs[x]"
   ]
  },
  {
   "cell_type": "code",
   "execution_count": null,
   "id": "7f6d1efb-ae45-404d-b2ba-d68ed4344cb9",
   "metadata": {},
   "outputs": [],
   "source": []
  }
 ],
 "metadata": {
  "kernelspec": {
   "display_name": "Julia 1.8.2",
   "language": "julia",
   "name": "julia-1.8"
  },
  "language_info": {
   "file_extension": ".jl",
   "mimetype": "application/julia",
   "name": "julia",
   "version": "1.8.2"
  }
 },
 "nbformat": 4,
 "nbformat_minor": 5
}
