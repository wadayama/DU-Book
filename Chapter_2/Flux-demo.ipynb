{
 "cells": [
  {
   "cell_type": "markdown",
   "id": "30a15c2b-2460-455f-a4ac-b50109d3ea01",
   "metadata": {},
   "source": [
    "# Flux/Zygote のデモ（２）\n",
    "\n",
    "Zygoteの自動微分を利用した勾配法\n",
    "\n",
    "Copyright (c) 2022 Tadashi Wadayama  \n",
    "Released under the MIT license  \n",
    "https://opensource.org/licenses/mit-license.php"
   ]
  },
  {
   "cell_type": "code",
   "execution_count": 1,
   "id": "4321f00d-f2e1-4fe5-9908-485e5f8f0f28",
   "metadata": {},
   "outputs": [],
   "source": [
    "using LinearAlgebra\n",
    "using Plots\n",
    "gr()\n",
    "using Random\n",
    "Random.seed!(1)\n",
    "using Flux"
   ]
  },
  {
   "cell_type": "code",
   "execution_count": 2,
   "id": "e02abb41-a7e7-42ec-8466-efb0cf0fe0af",
   "metadata": {},
   "outputs": [
    {
     "data": {
      "text/plain": [
       "f (generic function with 1 method)"
      ]
     },
     "execution_count": 2,
     "metadata": {},
     "output_type": "execute_result"
    }
   ],
   "source": [
    "f(x) = 4*x[1]^2 + x[2]^2"
   ]
  },
  {
   "cell_type": "code",
   "execution_count": 3,
   "id": "d7fd9a58-3178-4860-8614-6799b8e7bcae",
   "metadata": {},
   "outputs": [
    {
     "data": {
      "text/plain": [
       "2-element Vector{Float64}:\n",
       " -1.0427524178910967\n",
       " -0.3291338458564041"
      ]
     },
     "execution_count": 3,
     "metadata": {},
     "output_type": "execute_result"
    }
   ],
   "source": [
    "x0 = randn(2)"
   ]
  },
  {
   "cell_type": "markdown",
   "id": "5d45f209-4280-4fb7-8b3c-0c1b2c83ee39",
   "metadata": {},
   "source": [
    "### 勾配法の実装(1)\n",
    "\n",
    "明示的に勾配ベクトルを記述"
   ]
  },
  {
   "cell_type": "code",
   "execution_count": 4,
   "id": "76dc1968-1a83-49c1-ac3e-e2e74d1bda73",
   "metadata": {},
   "outputs": [
    {
     "name": "stdout",
     "output_type": "stream",
     "text": [
      "[-0.20855048357821926, -0.26330707668512326]\n",
      "[-0.04171009671564385, -0.21064566134809862]\n",
      "[-0.008342019343128768, -0.1685165290784789]\n",
      "[-0.0016684038686257535, -0.1348132232627831]\n",
      "[-0.0003336807737251506, -0.10785057861022648]\n",
      "[-6.673615474503012e-5, -0.08628046288818118]\n",
      "[-1.334723094900602e-5, -0.06902437031054495]\n",
      "[-2.6694461898012025e-6, -0.05521949624843596]\n",
      "[-5.338892379602405e-7, -0.04417559699874877]\n",
      "[-1.0677784759204806e-7, -0.03534047759899901]\n"
     ]
    }
   ],
   "source": [
    "x = x0\n",
    "for i in 1:10\n",
    "    x = x - 0.1*[8*x[1], 2*x[2]]\n",
    "    println(x)\n",
    "end"
   ]
  },
  {
   "cell_type": "markdown",
   "id": "cf7926f4-51ce-4a53-b826-0e9a829be04f",
   "metadata": {},
   "source": [
    "### 勾配法の実装(2)\n",
    "\n",
    "Zygote.jlによる自動微分(gradient)を利用"
   ]
  },
  {
   "cell_type": "code",
   "execution_count": 5,
   "id": "5c5a8273-bcd2-40cd-b798-911300311dee",
   "metadata": {},
   "outputs": [
    {
     "name": "stdout",
     "output_type": "stream",
     "text": [
      "[-0.20855048357821926, -0.26330707668512326]\n",
      "[-0.04171009671564385, -0.21064566134809862]\n",
      "[-0.008342019343128768, -0.1685165290784789]\n",
      "[-0.0016684038686257535, -0.1348132232627831]\n",
      "[-0.0003336807737251506, -0.10785057861022648]\n",
      "[-6.673615474503012e-5, -0.08628046288818118]\n",
      "[-1.334723094900602e-5, -0.06902437031054495]\n",
      "[-2.6694461898012025e-6, -0.05521949624843596]\n",
      "[-5.338892379602405e-7, -0.04417559699874877]\n",
      "[-1.0677784759204806e-7, -0.03534047759899901]\n"
     ]
    }
   ],
   "source": [
    "x = x0\n",
    "for i in 1:10\n",
    "    ps = Flux.params(x)\n",
    "    gs = Flux.gradient(ps) do\n",
    "        f(x)\n",
    "    end\n",
    "    x = x - 0.1*gs[x]\n",
    "    println(x)\n",
    "end"
   ]
  },
  {
   "cell_type": "markdown",
   "id": "69901917-12b2-4819-8173-f015a569a56d",
   "metadata": {},
   "source": [
    "### 勾配法の実装(3)\n",
    "\n",
    "自動微分に加えてFluxの最適化関数(勾配法)の利用"
   ]
  },
  {
   "cell_type": "code",
   "execution_count": 6,
   "id": "33881410-1ab0-44fc-91fa-99fdc8e58d65",
   "metadata": {},
   "outputs": [
    {
     "name": "stdout",
     "output_type": "stream",
     "text": [
      "[-0.20855048357821926, -0.26330707668512326]\n",
      "[-0.04171009671564385, -0.21064566134809862]\n",
      "[-0.008342019343128768, -0.1685165290784789]\n",
      "[-0.0016684038686257535, -0.1348132232627831]\n",
      "[-0.0003336807737251506, -0.10785057861022648]\n",
      "[-6.673615474503012e-5, -0.08628046288818118]\n",
      "[-1.334723094900602e-5, -0.06902437031054495]\n",
      "[-2.6694461898012025e-6, -0.05521949624843596]\n",
      "[-5.338892379602405e-7, -0.04417559699874877]\n",
      "[-1.0677784759204806e-7, -0.03534047759899901]\n"
     ]
    }
   ],
   "source": [
    "opt = Flux.Descent(0.1)\n",
    "x = x0\n",
    "for i in 1:10\n",
    "    ps = Flux.params(x)\n",
    "    gs = Flux.gradient(ps) do\n",
    "        f(x)\n",
    "    end\n",
    "    Flux.Optimise.update!(opt, ps, gs)\n",
    "    println(x)\n",
    "end"
   ]
  },
  {
   "cell_type": "code",
   "execution_count": null,
   "id": "eb742a83-473f-4dda-95d0-f5b63ebde5d0",
   "metadata": {},
   "outputs": [],
   "source": []
  }
 ],
 "metadata": {
  "kernelspec": {
   "display_name": "Julia 1.8.2",
   "language": "julia",
   "name": "julia-1.8"
  },
  "language_info": {
   "file_extension": ".jl",
   "mimetype": "application/julia",
   "name": "julia",
   "version": "1.8.2"
  }
 },
 "nbformat": 4,
 "nbformat_minor": 5
}
