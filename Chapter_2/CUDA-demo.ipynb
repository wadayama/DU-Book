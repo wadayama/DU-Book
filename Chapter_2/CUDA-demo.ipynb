{
 "cells": [
  {
   "cell_type": "markdown",
   "id": "43444302",
   "metadata": {},
   "source": [
    "# Flux/Zygote + CUDAのデモ\n",
    "\n",
    "Copyright (c) 2022 Tadashi Wadayama  \n",
    "Released under the MIT license  \n",
    "https://opensource.org/licenses/mit-license.php"
   ]
  },
  {
   "cell_type": "code",
   "execution_count": 9,
   "id": "187e0563",
   "metadata": {},
   "outputs": [],
   "source": [
    "using LinearAlgebra\n",
    "using Plots\n",
    "gr()\n",
    "using Random\n",
    "Random.seed!(1)\n",
    "using Flux\n",
    "using CUDA"
   ]
  },
  {
   "cell_type": "markdown",
   "id": "a70b68db",
   "metadata": {},
   "source": [
    "### CUDAが利用できるかどうか確認"
   ]
  },
  {
   "cell_type": "code",
   "execution_count": 10,
   "id": "cdf4dab0",
   "metadata": {},
   "outputs": [
    {
     "data": {
      "text/plain": [
       "false"
      ]
     },
     "execution_count": 10,
     "metadata": {},
     "output_type": "execute_result"
    }
   ],
   "source": [
    "CUDA.functional()"
   ]
  },
  {
   "cell_type": "markdown",
   "id": "ad9a9d44",
   "metadata": {},
   "source": [
    "### CPU計算 vs GPU計算 \n",
    "\n",
    "各セルを2回実行して比較をしてください。"
   ]
  },
  {
   "cell_type": "code",
   "execution_count": 11,
   "id": "aaaa0a15",
   "metadata": {},
   "outputs": [
    {
     "name": "stdout",
     "output_type": "stream",
     "text": [
      "  0.000437 seconds (2 allocations: 312.547 KiB)\n"
     ]
    }
   ],
   "source": [
    "A = randn(200,200)\n",
    "B = randn(200,200)\n",
    "@time C = A*B;"
   ]
  },
  {
   "cell_type": "code",
   "execution_count": 12,
   "id": "387ed911",
   "metadata": {},
   "outputs": [
    {
     "ename": "LoadError",
     "evalue": "Could not find the CUDA driver library. Please make sure you have installed the NVIDIA driver for your GPU.\nIf you're sure it's installed, look for `libcuda.so` in your system and make sure it's discoverable by the linker.\nTypically, that involves an entry in '/etc/ld.so.conf', or setting LD_LIBRARY_PATH.",
     "output_type": "error",
     "traceback": [
      "Could not find the CUDA driver library. Please make sure you have installed the NVIDIA driver for your GPU.\nIf you're sure it's installed, look for `libcuda.so` in your system and make sure it's discoverable by the linker.\nTypically, that involves an entry in '/etc/ld.so.conf', or setting LD_LIBRARY_PATH.",
      "",
      "Stacktrace:",
      "  [1] libcuda()",
      "    @ CUDA ~/.julia/packages/CUDA/DfvRa/lib/cudadrv/CUDAdrv.jl:153",
      "  [2] macro expansion",
      "    @ ~/.julia/packages/CUDA/DfvRa/lib/cudadrv/libcuda.jl:29 [inlined]",
      "  [3] macro expansion",
      "    @ ~/.julia/packages/CUDA/DfvRa/lib/cudadrv/error.jl:95 [inlined]",
      "  [4] cuDeviceGet",
      "    @ ~/.julia/packages/CUDA/DfvRa/lib/utils/call.jl:26 [inlined]",
      "  [5] CuDevice",
      "    @ ~/.julia/packages/CUDA/DfvRa/lib/cudadrv/devices.jl:17 [inlined]",
      "  [6] CUDA.TaskLocalState()",
      "    @ CUDA ~/.julia/packages/CUDA/DfvRa/lib/cudadrv/state.jl:50",
      "  [7] task_local_state!()",
      "    @ CUDA ~/.julia/packages/CUDA/DfvRa/lib/cudadrv/state.jl:73",
      "  [8] active_state",
      "    @ ~/.julia/packages/CUDA/DfvRa/lib/cudadrv/state.jl:106 [inlined]",
      "  [9] #_alloc#170",
      "    @ ~/.julia/packages/CUDA/DfvRa/src/pool.jl:309 [inlined]",
      " [10] #alloc#169",
      "    @ ~/.julia/packages/CUDA/DfvRa/src/pool.jl:299 [inlined]",
      " [11] alloc",
      "    @ ~/.julia/packages/CUDA/DfvRa/src/pool.jl:293 [inlined]",
      " [12] CuArray{Float32, 2, CUDA.Mem.DeviceBuffer}(#unused#::UndefInitializer, dims::Tuple{Int64, Int64})",
      "    @ CUDA ~/.julia/packages/CUDA/DfvRa/src/array.jl:42",
      " [13] CuArray",
      "    @ ~/.julia/packages/CUDA/DfvRa/src/array.jl:291 [inlined]",
      " [14] adapt_storage(#unused#::CUDA.CuArrayAdaptor{CUDA.Mem.DeviceBuffer}, xs::Matrix{Float64})",
      "    @ CUDA ~/.julia/packages/CUDA/DfvRa/src/array.jl:539",
      " [15] adapt_structure",
      "    @ ~/.julia/packages/Adapt/LAQOx/src/Adapt.jl:57 [inlined]",
      " [16] adapt",
      "    @ ~/.julia/packages/Adapt/LAQOx/src/Adapt.jl:40 [inlined]",
      " [17] #cu#193",
      "    @ ~/.julia/packages/CUDA/DfvRa/src/array.jl:591 [inlined]",
      " [18] cu(xs::Matrix{Float64})",
      "    @ CUDA ~/.julia/packages/CUDA/DfvRa/src/array.jl:591",
      " [19] top-level scope",
      "    @ In[12]:1",
      " [20] eval",
      "    @ ./boot.jl:368 [inlined]",
      " [21] include_string(mapexpr::typeof(REPL.softscope), mod::Module, code::String, filename::String)",
      "    @ Base ./loading.jl:1428"
     ]
    }
   ],
   "source": [
    "A = cu(randn(200,200))\n",
    "B = cu(randn(200,200))\n",
    "@time C = A*B;"
   ]
  },
  {
   "cell_type": "code",
   "execution_count": 13,
   "id": "0723c3b3",
   "metadata": {},
   "outputs": [
    {
     "data": {
      "text/plain": [
       "f (generic function with 1 method)"
      ]
     },
     "execution_count": 13,
     "metadata": {},
     "output_type": "execute_result"
    }
   ],
   "source": [
    "f(x) = 4*x[1]^2 + x[2]^2"
   ]
  },
  {
   "cell_type": "markdown",
   "id": "78e39d32",
   "metadata": {},
   "source": [
    "### GPU に送りたい行列などにcu()をつける"
   ]
  },
  {
   "cell_type": "code",
   "execution_count": 14,
   "id": "95a51631",
   "metadata": {},
   "outputs": [
    {
     "ename": "LoadError",
     "evalue": "Could not find the CUDA driver library. Please make sure you have installed the NVIDIA driver for your GPU.\nIf you're sure it's installed, look for `libcuda.so` in your system and make sure it's discoverable by the linker.\nTypically, that involves an entry in '/etc/ld.so.conf', or setting LD_LIBRARY_PATH.",
     "output_type": "error",
     "traceback": [
      "Could not find the CUDA driver library. Please make sure you have installed the NVIDIA driver for your GPU.\nIf you're sure it's installed, look for `libcuda.so` in your system and make sure it's discoverable by the linker.\nTypically, that involves an entry in '/etc/ld.so.conf', or setting LD_LIBRARY_PATH.",
      "",
      "Stacktrace:",
      "  [1] libcuda()",
      "    @ CUDA ~/.julia/packages/CUDA/DfvRa/lib/cudadrv/CUDAdrv.jl:153",
      "  [2] macro expansion",
      "    @ ~/.julia/packages/CUDA/DfvRa/lib/cudadrv/libcuda.jl:29 [inlined]",
      "  [3] macro expansion",
      "    @ ~/.julia/packages/CUDA/DfvRa/lib/cudadrv/error.jl:95 [inlined]",
      "  [4] cuDeviceGet",
      "    @ ~/.julia/packages/CUDA/DfvRa/lib/utils/call.jl:26 [inlined]",
      "  [5] CuDevice",
      "    @ ~/.julia/packages/CUDA/DfvRa/lib/cudadrv/devices.jl:17 [inlined]",
      "  [6] CUDA.TaskLocalState()",
      "    @ CUDA ~/.julia/packages/CUDA/DfvRa/lib/cudadrv/state.jl:50",
      "  [7] task_local_state!()",
      "    @ CUDA ~/.julia/packages/CUDA/DfvRa/lib/cudadrv/state.jl:73",
      "  [8] active_state",
      "    @ ~/.julia/packages/CUDA/DfvRa/lib/cudadrv/state.jl:106 [inlined]",
      "  [9] #_alloc#170",
      "    @ ~/.julia/packages/CUDA/DfvRa/src/pool.jl:309 [inlined]",
      " [10] #alloc#169",
      "    @ ~/.julia/packages/CUDA/DfvRa/src/pool.jl:299 [inlined]",
      " [11] alloc",
      "    @ ~/.julia/packages/CUDA/DfvRa/src/pool.jl:293 [inlined]",
      " [12] CuArray",
      "    @ ~/.julia/packages/CUDA/DfvRa/src/array.jl:42 [inlined]",
      " [13] CuArray",
      "    @ ~/.julia/packages/CUDA/DfvRa/src/array.jl:291 [inlined]",
      " [14] adapt_storage(#unused#::CUDA.CuArrayAdaptor{CUDA.Mem.DeviceBuffer}, xs::Vector{Float64})",
      "    @ CUDA ~/.julia/packages/CUDA/DfvRa/src/array.jl:539",
      " [15] adapt_structure",
      "    @ ~/.julia/packages/Adapt/LAQOx/src/Adapt.jl:57 [inlined]",
      " [16] adapt",
      "    @ ~/.julia/packages/Adapt/LAQOx/src/Adapt.jl:40 [inlined]",
      " [17] #cu#193",
      "    @ ~/.julia/packages/CUDA/DfvRa/src/array.jl:591 [inlined]",
      " [18] cu(xs::Vector{Float64})",
      "    @ CUDA ~/.julia/packages/CUDA/DfvRa/src/array.jl:591",
      " [19] top-level scope",
      "    @ In[14]:1",
      " [20] eval",
      "    @ ./boot.jl:368 [inlined]",
      " [21] include_string(mapexpr::typeof(REPL.softscope), mod::Module, code::String, filename::String)",
      "    @ Base ./loading.jl:1428"
     ]
    }
   ],
   "source": [
    "x0 = cu(randn(2))"
   ]
  },
  {
   "cell_type": "markdown",
   "id": "ecd9829a",
   "metadata": {},
   "source": [
    "### 勾配法の実装\n",
    "\n",
    "自動微分に加えてFluxの最適化関数(勾配法)の利用"
   ]
  },
  {
   "cell_type": "code",
   "execution_count": 15,
   "id": "17e097af",
   "metadata": {},
   "outputs": [
    {
     "ename": "LoadError",
     "evalue": "UndefVarError: x0 not defined",
     "output_type": "error",
     "traceback": [
      "UndefVarError: x0 not defined",
      "",
      "Stacktrace:",
      " [1] top-level scope",
      "   @ In[15]:2",
      " [2] eval",
      "   @ ./boot.jl:368 [inlined]",
      " [3] include_string(mapexpr::typeof(REPL.softscope), mod::Module, code::String, filename::String)",
      "   @ Base ./loading.jl:1428"
     ]
    }
   ],
   "source": [
    "opt = Descent(0.1)\n",
    "x = x0\n",
    "for i in 1:10\n",
    "    ps = Flux.params(x)\n",
    "    gs = Flux.gradient(ps) do\n",
    "        f(x)\n",
    "    end\n",
    "    Flux.Optimise.update!(opt, ps, gs)\n",
    "    println(x)\n",
    "end"
   ]
  },
  {
   "cell_type": "code",
   "execution_count": 16,
   "id": "000e2cc7",
   "metadata": {},
   "outputs": [
    {
     "ename": "LoadError",
     "evalue": "UndefVarError: x not defined",
     "output_type": "error",
     "traceback": [
      "UndefVarError: x not defined",
      "",
      "Stacktrace:",
      " [1] top-level scope",
      "   @ :0",
      " [2] eval",
      "   @ ./boot.jl:368 [inlined]",
      " [3] include_string(mapexpr::typeof(REPL.softscope), mod::Module, code::String, filename::String)",
      "   @ Base ./loading.jl:1428"
     ]
    }
   ],
   "source": [
    "x"
   ]
  },
  {
   "cell_type": "code",
   "execution_count": null,
   "id": "4eea04ba",
   "metadata": {},
   "outputs": [],
   "source": []
  }
 ],
 "metadata": {
  "kernelspec": {
   "display_name": "Julia 1.8.2",
   "language": "julia",
   "name": "julia-1.8"
  },
  "language_info": {
   "file_extension": ".jl",
   "mimetype": "application/julia",
   "name": "julia",
   "version": "1.8.2"
  }
 },
 "nbformat": 4,
 "nbformat_minor": 5
}
